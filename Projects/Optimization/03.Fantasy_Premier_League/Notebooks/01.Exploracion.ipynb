{
 "cells": [
  {
   "cell_type": "markdown",
   "metadata": {},
   "source": [
    "## **Librerías**"
   ]
  },
  {
   "cell_type": "code",
   "execution_count": 1,
   "metadata": {},
   "outputs": [],
   "source": [
    "import pandas as pd\n",
    "import numpy as np"
   ]
  },
  {
   "cell_type": "code",
   "execution_count": 2,
   "metadata": {},
   "outputs": [],
   "source": [
    "pd.options.display.max_columns = False"
   ]
  },
  {
   "cell_type": "code",
   "execution_count": 3,
   "metadata": {},
   "outputs": [],
   "source": [
    "from ortools.sat.python import cp_model "
   ]
  },
  {
   "cell_type": "markdown",
   "metadata": {},
   "source": [
    "## **Datos**"
   ]
  },
  {
   "cell_type": "code",
   "execution_count": 4,
   "metadata": {},
   "outputs": [],
   "source": [
    "df_players = pd.read_csv('../Data/players.csv')"
   ]
  },
  {
   "cell_type": "code",
   "execution_count": 5,
   "metadata": {},
   "outputs": [
    {
     "data": {
      "text/html": [
       "<div>\n",
       "<style scoped>\n",
       "    .dataframe tbody tr th:only-of-type {\n",
       "        vertical-align: middle;\n",
       "    }\n",
       "\n",
       "    .dataframe tbody tr th {\n",
       "        vertical-align: top;\n",
       "    }\n",
       "\n",
       "    .dataframe thead th {\n",
       "        text-align: right;\n",
       "    }\n",
       "</style>\n",
       "<table border=\"1\" class=\"dataframe\">\n",
       "  <thead>\n",
       "    <tr style=\"text-align: right;\">\n",
       "      <th></th>\n",
       "      <th>id</th>\n",
       "      <th>name</th>\n",
       "      <th>now_cost</th>\n",
       "      <th>position</th>\n",
       "      <th>team</th>\n",
       "      <th>web_name</th>\n",
       "      <th>transfers_in_event</th>\n",
       "      <th>influence_rank_type</th>\n",
       "      <th>news_added</th>\n",
       "      <th>ict_index_rank_type</th>\n",
       "      <th>assists</th>\n",
       "      <th>selected_rank</th>\n",
       "      <th>direct_freekicks_order</th>\n",
       "      <th>starts_per_90</th>\n",
       "      <th>goals_conceded</th>\n",
       "      <th>threat_rank_type</th>\n",
       "      <th>status</th>\n",
       "      <th>ep_this</th>\n",
       "      <th>news</th>\n",
       "      <th>selected_rank_type</th>\n",
       "      <th>goals_scored</th>\n",
       "      <th>influence_rank</th>\n",
       "      <th>goals_conceded_per_90</th>\n",
       "      <th>selected_by_percent</th>\n",
       "      <th>in_dreamteam</th>\n",
       "      <th>points_per_game_rank</th>\n",
       "      <th>expected_goal_involvements_per_90</th>\n",
       "      <th>influence</th>\n",
       "      <th>form_rank_type</th>\n",
       "      <th>expected_goals_conceded_per_90</th>\n",
       "      <th>chance_of_playing_this_round</th>\n",
       "      <th>ep_next</th>\n",
       "      <th>expected_assists</th>\n",
       "      <th>expected_goals_conceded</th>\n",
       "      <th>points_per_game</th>\n",
       "      <th>cost_change_start</th>\n",
       "      <th>transfers_in</th>\n",
       "      <th>starts</th>\n",
       "      <th>cost_change_start_fall</th>\n",
       "      <th>creativity</th>\n",
       "      <th>saves_per_90</th>\n",
       "      <th>threat_rank</th>\n",
       "      <th>penalties_saved</th>\n",
       "      <th>points_per_game_rank_type</th>\n",
       "      <th>own_goals</th>\n",
       "      <th>bonus</th>\n",
       "      <th>penalties_missed</th>\n",
       "      <th>expected_goals</th>\n",
       "      <th>chance_of_playing_next_round</th>\n",
       "      <th>event_points</th>\n",
       "      <th>clean_sheets</th>\n",
       "      <th>clean_sheets_per_90</th>\n",
       "      <th>transfers_out</th>\n",
       "      <th>cost_change_event</th>\n",
       "      <th>penalties_order</th>\n",
       "      <th>expected_goals_per_90</th>\n",
       "      <th>creativity_rank_type</th>\n",
       "      <th>expected_assists_per_90</th>\n",
       "      <th>value_season</th>\n",
       "      <th>transfers_out_event</th>\n",
       "      <th>form</th>\n",
       "      <th>bps</th>\n",
       "      <th>saves</th>\n",
       "      <th>expected_goal_involvements</th>\n",
       "      <th>form_rank</th>\n",
       "      <th>creativity_rank</th>\n",
       "      <th>corners_and_indirect_freekicks_order</th>\n",
       "      <th>threat</th>\n",
       "      <th>dreamteam_count</th>\n",
       "      <th>now_cost_rank_type</th>\n",
       "      <th>ict_index</th>\n",
       "      <th>now_cost_rank</th>\n",
       "      <th>minutes</th>\n",
       "      <th>yellow_cards</th>\n",
       "      <th>cost_change_event_fall</th>\n",
       "      <th>red_cards</th>\n",
       "      <th>value_form</th>\n",
       "      <th>ict_index_rank</th>\n",
       "      <th>total_points</th>\n",
       "    </tr>\n",
       "  </thead>\n",
       "  <tbody>\n",
       "    <tr>\n",
       "      <th>53</th>\n",
       "      <td>51</td>\n",
       "      <td>Tyrone Mings</td>\n",
       "      <td>41</td>\n",
       "      <td>DEF</td>\n",
       "      <td>Aston Villa</td>\n",
       "      <td>Mings</td>\n",
       "      <td>44</td>\n",
       "      <td>167</td>\n",
       "      <td>2023-08-12T21:30:06.077936Z</td>\n",
       "      <td>159</td>\n",
       "      <td>0</td>\n",
       "      <td>171</td>\n",
       "      <td>NaN</td>\n",
       "      <td>3.0</td>\n",
       "      <td>2</td>\n",
       "      <td>146</td>\n",
       "      <td>i</td>\n",
       "      <td>0.0</td>\n",
       "      <td>Knee injury - Unknown return date</td>\n",
       "      <td>64</td>\n",
       "      <td>0</td>\n",
       "      <td>461</td>\n",
       "      <td>6.0</td>\n",
       "      <td>1.2</td>\n",
       "      <td>False</td>\n",
       "      <td>605</td>\n",
       "      <td>0.51</td>\n",
       "      <td>3.6</td>\n",
       "      <td>208</td>\n",
       "      <td>3.24</td>\n",
       "      <td>0.0</td>\n",
       "      <td>0.0</td>\n",
       "      <td>0.16</td>\n",
       "      <td>1.08</td>\n",
       "      <td>0.0</td>\n",
       "      <td>-4</td>\n",
       "      <td>10034</td>\n",
       "      <td>1</td>\n",
       "      <td>4</td>\n",
       "      <td>13.0</td>\n",
       "      <td>0.0</td>\n",
       "      <td>403</td>\n",
       "      <td>0</td>\n",
       "      <td>232</td>\n",
       "      <td>0</td>\n",
       "      <td>0</td>\n",
       "      <td>0</td>\n",
       "      <td>0.01</td>\n",
       "      <td>0.0</td>\n",
       "      <td>0</td>\n",
       "      <td>0</td>\n",
       "      <td>0.0</td>\n",
       "      <td>1063230</td>\n",
       "      <td>0</td>\n",
       "      <td>NaN</td>\n",
       "      <td>0.03</td>\n",
       "      <td>137</td>\n",
       "      <td>0.48</td>\n",
       "      <td>0.0</td>\n",
       "      <td>865</td>\n",
       "      <td>0.0</td>\n",
       "      <td>5</td>\n",
       "      <td>0</td>\n",
       "      <td>0.17</td>\n",
       "      <td>518</td>\n",
       "      <td>384</td>\n",
       "      <td>NaN</td>\n",
       "      <td>5.0</td>\n",
       "      <td>0</td>\n",
       "      <td>160</td>\n",
       "      <td>2.2</td>\n",
       "      <td>626</td>\n",
       "      <td>30</td>\n",
       "      <td>0</td>\n",
       "      <td>0</td>\n",
       "      <td>0</td>\n",
       "      <td>0.0</td>\n",
       "      <td>447</td>\n",
       "      <td>0</td>\n",
       "    </tr>\n",
       "  </tbody>\n",
       "</table>\n",
       "</div>"
      ],
      "text/plain": [
       "    id          name  now_cost  ... value_form ict_index_rank total_points\n",
       "53  51  Tyrone Mings        41  ...        0.0            447            0\n",
       "\n",
       "[1 rows x 79 columns]"
      ]
     },
     "execution_count": 5,
     "metadata": {},
     "output_type": "execute_result"
    }
   ],
   "source": [
    "df_players.sample()"
   ]
  },
  {
   "cell_type": "markdown",
   "metadata": {},
   "source": [
    "## **Ejercicio de Optimización**"
   ]
  },
  {
   "cell_type": "markdown",
   "metadata": {},
   "source": [
    "### **Restricciones**"
   ]
  },
  {
   "cell_type": "markdown",
   "metadata": {},
   "source": [
    "- Tenemos que elegir 2 porteros, 5 defensas, 5 centrocampistas y 3 delanteros (un total de 15 jugadores)\n",
    "\n",
    "- No podemos gastar más de 100 millones de libras\n",
    "\n",
    "- No podemos elegir más de 3 jugadores del mismo equipo (por ejemplo, no podemos elegir 4 jugadores del Arsenal o 10 jugadores del Liverpool. Esta es una regla impuesta por FPL).\n",
    "\n",
    "- Cada jugador solo puede ser elegido una vez"
   ]
  },
  {
   "cell_type": "markdown",
   "metadata": {},
   "source": [
    "### **Variables Globales**"
   ]
  },
  {
   "cell_type": "code",
   "execution_count": 6,
   "metadata": {},
   "outputs": [],
   "source": [
    "PRESUPUESTO = 1000"
   ]
  },
  {
   "cell_type": "code",
   "execution_count": 7,
   "metadata": {},
   "outputs": [],
   "source": [
    "POSITION_MAP = {\n",
    "    'Goalkeeper': {\n",
    "        'code': 'GKP',\n",
    "        'count': 2\n",
    "    },\n",
    "    'Defender': {\n",
    "        'code': 'DEF',\n",
    "        'count': 5\n",
    "    },\n",
    "    'Midfielder': {\n",
    "        'code': 'MID',\n",
    "        'count': 5\n",
    "    },\n",
    "    'Forward': {\n",
    "        'code': 'FWD',\n",
    "        'count': 3\n",
    "    }\n",
    "}"
   ]
  },
  {
   "cell_type": "code",
   "execution_count": 8,
   "metadata": {},
   "outputs": [],
   "source": [
    "MAX_PLAYERS_PER_TEAM = 3"
   ]
  },
  {
   "cell_type": "markdown",
   "metadata": {},
   "source": [
    "### **Primer Muestreo - Aleatorio**"
   ]
  },
  {
   "cell_type": "code",
   "execution_count": 9,
   "metadata": {},
   "outputs": [],
   "source": [
    "# Elegimos a nuestro equipo de manera aleatoria\n",
    "random_ids = np.random.choice(df_players['id'], 15)\n",
    "\n",
    "random_players = df_players[df_players['id'].isin(random_ids)].copy()"
   ]
  },
  {
   "cell_type": "code",
   "execution_count": 10,
   "metadata": {},
   "outputs": [
    {
     "data": {
      "text/plain": [
       "80.5"
      ]
     },
     "execution_count": 10,
     "metadata": {},
     "output_type": "execute_result"
    }
   ],
   "source": [
    "# Calculamos el costo de nuestro equipo\n",
    "team_cost = random_players['now_cost'].sum()/10\n",
    "team_cost"
   ]
  },
  {
   "cell_type": "code",
   "execution_count": 11,
   "metadata": {},
   "outputs": [
    {
     "data": {
      "text/plain": [
       "19.6"
      ]
     },
     "execution_count": 11,
     "metadata": {},
     "output_type": "execute_result"
    }
   ],
   "source": [
    "# Calculamos los puntos generados por nuestro equipo\n",
    "team_points = random_players['points_per_game'].sum()\n",
    "team_points"
   ]
  },
  {
   "cell_type": "markdown",
   "metadata": {},
   "source": [
    "### **Modelo - Definición de las restricciones**"
   ]
  },
  {
   "cell_type": "code",
   "execution_count": 12,
   "metadata": {},
   "outputs": [],
   "source": [
    "model = cp_model.CpModel()"
   ]
  },
  {
   "cell_type": "markdown",
   "metadata": {},
   "source": [
    "#### **Definimos a nuestros jugadores**"
   ]
  },
  {
   "cell_type": "code",
   "execution_count": 13,
   "metadata": {},
   "outputs": [],
   "source": [
    "# Inicializamos un diccionario en el que almacenaremos los jugadores con sus ids\n",
    "decision_variables = {}\n",
    "\n",
    "for position, details in POSITION_MAP.items():\n",
    "    players = list(df_players['id'])\n",
    "\n",
    "    player_variables = {i: model.NewBoolVar(f'player_{i}') for i in players}\n",
    "    decision_variables.update(player_variables)"
   ]
  },
  {
   "cell_type": "markdown",
   "metadata": {},
   "source": [
    "#### **Restricción 1 - Número de jugadores por posición**"
   ]
  },
  {
   "cell_type": "code",
   "execution_count": 13,
   "metadata": {},
   "outputs": [],
   "source": [
    "# Vamos a agregar la restricción para cada posición\n",
    "decision_variables = {}\n",
    "\n",
    "\n",
    "for position, details in POSITION_MAP.items():\n",
    "    \n",
    "    # Definimos los jugadores para cada posición y la cantidad de jugadores necesarios para nuestro equipo\n",
    "    players_in_position = list(df_players.query(f'position == \"{details['code']}\"')['id']) \n",
    "    player_count = details['count']\n",
    "\n",
    "    # Creamos un diccionario binario para los jugadores\n",
    "    player_variables = {i: model.NewBoolVar(f'player_{i}') for i in players_in_position}\n",
    "\n",
    "    # player_variables = {i: model.NewBoolVar(f'player_{i}') for i in players}\n",
    "    decision_variables.update(player_variables)\n",
    "\n",
    "    # Sumamos el total de jugadores seleccionados\n",
    "    restriction_player_positions = sum(player_variables.values())\n",
    "\n",
    "    # Agregamos la restricción a nuestro modelo    \n",
    "    model.Add(restriction_player_positions == player_count)"
   ]
  },
  {
   "cell_type": "markdown",
   "metadata": {},
   "source": [
    "#### **Restricción 2 - Presupuesto**"
   ]
  },
  {
   "cell_type": "code",
   "execution_count": 14,
   "metadata": {},
   "outputs": [
    {
     "data": {
      "text/plain": [
       "<ortools.sat.python.cp_model.Constraint at 0x1ab47c3b9b0>"
      ]
     },
     "execution_count": 14,
     "metadata": {},
     "output_type": "execute_result"
    }
   ],
   "source": [
    "# Creamos un diccionario que contiene el costo de cada jugador\n",
    "player_costs = {\n",
    "    player: df_players[df_players['id']==player]['now_cost'].values[0] for player in df_players['id']\n",
    "}\n",
    "\n",
    "# Calculamos el costo toal de los jugadores\n",
    "restriction_cost = {var * player_costs[i] for i, var in decision_variables.items()}\n",
    "\n",
    "# Agregamos la restricción de presupuesto a nuestro modelo\n",
    "model.add(sum(restriction_cost) <= PRESUPUESTO)"
   ]
  },
  {
   "cell_type": "markdown",
   "metadata": {},
   "source": [
    "#### **Restricción 3 - Jugadores del mismo equipo**"
   ]
  },
  {
   "cell_type": "code",
   "execution_count": 15,
   "metadata": {},
   "outputs": [],
   "source": [
    "teams = df_players['team'].unique()"
   ]
  },
  {
   "cell_type": "code",
   "execution_count": 16,
   "metadata": {},
   "outputs": [],
   "source": [
    "# Agregamos la restricción para cada equipo\n",
    "for team in teams:\n",
    "    # Seleccionamos los jugadores del equipo en cuestión\n",
    "    eligible_players = df_players[df_players['team']==team]['id'].values\n",
    "    \n",
    "    # Calculamos la cantidad de jugadores disponibles\n",
    "    restriction_players_team = sum(decision_variables[i] for i in eligible_players)\n",
    "\n",
    "    # Agregamos la restricción al modelo\n",
    "    model.Add(restriction_players_team <= MAX_PLAYERS_PER_TEAM)"
   ]
  },
  {
   "cell_type": "markdown",
   "metadata": {},
   "source": [
    "#### **Función Objetivo**"
   ]
  },
  {
   "cell_type": "code",
   "execution_count": 17,
   "metadata": {},
   "outputs": [
    {
     "data": {
      "text/html": [
       "<div>\n",
       "<style scoped>\n",
       "    .dataframe tbody tr th:only-of-type {\n",
       "        vertical-align: middle;\n",
       "    }\n",
       "\n",
       "    .dataframe tbody tr th {\n",
       "        vertical-align: top;\n",
       "    }\n",
       "\n",
       "    .dataframe thead th {\n",
       "        text-align: right;\n",
       "    }\n",
       "</style>\n",
       "<table border=\"1\" class=\"dataframe\">\n",
       "  <thead>\n",
       "    <tr style=\"text-align: right;\">\n",
       "      <th></th>\n",
       "      <th>name</th>\n",
       "      <th>team</th>\n",
       "      <th>now_cost</th>\n",
       "      <th>position</th>\n",
       "      <th>points_per_game</th>\n",
       "    </tr>\n",
       "  </thead>\n",
       "  <tbody>\n",
       "    <tr>\n",
       "      <th>400</th>\n",
       "      <td>Mohamed Salah</td>\n",
       "      <td>Liverpool</td>\n",
       "      <td>133</td>\n",
       "      <td>MID</td>\n",
       "      <td>7.6</td>\n",
       "    </tr>\n",
       "    <tr>\n",
       "      <th>474</th>\n",
       "      <td>Erling Haaland</td>\n",
       "      <td>Man City</td>\n",
       "      <td>139</td>\n",
       "      <td>FWD</td>\n",
       "      <td>7.5</td>\n",
       "    </tr>\n",
       "    <tr>\n",
       "      <th>313</th>\n",
       "      <td>André Tavares Gomes</td>\n",
       "      <td>Everton</td>\n",
       "      <td>44</td>\n",
       "      <td>MID</td>\n",
       "      <td>7.0</td>\n",
       "    </tr>\n",
       "    <tr>\n",
       "      <th>254</th>\n",
       "      <td>Christopher Nkunku</td>\n",
       "      <td>Chelsea</td>\n",
       "      <td>73</td>\n",
       "      <td>FWD</td>\n",
       "      <td>7.0</td>\n",
       "    </tr>\n",
       "    <tr>\n",
       "      <th>688</th>\n",
       "      <td>Son Heung-min</td>\n",
       "      <td>Spurs</td>\n",
       "      <td>98</td>\n",
       "      <td>MID</td>\n",
       "      <td>6.8</td>\n",
       "    </tr>\n",
       "    <tr>\n",
       "      <th>61</th>\n",
       "      <td>Ollie Watkins</td>\n",
       "      <td>Aston Villa</td>\n",
       "      <td>88</td>\n",
       "      <td>FWD</td>\n",
       "      <td>6.1</td>\n",
       "    </tr>\n",
       "    <tr>\n",
       "      <th>706</th>\n",
       "      <td>Jarrod Bowen</td>\n",
       "      <td>West Ham</td>\n",
       "      <td>78</td>\n",
       "      <td>MID</td>\n",
       "      <td>6.0</td>\n",
       "    </tr>\n",
       "    <tr>\n",
       "      <th>316</th>\n",
       "      <td>Seamus Coleman</td>\n",
       "      <td>Everton</td>\n",
       "      <td>44</td>\n",
       "      <td>DEF</td>\n",
       "      <td>6.0</td>\n",
       "    </tr>\n",
       "    <tr>\n",
       "      <th>17</th>\n",
       "      <td>Bukayo Saka</td>\n",
       "      <td>Arsenal</td>\n",
       "      <td>90</td>\n",
       "      <td>MID</td>\n",
       "      <td>5.8</td>\n",
       "    </tr>\n",
       "    <tr>\n",
       "      <th>125</th>\n",
       "      <td>Bryan Mbeumo</td>\n",
       "      <td>Brentford</td>\n",
       "      <td>68</td>\n",
       "      <td>MID</td>\n",
       "      <td>5.8</td>\n",
       "    </tr>\n",
       "  </tbody>\n",
       "</table>\n",
       "</div>"
      ],
      "text/plain": [
       "                    name         team  now_cost position  points_per_game\n",
       "400        Mohamed Salah    Liverpool       133      MID              7.6\n",
       "474       Erling Haaland     Man City       139      FWD              7.5\n",
       "313  André Tavares Gomes      Everton        44      MID              7.0\n",
       "254   Christopher Nkunku      Chelsea        73      FWD              7.0\n",
       "688        Son Heung-min        Spurs        98      MID              6.8\n",
       "61         Ollie Watkins  Aston Villa        88      FWD              6.1\n",
       "706         Jarrod Bowen     West Ham        78      MID              6.0\n",
       "316       Seamus Coleman      Everton        44      DEF              6.0\n",
       "17           Bukayo Saka      Arsenal        90      MID              5.8\n",
       "125         Bryan Mbeumo    Brentford        68      MID              5.8"
      ]
     },
     "execution_count": 17,
     "metadata": {},
     "output_type": "execute_result"
    }
   ],
   "source": [
    "# Tomaremos como variable objetivo la cantidad de puntos promedio por juego\n",
    "df_players[['name', 'team','now_cost', 'position', 'points_per_game']].sort_values('points_per_game', ascending=False).head(10)"
   ]
  },
  {
   "cell_type": "code",
   "execution_count": 18,
   "metadata": {},
   "outputs": [],
   "source": [
    "# Generamos un dicccionario con los puntos por jugador\n",
    "player_points = {\n",
    "    player: df_players[df_players['id']==player]['points_per_game'].values[0] \n",
    "    for player in decision_variables.keys()\n",
    "}"
   ]
  },
  {
   "cell_type": "code",
   "execution_count": 19,
   "metadata": {},
   "outputs": [],
   "source": [
    "total_points = sum((var * player_points[i] for i, var in decision_variables.items()))"
   ]
  },
  {
   "cell_type": "code",
   "execution_count": 20,
   "metadata": {},
   "outputs": [],
   "source": [
    "model.Maximize(total_points)"
   ]
  },
  {
   "cell_type": "markdown",
   "metadata": {},
   "source": [
    "#### **Solución**"
   ]
  },
  {
   "cell_type": "code",
   "execution_count": 21,
   "metadata": {},
   "outputs": [],
   "source": [
    "solver = cp_model.CpSolver()"
   ]
  },
  {
   "cell_type": "code",
   "execution_count": 22,
   "metadata": {},
   "outputs": [],
   "source": [
    "status = solver.Solve(model)"
   ]
  },
  {
   "cell_type": "code",
   "execution_count": 23,
   "metadata": {},
   "outputs": [
    {
     "name": "stdout",
     "output_type": "stream",
     "text": [
      "Se encuentra la solución óptima\n"
     ]
    }
   ],
   "source": [
    "if status == cp_model.OPTIMAL:\n",
    "    print('Se encuentra la solución óptima')"
   ]
  },
  {
   "cell_type": "code",
   "execution_count": 30,
   "metadata": {},
   "outputs": [],
   "source": [
    "fantasy_team = []\n",
    "\n",
    "for i, var in decision_variables.items():\n",
    "    if solver.Value(var) == 1:\n",
    "        player_id = df_players.query(f'id == {i}')['id'].values[0]\n",
    "        \n",
    "        fantasy_team.append(player_id)"
   ]
  },
  {
   "cell_type": "code",
   "execution_count": 37,
   "metadata": {},
   "outputs": [],
   "source": [
    "df_fantasy = df_players[df_players['id'].isin(fantasy_team)].copy()"
   ]
  },
  {
   "cell_type": "code",
   "execution_count": 40,
   "metadata": {},
   "outputs": [
    {
     "data": {
      "text/html": [
       "<div>\n",
       "<style scoped>\n",
       "    .dataframe tbody tr th:only-of-type {\n",
       "        vertical-align: middle;\n",
       "    }\n",
       "\n",
       "    .dataframe tbody tr th {\n",
       "        vertical-align: top;\n",
       "    }\n",
       "\n",
       "    .dataframe thead th {\n",
       "        text-align: right;\n",
       "    }\n",
       "</style>\n",
       "<table border=\"1\" class=\"dataframe\">\n",
       "  <thead>\n",
       "    <tr style=\"text-align: right;\">\n",
       "      <th></th>\n",
       "      <th>name</th>\n",
       "      <th>team</th>\n",
       "      <th>position</th>\n",
       "      <th>now_cost</th>\n",
       "      <th>points_per_game</th>\n",
       "    </tr>\n",
       "  </thead>\n",
       "  <tbody>\n",
       "    <tr>\n",
       "      <th>61</th>\n",
       "      <td>Ollie Watkins</td>\n",
       "      <td>Aston Villa</td>\n",
       "      <td>FWD</td>\n",
       "      <td>88</td>\n",
       "      <td>6.1</td>\n",
       "    </tr>\n",
       "    <tr>\n",
       "      <th>125</th>\n",
       "      <td>Bryan Mbeumo</td>\n",
       "      <td>Brentford</td>\n",
       "      <td>MID</td>\n",
       "      <td>68</td>\n",
       "      <td>5.8</td>\n",
       "    </tr>\n",
       "    <tr>\n",
       "      <th>163</th>\n",
       "      <td>Solly March</td>\n",
       "      <td>Brighton</td>\n",
       "      <td>MID</td>\n",
       "      <td>61</td>\n",
       "      <td>5.6</td>\n",
       "    </tr>\n",
       "    <tr>\n",
       "      <th>254</th>\n",
       "      <td>Christopher Nkunku</td>\n",
       "      <td>Chelsea</td>\n",
       "      <td>FWD</td>\n",
       "      <td>73</td>\n",
       "      <td>7.0</td>\n",
       "    </tr>\n",
       "    <tr>\n",
       "      <th>313</th>\n",
       "      <td>André Tavares Gomes</td>\n",
       "      <td>Everton</td>\n",
       "      <td>MID</td>\n",
       "      <td>44</td>\n",
       "      <td>7.0</td>\n",
       "    </tr>\n",
       "    <tr>\n",
       "      <th>316</th>\n",
       "      <td>Seamus Coleman</td>\n",
       "      <td>Everton</td>\n",
       "      <td>DEF</td>\n",
       "      <td>44</td>\n",
       "      <td>6.0</td>\n",
       "    </tr>\n",
       "    <tr>\n",
       "      <th>327</th>\n",
       "      <td>Vitalii Mykolenko</td>\n",
       "      <td>Everton</td>\n",
       "      <td>DEF</td>\n",
       "      <td>46</td>\n",
       "      <td>4.8</td>\n",
       "    </tr>\n",
       "    <tr>\n",
       "      <th>382</th>\n",
       "      <td>Trent Alexander-Arnold</td>\n",
       "      <td>Liverpool</td>\n",
       "      <td>DEF</td>\n",
       "      <td>83</td>\n",
       "      <td>5.6</td>\n",
       "    </tr>\n",
       "    <tr>\n",
       "      <th>403</th>\n",
       "      <td>Konstantinos Tsimikas</td>\n",
       "      <td>Liverpool</td>\n",
       "      <td>DEF</td>\n",
       "      <td>48</td>\n",
       "      <td>4.5</td>\n",
       "    </tr>\n",
       "    <tr>\n",
       "      <th>474</th>\n",
       "      <td>Erling Haaland</td>\n",
       "      <td>Man City</td>\n",
       "      <td>FWD</td>\n",
       "      <td>139</td>\n",
       "      <td>7.5</td>\n",
       "    </tr>\n",
       "    <tr>\n",
       "      <th>537</th>\n",
       "      <td>Sven Botman</td>\n",
       "      <td>Newcastle</td>\n",
       "      <td>DEF</td>\n",
       "      <td>45</td>\n",
       "      <td>4.6</td>\n",
       "    </tr>\n",
       "    <tr>\n",
       "      <th>688</th>\n",
       "      <td>Son Heung-min</td>\n",
       "      <td>Spurs</td>\n",
       "      <td>MID</td>\n",
       "      <td>98</td>\n",
       "      <td>6.8</td>\n",
       "    </tr>\n",
       "    <tr>\n",
       "      <th>706</th>\n",
       "      <td>Jarrod Bowen</td>\n",
       "      <td>West Ham</td>\n",
       "      <td>MID</td>\n",
       "      <td>78</td>\n",
       "      <td>6.0</td>\n",
       "    </tr>\n",
       "    <tr>\n",
       "      <th>713</th>\n",
       "      <td>Lukasz Fabianski</td>\n",
       "      <td>West Ham</td>\n",
       "      <td>GKP</td>\n",
       "      <td>42</td>\n",
       "      <td>4.0</td>\n",
       "    </tr>\n",
       "    <tr>\n",
       "      <th>732</th>\n",
       "      <td>Daniel Bentley</td>\n",
       "      <td>Wolves</td>\n",
       "      <td>GKP</td>\n",
       "      <td>39</td>\n",
       "      <td>5.3</td>\n",
       "    </tr>\n",
       "  </tbody>\n",
       "</table>\n",
       "</div>"
      ],
      "text/plain": [
       "                       name         team position  now_cost  points_per_game\n",
       "61            Ollie Watkins  Aston Villa      FWD        88              6.1\n",
       "125            Bryan Mbeumo    Brentford      MID        68              5.8\n",
       "163             Solly March     Brighton      MID        61              5.6\n",
       "254      Christopher Nkunku      Chelsea      FWD        73              7.0\n",
       "313     André Tavares Gomes      Everton      MID        44              7.0\n",
       "316          Seamus Coleman      Everton      DEF        44              6.0\n",
       "327       Vitalii Mykolenko      Everton      DEF        46              4.8\n",
       "382  Trent Alexander-Arnold    Liverpool      DEF        83              5.6\n",
       "403   Konstantinos Tsimikas    Liverpool      DEF        48              4.5\n",
       "474          Erling Haaland     Man City      FWD       139              7.5\n",
       "537             Sven Botman    Newcastle      DEF        45              4.6\n",
       "688           Son Heung-min        Spurs      MID        98              6.8\n",
       "706            Jarrod Bowen     West Ham      MID        78              6.0\n",
       "713        Lukasz Fabianski     West Ham      GKP        42              4.0\n",
       "732          Daniel Bentley       Wolves      GKP        39              5.3"
      ]
     },
     "execution_count": 40,
     "metadata": {},
     "output_type": "execute_result"
    }
   ],
   "source": [
    "df_fantasy[['name', 'team', 'position', 'now_cost', 'points_per_game']]"
   ]
  }
 ],
 "metadata": {
  "kernelspec": {
   "display_name": "venv",
   "language": "python",
   "name": "python3"
  },
  "language_info": {
   "codemirror_mode": {
    "name": "ipython",
    "version": 3
   },
   "file_extension": ".py",
   "mimetype": "text/x-python",
   "name": "python",
   "nbconvert_exporter": "python",
   "pygments_lexer": "ipython3",
   "version": "3.12.2"
  }
 },
 "nbformat": 4,
 "nbformat_minor": 2
}
