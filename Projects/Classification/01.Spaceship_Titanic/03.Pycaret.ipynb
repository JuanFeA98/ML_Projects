{
 "cells": [
  {
   "cell_type": "markdown",
   "id": "6c6164a5-3f63-4b0a-9f1e-9ef754a1a3e8",
   "metadata": {},
   "source": [
    "# **Pycaret**"
   ]
  },
  {
   "cell_type": "markdown",
   "id": "c2a4c2fc-7ffa-4ef2-a28b-a1dbdf0a4db4",
   "metadata": {},
   "source": [
    "## **Librerías**"
   ]
  },
  {
   "cell_type": "code",
   "execution_count": 1,
   "id": "4a14f269-f24d-46fc-b67c-e2ba11e45c9e",
   "metadata": {},
   "outputs": [],
   "source": [
    "import pandas as pd\n",
    "import numpy as np\n",
    "import matplotlib.pyplot as plt\n",
    "import seaborn as sns"
   ]
  },
  {
   "cell_type": "code",
   "execution_count": 2,
   "id": "9a238102-76af-497c-aaa5-f79ff1d11e30",
   "metadata": {},
   "outputs": [],
   "source": [
    "pd.options.display.max_columns = False"
   ]
  },
  {
   "cell_type": "code",
   "execution_count": 3,
   "id": "82b03e81-9c3d-44ba-9a1f-c477d5971a9f",
   "metadata": {},
   "outputs": [],
   "source": [
    "from pycaret.classification import *"
   ]
  },
  {
   "cell_type": "code",
   "execution_count": 4,
   "id": "bab39404-8151-4f3a-acdb-2738c3093fb0",
   "metadata": {},
   "outputs": [],
   "source": [
    "from sklearn.model_selection import train_test_split\n",
    "from sklearn.metrics import classification_report, confusion_matrix"
   ]
  },
  {
   "cell_type": "markdown",
   "id": "99541050-cc4d-472c-bbea-2762ed3564d1",
   "metadata": {},
   "source": [
    "## **Datos**"
   ]
  },
  {
   "cell_type": "code",
   "execution_count": 5,
   "id": "796c56fb-5767-40c3-930a-7c7c4336fec4",
   "metadata": {},
   "outputs": [],
   "source": [
    "df = pd.read_csv('./Datos/Model_Data.csv')"
   ]
  },
  {
   "cell_type": "code",
   "execution_count": 6,
   "id": "bfaed66d-5aff-4058-9696-23152e734aa0",
   "metadata": {},
   "outputs": [],
   "source": [
    "X = df.drop('Transported', axis=1)\n",
    "y = df[['Transported']]"
   ]
  },
  {
   "cell_type": "code",
   "execution_count": 7,
   "id": "8fd82b5e-6da8-4c3c-bbb0-786d2885784f",
   "metadata": {},
   "outputs": [],
   "source": [
    "X_train, X_test, y_train, y_test = train_test_split(X, y, test_size=0.3, random_state = 31)"
   ]
  },
  {
   "cell_type": "code",
   "execution_count": 8,
   "id": "83795a5a-7bb5-4175-8211-a4e3ca5ef10e",
   "metadata": {},
   "outputs": [],
   "source": [
    "df_train = pd.merge(X_train.reset_index(), y_train.reset_index()).drop('index', axis=1)\n",
    "df_test = pd.merge(X_test.reset_index(), y_test.reset_index()).drop('index', axis=1)"
   ]
  },
  {
   "cell_type": "markdown",
   "id": "229e70d6-2396-4d1a-96de-68da37174d78",
   "metadata": {},
   "source": [
    "## **Modelamiento**"
   ]
  },
  {
   "cell_type": "code",
   "execution_count": 9,
   "id": "6d771f90-0e1a-4016-94d2-74bf5e83847f",
   "metadata": {},
   "outputs": [
    {
     "data": {
      "text/plain": [
       "Index(['PassengerId', 'HomePlanet', 'CryoSleep', 'Cabin', 'Destination', 'Age',\n",
       "       'VIP', 'RoomService', 'FoodCourt', 'ShoppingMall', 'Spa', 'VRDeck',\n",
       "       'Cabin_Type', 'Cabin_Type_2', 'Earth', 'Europa', 'Mars', '55 Cancri e',\n",
       "       'PSO J318.5-22', 'TRAPPIST-1e', 'A', 'B', 'C', 'D', 'E', 'F', 'G', 'T',\n",
       "       'P', 'S', 'Transported'],\n",
       "      dtype='object')"
      ]
     },
     "execution_count": 9,
     "metadata": {},
     "output_type": "execute_result"
    }
   ],
   "source": [
    "df_train.columns"
   ]
  },
  {
   "cell_type": "code",
   "execution_count": 96,
   "id": "e28a8382-1523-46f8-b4f0-82c806008493",
   "metadata": {},
   "outputs": [
    {
     "data": {
      "text/html": [
       "<style type=\"text/css\">\n",
       "#T_4a822_row37_col1, #T_4a822_row42_col1, #T_4a822_row44_col1, #T_4a822_row52_col1, #T_4a822_row55_col1, #T_4a822_row56_col1, #T_4a822_row58_col1 {\n",
       "  background-color: lightgreen;\n",
       "}\n",
       "</style>\n",
       "<table id=\"T_4a822\">\n",
       "  <thead>\n",
       "    <tr>\n",
       "      <th class=\"blank level0\" >&nbsp;</th>\n",
       "      <th id=\"T_4a822_level0_col0\" class=\"col_heading level0 col0\" >Description</th>\n",
       "      <th id=\"T_4a822_level0_col1\" class=\"col_heading level0 col1\" >Value</th>\n",
       "    </tr>\n",
       "  </thead>\n",
       "  <tbody>\n",
       "    <tr>\n",
       "      <th id=\"T_4a822_level0_row0\" class=\"row_heading level0 row0\" >0</th>\n",
       "      <td id=\"T_4a822_row0_col0\" class=\"data row0 col0\" >session_id</td>\n",
       "      <td id=\"T_4a822_row0_col1\" class=\"data row0 col1\" >6747</td>\n",
       "    </tr>\n",
       "    <tr>\n",
       "      <th id=\"T_4a822_level0_row1\" class=\"row_heading level0 row1\" >1</th>\n",
       "      <td id=\"T_4a822_row1_col0\" class=\"data row1 col0\" >Target</td>\n",
       "      <td id=\"T_4a822_row1_col1\" class=\"data row1 col1\" >Transported</td>\n",
       "    </tr>\n",
       "    <tr>\n",
       "      <th id=\"T_4a822_level0_row2\" class=\"row_heading level0 row2\" >2</th>\n",
       "      <td id=\"T_4a822_row2_col0\" class=\"data row2 col0\" >Target Type</td>\n",
       "      <td id=\"T_4a822_row2_col1\" class=\"data row2 col1\" >Binary</td>\n",
       "    </tr>\n",
       "    <tr>\n",
       "      <th id=\"T_4a822_level0_row3\" class=\"row_heading level0 row3\" >3</th>\n",
       "      <td id=\"T_4a822_row3_col0\" class=\"data row3 col0\" >Label Encoded</td>\n",
       "      <td id=\"T_4a822_row3_col1\" class=\"data row3 col1\" >None</td>\n",
       "    </tr>\n",
       "    <tr>\n",
       "      <th id=\"T_4a822_level0_row4\" class=\"row_heading level0 row4\" >4</th>\n",
       "      <td id=\"T_4a822_row4_col0\" class=\"data row4 col0\" >Original Data</td>\n",
       "      <td id=\"T_4a822_row4_col1\" class=\"data row4 col1\" >(6085, 31)</td>\n",
       "    </tr>\n",
       "    <tr>\n",
       "      <th id=\"T_4a822_level0_row5\" class=\"row_heading level0 row5\" >5</th>\n",
       "      <td id=\"T_4a822_row5_col0\" class=\"data row5 col0\" >Missing Values</td>\n",
       "      <td id=\"T_4a822_row5_col1\" class=\"data row5 col1\" >False</td>\n",
       "    </tr>\n",
       "    <tr>\n",
       "      <th id=\"T_4a822_level0_row6\" class=\"row_heading level0 row6\" >6</th>\n",
       "      <td id=\"T_4a822_row6_col0\" class=\"data row6 col0\" >Numeric Features</td>\n",
       "      <td id=\"T_4a822_row6_col1\" class=\"data row6 col1\" >6</td>\n",
       "    </tr>\n",
       "    <tr>\n",
       "      <th id=\"T_4a822_level0_row7\" class=\"row_heading level0 row7\" >7</th>\n",
       "      <td id=\"T_4a822_row7_col0\" class=\"data row7 col0\" >Categorical Features</td>\n",
       "      <td id=\"T_4a822_row7_col1\" class=\"data row7 col1\" >18</td>\n",
       "    </tr>\n",
       "    <tr>\n",
       "      <th id=\"T_4a822_level0_row8\" class=\"row_heading level0 row8\" >8</th>\n",
       "      <td id=\"T_4a822_row8_col0\" class=\"data row8 col0\" >Ordinal Features</td>\n",
       "      <td id=\"T_4a822_row8_col1\" class=\"data row8 col1\" >False</td>\n",
       "    </tr>\n",
       "    <tr>\n",
       "      <th id=\"T_4a822_level0_row9\" class=\"row_heading level0 row9\" >9</th>\n",
       "      <td id=\"T_4a822_row9_col0\" class=\"data row9 col0\" >High Cardinality Features</td>\n",
       "      <td id=\"T_4a822_row9_col1\" class=\"data row9 col1\" >False</td>\n",
       "    </tr>\n",
       "    <tr>\n",
       "      <th id=\"T_4a822_level0_row10\" class=\"row_heading level0 row10\" >10</th>\n",
       "      <td id=\"T_4a822_row10_col0\" class=\"data row10 col0\" >High Cardinality Method</td>\n",
       "      <td id=\"T_4a822_row10_col1\" class=\"data row10 col1\" >None</td>\n",
       "    </tr>\n",
       "    <tr>\n",
       "      <th id=\"T_4a822_level0_row11\" class=\"row_heading level0 row11\" >11</th>\n",
       "      <td id=\"T_4a822_row11_col0\" class=\"data row11 col0\" >Transformed Train Set</td>\n",
       "      <td id=\"T_4a822_row11_col1\" class=\"data row11 col1\" >(4259, 34)</td>\n",
       "    </tr>\n",
       "    <tr>\n",
       "      <th id=\"T_4a822_level0_row12\" class=\"row_heading level0 row12\" >12</th>\n",
       "      <td id=\"T_4a822_row12_col0\" class=\"data row12 col0\" >Transformed Test Set</td>\n",
       "      <td id=\"T_4a822_row12_col1\" class=\"data row12 col1\" >(1826, 34)</td>\n",
       "    </tr>\n",
       "    <tr>\n",
       "      <th id=\"T_4a822_level0_row13\" class=\"row_heading level0 row13\" >13</th>\n",
       "      <td id=\"T_4a822_row13_col0\" class=\"data row13 col0\" >Shuffle Train-Test</td>\n",
       "      <td id=\"T_4a822_row13_col1\" class=\"data row13 col1\" >True</td>\n",
       "    </tr>\n",
       "    <tr>\n",
       "      <th id=\"T_4a822_level0_row14\" class=\"row_heading level0 row14\" >14</th>\n",
       "      <td id=\"T_4a822_row14_col0\" class=\"data row14 col0\" >Stratify Train-Test</td>\n",
       "      <td id=\"T_4a822_row14_col1\" class=\"data row14 col1\" >False</td>\n",
       "    </tr>\n",
       "    <tr>\n",
       "      <th id=\"T_4a822_level0_row15\" class=\"row_heading level0 row15\" >15</th>\n",
       "      <td id=\"T_4a822_row15_col0\" class=\"data row15 col0\" >Fold Generator</td>\n",
       "      <td id=\"T_4a822_row15_col1\" class=\"data row15 col1\" >KFold</td>\n",
       "    </tr>\n",
       "    <tr>\n",
       "      <th id=\"T_4a822_level0_row16\" class=\"row_heading level0 row16\" >16</th>\n",
       "      <td id=\"T_4a822_row16_col0\" class=\"data row16 col0\" >Fold Number</td>\n",
       "      <td id=\"T_4a822_row16_col1\" class=\"data row16 col1\" >5</td>\n",
       "    </tr>\n",
       "    <tr>\n",
       "      <th id=\"T_4a822_level0_row17\" class=\"row_heading level0 row17\" >17</th>\n",
       "      <td id=\"T_4a822_row17_col0\" class=\"data row17 col0\" >CPU Jobs</td>\n",
       "      <td id=\"T_4a822_row17_col1\" class=\"data row17 col1\" >-1</td>\n",
       "    </tr>\n",
       "    <tr>\n",
       "      <th id=\"T_4a822_level0_row18\" class=\"row_heading level0 row18\" >18</th>\n",
       "      <td id=\"T_4a822_row18_col0\" class=\"data row18 col0\" >Use GPU</td>\n",
       "      <td id=\"T_4a822_row18_col1\" class=\"data row18 col1\" >False</td>\n",
       "    </tr>\n",
       "    <tr>\n",
       "      <th id=\"T_4a822_level0_row19\" class=\"row_heading level0 row19\" >19</th>\n",
       "      <td id=\"T_4a822_row19_col0\" class=\"data row19 col0\" >Log Experiment</td>\n",
       "      <td id=\"T_4a822_row19_col1\" class=\"data row19 col1\" >False</td>\n",
       "    </tr>\n",
       "    <tr>\n",
       "      <th id=\"T_4a822_level0_row20\" class=\"row_heading level0 row20\" >20</th>\n",
       "      <td id=\"T_4a822_row20_col0\" class=\"data row20 col0\" >Experiment Name</td>\n",
       "      <td id=\"T_4a822_row20_col1\" class=\"data row20 col1\" >clf-default-name</td>\n",
       "    </tr>\n",
       "    <tr>\n",
       "      <th id=\"T_4a822_level0_row21\" class=\"row_heading level0 row21\" >21</th>\n",
       "      <td id=\"T_4a822_row21_col0\" class=\"data row21 col0\" >USI</td>\n",
       "      <td id=\"T_4a822_row21_col1\" class=\"data row21 col1\" >0827</td>\n",
       "    </tr>\n",
       "    <tr>\n",
       "      <th id=\"T_4a822_level0_row22\" class=\"row_heading level0 row22\" >22</th>\n",
       "      <td id=\"T_4a822_row22_col0\" class=\"data row22 col0\" >Imputation Type</td>\n",
       "      <td id=\"T_4a822_row22_col1\" class=\"data row22 col1\" >simple</td>\n",
       "    </tr>\n",
       "    <tr>\n",
       "      <th id=\"T_4a822_level0_row23\" class=\"row_heading level0 row23\" >23</th>\n",
       "      <td id=\"T_4a822_row23_col0\" class=\"data row23 col0\" >Iterative Imputation Iteration</td>\n",
       "      <td id=\"T_4a822_row23_col1\" class=\"data row23 col1\" >None</td>\n",
       "    </tr>\n",
       "    <tr>\n",
       "      <th id=\"T_4a822_level0_row24\" class=\"row_heading level0 row24\" >24</th>\n",
       "      <td id=\"T_4a822_row24_col0\" class=\"data row24 col0\" >Numeric Imputer</td>\n",
       "      <td id=\"T_4a822_row24_col1\" class=\"data row24 col1\" >mean</td>\n",
       "    </tr>\n",
       "    <tr>\n",
       "      <th id=\"T_4a822_level0_row25\" class=\"row_heading level0 row25\" >25</th>\n",
       "      <td id=\"T_4a822_row25_col0\" class=\"data row25 col0\" >Iterative Imputation Numeric Model</td>\n",
       "      <td id=\"T_4a822_row25_col1\" class=\"data row25 col1\" >None</td>\n",
       "    </tr>\n",
       "    <tr>\n",
       "      <th id=\"T_4a822_level0_row26\" class=\"row_heading level0 row26\" >26</th>\n",
       "      <td id=\"T_4a822_row26_col0\" class=\"data row26 col0\" >Categorical Imputer</td>\n",
       "      <td id=\"T_4a822_row26_col1\" class=\"data row26 col1\" >constant</td>\n",
       "    </tr>\n",
       "    <tr>\n",
       "      <th id=\"T_4a822_level0_row27\" class=\"row_heading level0 row27\" >27</th>\n",
       "      <td id=\"T_4a822_row27_col0\" class=\"data row27 col0\" >Iterative Imputation Categorical Model</td>\n",
       "      <td id=\"T_4a822_row27_col1\" class=\"data row27 col1\" >None</td>\n",
       "    </tr>\n",
       "    <tr>\n",
       "      <th id=\"T_4a822_level0_row28\" class=\"row_heading level0 row28\" >28</th>\n",
       "      <td id=\"T_4a822_row28_col0\" class=\"data row28 col0\" >Unknown Categoricals Handling</td>\n",
       "      <td id=\"T_4a822_row28_col1\" class=\"data row28 col1\" >least_frequent</td>\n",
       "    </tr>\n",
       "    <tr>\n",
       "      <th id=\"T_4a822_level0_row29\" class=\"row_heading level0 row29\" >29</th>\n",
       "      <td id=\"T_4a822_row29_col0\" class=\"data row29 col0\" >Normalize</td>\n",
       "      <td id=\"T_4a822_row29_col1\" class=\"data row29 col1\" >False</td>\n",
       "    </tr>\n",
       "    <tr>\n",
       "      <th id=\"T_4a822_level0_row30\" class=\"row_heading level0 row30\" >30</th>\n",
       "      <td id=\"T_4a822_row30_col0\" class=\"data row30 col0\" >Normalize Method</td>\n",
       "      <td id=\"T_4a822_row30_col1\" class=\"data row30 col1\" >None</td>\n",
       "    </tr>\n",
       "    <tr>\n",
       "      <th id=\"T_4a822_level0_row31\" class=\"row_heading level0 row31\" >31</th>\n",
       "      <td id=\"T_4a822_row31_col0\" class=\"data row31 col0\" >Transformation</td>\n",
       "      <td id=\"T_4a822_row31_col1\" class=\"data row31 col1\" >False</td>\n",
       "    </tr>\n",
       "    <tr>\n",
       "      <th id=\"T_4a822_level0_row32\" class=\"row_heading level0 row32\" >32</th>\n",
       "      <td id=\"T_4a822_row32_col0\" class=\"data row32 col0\" >Transformation Method</td>\n",
       "      <td id=\"T_4a822_row32_col1\" class=\"data row32 col1\" >None</td>\n",
       "    </tr>\n",
       "    <tr>\n",
       "      <th id=\"T_4a822_level0_row33\" class=\"row_heading level0 row33\" >33</th>\n",
       "      <td id=\"T_4a822_row33_col0\" class=\"data row33 col0\" >PCA</td>\n",
       "      <td id=\"T_4a822_row33_col1\" class=\"data row33 col1\" >False</td>\n",
       "    </tr>\n",
       "    <tr>\n",
       "      <th id=\"T_4a822_level0_row34\" class=\"row_heading level0 row34\" >34</th>\n",
       "      <td id=\"T_4a822_row34_col0\" class=\"data row34 col0\" >PCA Method</td>\n",
       "      <td id=\"T_4a822_row34_col1\" class=\"data row34 col1\" >None</td>\n",
       "    </tr>\n",
       "    <tr>\n",
       "      <th id=\"T_4a822_level0_row35\" class=\"row_heading level0 row35\" >35</th>\n",
       "      <td id=\"T_4a822_row35_col0\" class=\"data row35 col0\" >PCA Components</td>\n",
       "      <td id=\"T_4a822_row35_col1\" class=\"data row35 col1\" >None</td>\n",
       "    </tr>\n",
       "    <tr>\n",
       "      <th id=\"T_4a822_level0_row36\" class=\"row_heading level0 row36\" >36</th>\n",
       "      <td id=\"T_4a822_row36_col0\" class=\"data row36 col0\" >Ignore Low Variance</td>\n",
       "      <td id=\"T_4a822_row36_col1\" class=\"data row36 col1\" >False</td>\n",
       "    </tr>\n",
       "    <tr>\n",
       "      <th id=\"T_4a822_level0_row37\" class=\"row_heading level0 row37\" >37</th>\n",
       "      <td id=\"T_4a822_row37_col0\" class=\"data row37 col0\" >Combine Rare Levels</td>\n",
       "      <td id=\"T_4a822_row37_col1\" class=\"data row37 col1\" >True</td>\n",
       "    </tr>\n",
       "    <tr>\n",
       "      <th id=\"T_4a822_level0_row38\" class=\"row_heading level0 row38\" >38</th>\n",
       "      <td id=\"T_4a822_row38_col0\" class=\"data row38 col0\" >Rare Level Threshold</td>\n",
       "      <td id=\"T_4a822_row38_col1\" class=\"data row38 col1\" >0.100000</td>\n",
       "    </tr>\n",
       "    <tr>\n",
       "      <th id=\"T_4a822_level0_row39\" class=\"row_heading level0 row39\" >39</th>\n",
       "      <td id=\"T_4a822_row39_col0\" class=\"data row39 col0\" >Numeric Binning</td>\n",
       "      <td id=\"T_4a822_row39_col1\" class=\"data row39 col1\" >False</td>\n",
       "    </tr>\n",
       "    <tr>\n",
       "      <th id=\"T_4a822_level0_row40\" class=\"row_heading level0 row40\" >40</th>\n",
       "      <td id=\"T_4a822_row40_col0\" class=\"data row40 col0\" >Remove Outliers</td>\n",
       "      <td id=\"T_4a822_row40_col1\" class=\"data row40 col1\" >False</td>\n",
       "    </tr>\n",
       "    <tr>\n",
       "      <th id=\"T_4a822_level0_row41\" class=\"row_heading level0 row41\" >41</th>\n",
       "      <td id=\"T_4a822_row41_col0\" class=\"data row41 col0\" >Outliers Threshold</td>\n",
       "      <td id=\"T_4a822_row41_col1\" class=\"data row41 col1\" >None</td>\n",
       "    </tr>\n",
       "    <tr>\n",
       "      <th id=\"T_4a822_level0_row42\" class=\"row_heading level0 row42\" >42</th>\n",
       "      <td id=\"T_4a822_row42_col0\" class=\"data row42 col0\" >Remove Multicollinearity</td>\n",
       "      <td id=\"T_4a822_row42_col1\" class=\"data row42 col1\" >True</td>\n",
       "    </tr>\n",
       "    <tr>\n",
       "      <th id=\"T_4a822_level0_row43\" class=\"row_heading level0 row43\" >43</th>\n",
       "      <td id=\"T_4a822_row43_col0\" class=\"data row43 col0\" >Multicollinearity Threshold</td>\n",
       "      <td id=\"T_4a822_row43_col1\" class=\"data row43 col1\" >0.900000</td>\n",
       "    </tr>\n",
       "    <tr>\n",
       "      <th id=\"T_4a822_level0_row44\" class=\"row_heading level0 row44\" >44</th>\n",
       "      <td id=\"T_4a822_row44_col0\" class=\"data row44 col0\" >Remove Perfect Collinearity</td>\n",
       "      <td id=\"T_4a822_row44_col1\" class=\"data row44 col1\" >True</td>\n",
       "    </tr>\n",
       "    <tr>\n",
       "      <th id=\"T_4a822_level0_row45\" class=\"row_heading level0 row45\" >45</th>\n",
       "      <td id=\"T_4a822_row45_col0\" class=\"data row45 col0\" >Clustering</td>\n",
       "      <td id=\"T_4a822_row45_col1\" class=\"data row45 col1\" >False</td>\n",
       "    </tr>\n",
       "    <tr>\n",
       "      <th id=\"T_4a822_level0_row46\" class=\"row_heading level0 row46\" >46</th>\n",
       "      <td id=\"T_4a822_row46_col0\" class=\"data row46 col0\" >Clustering Iteration</td>\n",
       "      <td id=\"T_4a822_row46_col1\" class=\"data row46 col1\" >None</td>\n",
       "    </tr>\n",
       "    <tr>\n",
       "      <th id=\"T_4a822_level0_row47\" class=\"row_heading level0 row47\" >47</th>\n",
       "      <td id=\"T_4a822_row47_col0\" class=\"data row47 col0\" >Polynomial Features</td>\n",
       "      <td id=\"T_4a822_row47_col1\" class=\"data row47 col1\" >False</td>\n",
       "    </tr>\n",
       "    <tr>\n",
       "      <th id=\"T_4a822_level0_row48\" class=\"row_heading level0 row48\" >48</th>\n",
       "      <td id=\"T_4a822_row48_col0\" class=\"data row48 col0\" >Polynomial Degree</td>\n",
       "      <td id=\"T_4a822_row48_col1\" class=\"data row48 col1\" >None</td>\n",
       "    </tr>\n",
       "    <tr>\n",
       "      <th id=\"T_4a822_level0_row49\" class=\"row_heading level0 row49\" >49</th>\n",
       "      <td id=\"T_4a822_row49_col0\" class=\"data row49 col0\" >Trignometry Features</td>\n",
       "      <td id=\"T_4a822_row49_col1\" class=\"data row49 col1\" >False</td>\n",
       "    </tr>\n",
       "    <tr>\n",
       "      <th id=\"T_4a822_level0_row50\" class=\"row_heading level0 row50\" >50</th>\n",
       "      <td id=\"T_4a822_row50_col0\" class=\"data row50 col0\" >Polynomial Threshold</td>\n",
       "      <td id=\"T_4a822_row50_col1\" class=\"data row50 col1\" >None</td>\n",
       "    </tr>\n",
       "    <tr>\n",
       "      <th id=\"T_4a822_level0_row51\" class=\"row_heading level0 row51\" >51</th>\n",
       "      <td id=\"T_4a822_row51_col0\" class=\"data row51 col0\" >Group Features</td>\n",
       "      <td id=\"T_4a822_row51_col1\" class=\"data row51 col1\" >False</td>\n",
       "    </tr>\n",
       "    <tr>\n",
       "      <th id=\"T_4a822_level0_row52\" class=\"row_heading level0 row52\" >52</th>\n",
       "      <td id=\"T_4a822_row52_col0\" class=\"data row52 col0\" >Feature Selection</td>\n",
       "      <td id=\"T_4a822_row52_col1\" class=\"data row52 col1\" >True</td>\n",
       "    </tr>\n",
       "    <tr>\n",
       "      <th id=\"T_4a822_level0_row53\" class=\"row_heading level0 row53\" >53</th>\n",
       "      <td id=\"T_4a822_row53_col0\" class=\"data row53 col0\" >Feature Selection Method</td>\n",
       "      <td id=\"T_4a822_row53_col1\" class=\"data row53 col1\" >classic</td>\n",
       "    </tr>\n",
       "    <tr>\n",
       "      <th id=\"T_4a822_level0_row54\" class=\"row_heading level0 row54\" >54</th>\n",
       "      <td id=\"T_4a822_row54_col0\" class=\"data row54 col0\" >Features Selection Threshold</td>\n",
       "      <td id=\"T_4a822_row54_col1\" class=\"data row54 col1\" >0.800000</td>\n",
       "    </tr>\n",
       "    <tr>\n",
       "      <th id=\"T_4a822_level0_row55\" class=\"row_heading level0 row55\" >55</th>\n",
       "      <td id=\"T_4a822_row55_col0\" class=\"data row55 col0\" >Feature Interaction</td>\n",
       "      <td id=\"T_4a822_row55_col1\" class=\"data row55 col1\" >True</td>\n",
       "    </tr>\n",
       "    <tr>\n",
       "      <th id=\"T_4a822_level0_row56\" class=\"row_heading level0 row56\" >56</th>\n",
       "      <td id=\"T_4a822_row56_col0\" class=\"data row56 col0\" >Feature Ratio</td>\n",
       "      <td id=\"T_4a822_row56_col1\" class=\"data row56 col1\" >True</td>\n",
       "    </tr>\n",
       "    <tr>\n",
       "      <th id=\"T_4a822_level0_row57\" class=\"row_heading level0 row57\" >57</th>\n",
       "      <td id=\"T_4a822_row57_col0\" class=\"data row57 col0\" >Interaction Threshold</td>\n",
       "      <td id=\"T_4a822_row57_col1\" class=\"data row57 col1\" >0.010000</td>\n",
       "    </tr>\n",
       "    <tr>\n",
       "      <th id=\"T_4a822_level0_row58\" class=\"row_heading level0 row58\" >58</th>\n",
       "      <td id=\"T_4a822_row58_col0\" class=\"data row58 col0\" >Fix Imbalance</td>\n",
       "      <td id=\"T_4a822_row58_col1\" class=\"data row58 col1\" >True</td>\n",
       "    </tr>\n",
       "    <tr>\n",
       "      <th id=\"T_4a822_level0_row59\" class=\"row_heading level0 row59\" >59</th>\n",
       "      <td id=\"T_4a822_row59_col0\" class=\"data row59 col0\" >Fix Imbalance Method</td>\n",
       "      <td id=\"T_4a822_row59_col1\" class=\"data row59 col1\" >SMOTE</td>\n",
       "    </tr>\n",
       "  </tbody>\n",
       "</table>\n"
      ],
      "text/plain": [
       "<pandas.io.formats.style.Styler at 0x25eae1eb9a0>"
      ]
     },
     "metadata": {},
     "output_type": "display_data"
    }
   ],
   "source": [
    "setup_output = setup(\n",
    "    session_id = 6747,\n",
    "    data=df_train,\n",
    "    target='Transported',\n",
    "    ignore_features=[\n",
    "        'PassengerId', \n",
    "        'HomePlanet',\n",
    "        'Cabin',\n",
    "        'Destination',\n",
    "        'Cabin_Type',\n",
    "        'Cabin_Type_2'\n",
    "    ],\n",
    "    fold = 5,\n",
    "    #imputation_type='iterative',\n",
    "    fold_strategy = 'kfold',\n",
    "    feature_selection = True,\n",
    "    remove_multicollinearity = True,\n",
    "    #group_features = [\n",
    "        #['RoomService', 'FoodCourt', 'ShoppingMall', 'Spa', 'VRDeck', 'Age'],\n",
    "    #],\n",
    "    feature_ratio=True,\n",
    "    feature_interaction=True,\n",
    "    fix_imbalance=True,\n",
    "    combine_rare_levels=True\n",
    ")"
   ]
  },
  {
   "cell_type": "markdown",
   "id": "1109d2b4-b4c3-4bc0-ad81-dbbc2e3355eb",
   "metadata": {},
   "source": [
    "### **Entrenamiento**"
   ]
  },
  {
   "cell_type": "code",
   "execution_count": 91,
   "id": "e3c4791c-279e-43dc-98ca-11d159b2d0df",
   "metadata": {},
   "outputs": [
    {
     "data": {
      "text/plain": [
       "8028"
      ]
     },
     "execution_count": 91,
     "metadata": {},
     "output_type": "execute_result"
    }
   ],
   "source": [
    "8028"
   ]
  },
  {
   "cell_type": "code",
   "execution_count": 97,
   "id": "a8e94258-03ea-4ce6-8d13-c1433d1c2010",
   "metadata": {},
   "outputs": [
    {
     "data": {
      "text/html": [
       "<style type=\"text/css\">\n",
       "#T_e9b98 th {\n",
       "  text-align: left;\n",
       "}\n",
       "#T_e9b98_row0_col0, #T_e9b98_row0_col3, #T_e9b98_row0_col4, #T_e9b98_row1_col0, #T_e9b98_row1_col1, #T_e9b98_row1_col2, #T_e9b98_row1_col3, #T_e9b98_row1_col4, #T_e9b98_row1_col5, #T_e9b98_row1_col6, #T_e9b98_row1_col7, #T_e9b98_row2_col0, #T_e9b98_row2_col1, #T_e9b98_row2_col2, #T_e9b98_row2_col3, #T_e9b98_row2_col4, #T_e9b98_row2_col5, #T_e9b98_row2_col6, #T_e9b98_row2_col7, #T_e9b98_row3_col0, #T_e9b98_row3_col1, #T_e9b98_row3_col2, #T_e9b98_row3_col3, #T_e9b98_row3_col4, #T_e9b98_row3_col5, #T_e9b98_row3_col6, #T_e9b98_row3_col7, #T_e9b98_row4_col0, #T_e9b98_row4_col1, #T_e9b98_row4_col2, #T_e9b98_row4_col3, #T_e9b98_row4_col4, #T_e9b98_row4_col5, #T_e9b98_row4_col6, #T_e9b98_row4_col7, #T_e9b98_row5_col0, #T_e9b98_row5_col1, #T_e9b98_row5_col2, #T_e9b98_row5_col3, #T_e9b98_row5_col4, #T_e9b98_row5_col5, #T_e9b98_row5_col6, #T_e9b98_row5_col7, #T_e9b98_row6_col0, #T_e9b98_row6_col1, #T_e9b98_row6_col2, #T_e9b98_row6_col3, #T_e9b98_row6_col5, #T_e9b98_row6_col6, #T_e9b98_row6_col7, #T_e9b98_row7_col0, #T_e9b98_row7_col1, #T_e9b98_row7_col2, #T_e9b98_row7_col3, #T_e9b98_row7_col4, #T_e9b98_row7_col5, #T_e9b98_row7_col6, #T_e9b98_row7_col7, #T_e9b98_row8_col0, #T_e9b98_row8_col1, #T_e9b98_row8_col2, #T_e9b98_row8_col3, #T_e9b98_row8_col4, #T_e9b98_row8_col5, #T_e9b98_row8_col6, #T_e9b98_row8_col7, #T_e9b98_row9_col0, #T_e9b98_row9_col1, #T_e9b98_row9_col2, #T_e9b98_row9_col4, #T_e9b98_row9_col5, #T_e9b98_row9_col6, #T_e9b98_row9_col7, #T_e9b98_row10_col0, #T_e9b98_row10_col1, #T_e9b98_row10_col2, #T_e9b98_row10_col3, #T_e9b98_row10_col4, #T_e9b98_row10_col5, #T_e9b98_row10_col6, #T_e9b98_row10_col7, #T_e9b98_row11_col0, #T_e9b98_row11_col1, #T_e9b98_row11_col2, #T_e9b98_row11_col3, #T_e9b98_row11_col4, #T_e9b98_row11_col5, #T_e9b98_row11_col6, #T_e9b98_row11_col7, #T_e9b98_row12_col0, #T_e9b98_row12_col1, #T_e9b98_row12_col2, #T_e9b98_row12_col3, #T_e9b98_row12_col4, #T_e9b98_row12_col5, #T_e9b98_row12_col6, #T_e9b98_row12_col7, #T_e9b98_row13_col0, #T_e9b98_row13_col1, #T_e9b98_row13_col2, #T_e9b98_row13_col3, #T_e9b98_row13_col4, #T_e9b98_row13_col5, #T_e9b98_row13_col6, #T_e9b98_row13_col7 {\n",
       "  text-align: left;\n",
       "}\n",
       "#T_e9b98_row0_col1, #T_e9b98_row0_col2, #T_e9b98_row0_col5, #T_e9b98_row0_col6, #T_e9b98_row0_col7, #T_e9b98_row6_col4, #T_e9b98_row9_col3 {\n",
       "  text-align: left;\n",
       "  background-color: yellow;\n",
       "}\n",
       "#T_e9b98_row0_col8, #T_e9b98_row1_col8, #T_e9b98_row2_col8, #T_e9b98_row3_col8, #T_e9b98_row4_col8, #T_e9b98_row5_col8, #T_e9b98_row6_col8, #T_e9b98_row7_col8, #T_e9b98_row8_col8, #T_e9b98_row10_col8, #T_e9b98_row11_col8, #T_e9b98_row12_col8, #T_e9b98_row13_col8 {\n",
       "  text-align: left;\n",
       "  background-color: lightgrey;\n",
       "}\n",
       "#T_e9b98_row9_col8 {\n",
       "  text-align: left;\n",
       "  background-color: yellow;\n",
       "  background-color: lightgrey;\n",
       "}\n",
       "</style>\n",
       "<table id=\"T_e9b98\">\n",
       "  <thead>\n",
       "    <tr>\n",
       "      <th class=\"blank level0\" >&nbsp;</th>\n",
       "      <th id=\"T_e9b98_level0_col0\" class=\"col_heading level0 col0\" >Model</th>\n",
       "      <th id=\"T_e9b98_level0_col1\" class=\"col_heading level0 col1\" >Accuracy</th>\n",
       "      <th id=\"T_e9b98_level0_col2\" class=\"col_heading level0 col2\" >AUC</th>\n",
       "      <th id=\"T_e9b98_level0_col3\" class=\"col_heading level0 col3\" >Recall</th>\n",
       "      <th id=\"T_e9b98_level0_col4\" class=\"col_heading level0 col4\" >Prec.</th>\n",
       "      <th id=\"T_e9b98_level0_col5\" class=\"col_heading level0 col5\" >F1</th>\n",
       "      <th id=\"T_e9b98_level0_col6\" class=\"col_heading level0 col6\" >Kappa</th>\n",
       "      <th id=\"T_e9b98_level0_col7\" class=\"col_heading level0 col7\" >MCC</th>\n",
       "      <th id=\"T_e9b98_level0_col8\" class=\"col_heading level0 col8\" >TT (Sec)</th>\n",
       "    </tr>\n",
       "  </thead>\n",
       "  <tbody>\n",
       "    <tr>\n",
       "      <th id=\"T_e9b98_level0_row0\" class=\"row_heading level0 row0\" >lightgbm</th>\n",
       "      <td id=\"T_e9b98_row0_col0\" class=\"data row0 col0\" >Light Gradient Boosting Machine</td>\n",
       "      <td id=\"T_e9b98_row0_col1\" class=\"data row0 col1\" >0.8028</td>\n",
       "      <td id=\"T_e9b98_row0_col2\" class=\"data row0 col2\" >0.8869</td>\n",
       "      <td id=\"T_e9b98_row0_col3\" class=\"data row0 col3\" >0.8048</td>\n",
       "      <td id=\"T_e9b98_row0_col4\" class=\"data row0 col4\" >0.8029</td>\n",
       "      <td id=\"T_e9b98_row0_col5\" class=\"data row0 col5\" >0.8034</td>\n",
       "      <td id=\"T_e9b98_row0_col6\" class=\"data row0 col6\" >0.6053</td>\n",
       "      <td id=\"T_e9b98_row0_col7\" class=\"data row0 col7\" >0.6060</td>\n",
       "      <td id=\"T_e9b98_row0_col8\" class=\"data row0 col8\" >0.1220</td>\n",
       "    </tr>\n",
       "    <tr>\n",
       "      <th id=\"T_e9b98_level0_row1\" class=\"row_heading level0 row1\" >gbc</th>\n",
       "      <td id=\"T_e9b98_row1_col0\" class=\"data row1 col0\" >Gradient Boosting Classifier</td>\n",
       "      <td id=\"T_e9b98_row1_col1\" class=\"data row1 col1\" >0.7950</td>\n",
       "      <td id=\"T_e9b98_row1_col2\" class=\"data row1 col2\" >0.8853</td>\n",
       "      <td id=\"T_e9b98_row1_col3\" class=\"data row1 col3\" >0.8162</td>\n",
       "      <td id=\"T_e9b98_row1_col4\" class=\"data row1 col4\" >0.7839</td>\n",
       "      <td id=\"T_e9b98_row1_col5\" class=\"data row1 col5\" >0.7996</td>\n",
       "      <td id=\"T_e9b98_row1_col6\" class=\"data row1 col6\" >0.5899</td>\n",
       "      <td id=\"T_e9b98_row1_col7\" class=\"data row1 col7\" >0.5906</td>\n",
       "      <td id=\"T_e9b98_row1_col8\" class=\"data row1 col8\" >0.4100</td>\n",
       "    </tr>\n",
       "    <tr>\n",
       "      <th id=\"T_e9b98_level0_row2\" class=\"row_heading level0 row2\" >rf</th>\n",
       "      <td id=\"T_e9b98_row2_col0\" class=\"data row2 col0\" >Random Forest Classifier</td>\n",
       "      <td id=\"T_e9b98_row2_col1\" class=\"data row2 col1\" >0.7920</td>\n",
       "      <td id=\"T_e9b98_row2_col2\" class=\"data row2 col2\" >0.8651</td>\n",
       "      <td id=\"T_e9b98_row2_col3\" class=\"data row2 col3\" >0.7549</td>\n",
       "      <td id=\"T_e9b98_row2_col4\" class=\"data row2 col4\" >0.8164</td>\n",
       "      <td id=\"T_e9b98_row2_col5\" class=\"data row2 col5\" >0.7842</td>\n",
       "      <td id=\"T_e9b98_row2_col6\" class=\"data row2 col6\" >0.5839</td>\n",
       "      <td id=\"T_e9b98_row2_col7\" class=\"data row2 col7\" >0.5858</td>\n",
       "      <td id=\"T_e9b98_row2_col8\" class=\"data row2 col8\" >0.2780</td>\n",
       "    </tr>\n",
       "    <tr>\n",
       "      <th id=\"T_e9b98_level0_row3\" class=\"row_heading level0 row3\" >lr</th>\n",
       "      <td id=\"T_e9b98_row3_col0\" class=\"data row3 col0\" >Logistic Regression</td>\n",
       "      <td id=\"T_e9b98_row3_col1\" class=\"data row3 col1\" >0.7894</td>\n",
       "      <td id=\"T_e9b98_row3_col2\" class=\"data row3 col2\" >0.8788</td>\n",
       "      <td id=\"T_e9b98_row3_col3\" class=\"data row3 col3\" >0.8125</td>\n",
       "      <td id=\"T_e9b98_row3_col4\" class=\"data row3 col4\" >0.7773</td>\n",
       "      <td id=\"T_e9b98_row3_col5\" class=\"data row3 col5\" >0.7944</td>\n",
       "      <td id=\"T_e9b98_row3_col6\" class=\"data row3 col6\" >0.5786</td>\n",
       "      <td id=\"T_e9b98_row3_col7\" class=\"data row3 col7\" >0.5795</td>\n",
       "      <td id=\"T_e9b98_row3_col8\" class=\"data row3 col8\" >0.3960</td>\n",
       "    </tr>\n",
       "    <tr>\n",
       "      <th id=\"T_e9b98_level0_row4\" class=\"row_heading level0 row4\" >ada</th>\n",
       "      <td id=\"T_e9b98_row4_col0\" class=\"data row4 col0\" >Ada Boost Classifier</td>\n",
       "      <td id=\"T_e9b98_row4_col1\" class=\"data row4 col1\" >0.7812</td>\n",
       "      <td id=\"T_e9b98_row4_col2\" class=\"data row4 col2\" >0.8713</td>\n",
       "      <td id=\"T_e9b98_row4_col3\" class=\"data row4 col3\" >0.8088</td>\n",
       "      <td id=\"T_e9b98_row4_col4\" class=\"data row4 col4\" >0.7674</td>\n",
       "      <td id=\"T_e9b98_row4_col5\" class=\"data row4 col5\" >0.7874</td>\n",
       "      <td id=\"T_e9b98_row4_col6\" class=\"data row4 col6\" >0.5622</td>\n",
       "      <td id=\"T_e9b98_row4_col7\" class=\"data row4 col7\" >0.5633</td>\n",
       "      <td id=\"T_e9b98_row4_col8\" class=\"data row4 col8\" >0.1640</td>\n",
       "    </tr>\n",
       "    <tr>\n",
       "      <th id=\"T_e9b98_level0_row5\" class=\"row_heading level0 row5\" >et</th>\n",
       "      <td id=\"T_e9b98_row5_col0\" class=\"data row5 col0\" >Extra Trees Classifier</td>\n",
       "      <td id=\"T_e9b98_row5_col1\" class=\"data row5 col1\" >0.7807</td>\n",
       "      <td id=\"T_e9b98_row5_col2\" class=\"data row5 col2\" >0.8470</td>\n",
       "      <td id=\"T_e9b98_row5_col3\" class=\"data row5 col3\" >0.7296</td>\n",
       "      <td id=\"T_e9b98_row5_col4\" class=\"data row5 col4\" >0.8140</td>\n",
       "      <td id=\"T_e9b98_row5_col5\" class=\"data row5 col5\" >0.7692</td>\n",
       "      <td id=\"T_e9b98_row5_col6\" class=\"data row5 col6\" >0.5614</td>\n",
       "      <td id=\"T_e9b98_row5_col7\" class=\"data row5 col7\" >0.5648</td>\n",
       "      <td id=\"T_e9b98_row5_col8\" class=\"data row5 col8\" >0.3000</td>\n",
       "    </tr>\n",
       "    <tr>\n",
       "      <th id=\"T_e9b98_level0_row6\" class=\"row_heading level0 row6\" >lda</th>\n",
       "      <td id=\"T_e9b98_row6_col0\" class=\"data row6 col0\" >Linear Discriminant Analysis</td>\n",
       "      <td id=\"T_e9b98_row6_col1\" class=\"data row6 col1\" >0.7788</td>\n",
       "      <td id=\"T_e9b98_row6_col2\" class=\"data row6 col2\" >0.8606</td>\n",
       "      <td id=\"T_e9b98_row6_col3\" class=\"data row6 col3\" >0.7192</td>\n",
       "      <td id=\"T_e9b98_row6_col4\" class=\"data row6 col4\" >0.8176</td>\n",
       "      <td id=\"T_e9b98_row6_col5\" class=\"data row6 col5\" >0.7651</td>\n",
       "      <td id=\"T_e9b98_row6_col6\" class=\"data row6 col6\" >0.5576</td>\n",
       "      <td id=\"T_e9b98_row6_col7\" class=\"data row6 col7\" >0.5619</td>\n",
       "      <td id=\"T_e9b98_row6_col8\" class=\"data row6 col8\" >0.0640</td>\n",
       "    </tr>\n",
       "    <tr>\n",
       "      <th id=\"T_e9b98_level0_row7\" class=\"row_heading level0 row7\" >ridge</th>\n",
       "      <td id=\"T_e9b98_row7_col0\" class=\"data row7 col0\" >Ridge Classifier</td>\n",
       "      <td id=\"T_e9b98_row7_col1\" class=\"data row7 col1\" >0.7784</td>\n",
       "      <td id=\"T_e9b98_row7_col2\" class=\"data row7 col2\" >0.0000</td>\n",
       "      <td id=\"T_e9b98_row7_col3\" class=\"data row7 col3\" >0.7192</td>\n",
       "      <td id=\"T_e9b98_row7_col4\" class=\"data row7 col4\" >0.8168</td>\n",
       "      <td id=\"T_e9b98_row7_col5\" class=\"data row7 col5\" >0.7648</td>\n",
       "      <td id=\"T_e9b98_row7_col6\" class=\"data row7 col6\" >0.5567</td>\n",
       "      <td id=\"T_e9b98_row7_col7\" class=\"data row7 col7\" >0.5609</td>\n",
       "      <td id=\"T_e9b98_row7_col8\" class=\"data row7 col8\" >0.0480</td>\n",
       "    </tr>\n",
       "    <tr>\n",
       "      <th id=\"T_e9b98_level0_row8\" class=\"row_heading level0 row8\" >knn</th>\n",
       "      <td id=\"T_e9b98_row8_col0\" class=\"data row8 col0\" >K Neighbors Classifier</td>\n",
       "      <td id=\"T_e9b98_row8_col1\" class=\"data row8 col1\" >0.7680</td>\n",
       "      <td id=\"T_e9b98_row8_col2\" class=\"data row8 col2\" >0.8424</td>\n",
       "      <td id=\"T_e9b98_row8_col3\" class=\"data row8 col3\" >0.7712</td>\n",
       "      <td id=\"T_e9b98_row8_col4\" class=\"data row8 col4\" >0.7674</td>\n",
       "      <td id=\"T_e9b98_row8_col5\" class=\"data row8 col5\" >0.7691</td>\n",
       "      <td id=\"T_e9b98_row8_col6\" class=\"data row8 col6\" >0.5359</td>\n",
       "      <td id=\"T_e9b98_row8_col7\" class=\"data row8 col7\" >0.5361</td>\n",
       "      <td id=\"T_e9b98_row8_col8\" class=\"data row8 col8\" >0.2140</td>\n",
       "    </tr>\n",
       "    <tr>\n",
       "      <th id=\"T_e9b98_level0_row9\" class=\"row_heading level0 row9\" >nb</th>\n",
       "      <td id=\"T_e9b98_row9_col0\" class=\"data row9 col0\" >Naive Bayes</td>\n",
       "      <td id=\"T_e9b98_row9_col1\" class=\"data row9 col1\" >0.7610</td>\n",
       "      <td id=\"T_e9b98_row9_col2\" class=\"data row9 col2\" >0.8494</td>\n",
       "      <td id=\"T_e9b98_row9_col3\" class=\"data row9 col3\" >0.8471</td>\n",
       "      <td id=\"T_e9b98_row9_col4\" class=\"data row9 col4\" >0.7238</td>\n",
       "      <td id=\"T_e9b98_row9_col5\" class=\"data row9 col5\" >0.7801</td>\n",
       "      <td id=\"T_e9b98_row9_col6\" class=\"data row9 col6\" >0.5217</td>\n",
       "      <td id=\"T_e9b98_row9_col7\" class=\"data row9 col7\" >0.5304</td>\n",
       "      <td id=\"T_e9b98_row9_col8\" class=\"data row9 col8\" >0.0400</td>\n",
       "    </tr>\n",
       "    <tr>\n",
       "      <th id=\"T_e9b98_level0_row10\" class=\"row_heading level0 row10\" >svm</th>\n",
       "      <td id=\"T_e9b98_row10_col0\" class=\"data row10 col0\" >SVM - Linear Kernel</td>\n",
       "      <td id=\"T_e9b98_row10_col1\" class=\"data row10 col1\" >0.7401</td>\n",
       "      <td id=\"T_e9b98_row10_col2\" class=\"data row10 col2\" >0.0000</td>\n",
       "      <td id=\"T_e9b98_row10_col3\" class=\"data row10 col3\" >0.7641</td>\n",
       "      <td id=\"T_e9b98_row10_col4\" class=\"data row10 col4\" >0.7372</td>\n",
       "      <td id=\"T_e9b98_row10_col5\" class=\"data row10 col5\" >0.7385</td>\n",
       "      <td id=\"T_e9b98_row10_col6\" class=\"data row10 col6\" >0.4793</td>\n",
       "      <td id=\"T_e9b98_row10_col7\" class=\"data row10 col7\" >0.4942</td>\n",
       "      <td id=\"T_e9b98_row10_col8\" class=\"data row10 col8\" >0.0480</td>\n",
       "    </tr>\n",
       "    <tr>\n",
       "      <th id=\"T_e9b98_level0_row11\" class=\"row_heading level0 row11\" >dt</th>\n",
       "      <td id=\"T_e9b98_row11_col0\" class=\"data row11 col0\" >Decision Tree Classifier</td>\n",
       "      <td id=\"T_e9b98_row11_col1\" class=\"data row11 col1\" >0.7326</td>\n",
       "      <td id=\"T_e9b98_row11_col2\" class=\"data row11 col2\" >0.7523</td>\n",
       "      <td id=\"T_e9b98_row11_col3\" class=\"data row11 col3\" >0.7356</td>\n",
       "      <td id=\"T_e9b98_row11_col4\" class=\"data row11 col4\" >0.7322</td>\n",
       "      <td id=\"T_e9b98_row11_col5\" class=\"data row11 col5\" >0.7336</td>\n",
       "      <td id=\"T_e9b98_row11_col6\" class=\"data row11 col6\" >0.4650</td>\n",
       "      <td id=\"T_e9b98_row11_col7\" class=\"data row11 col7\" >0.4653</td>\n",
       "      <td id=\"T_e9b98_row11_col8\" class=\"data row11 col8\" >0.0500</td>\n",
       "    </tr>\n",
       "    <tr>\n",
       "      <th id=\"T_e9b98_level0_row12\" class=\"row_heading level0 row12\" >qda</th>\n",
       "      <td id=\"T_e9b98_row12_col0\" class=\"data row12 col0\" >Quadratic Discriminant Analysis</td>\n",
       "      <td id=\"T_e9b98_row12_col1\" class=\"data row12 col1\" >0.5549</td>\n",
       "      <td id=\"T_e9b98_row12_col2\" class=\"data row12 col2\" >0.5548</td>\n",
       "      <td id=\"T_e9b98_row12_col3\" class=\"data row12 col3\" >0.3751</td>\n",
       "      <td id=\"T_e9b98_row12_col4\" class=\"data row12 col4\" >0.5159</td>\n",
       "      <td id=\"T_e9b98_row12_col5\" class=\"data row12 col5\" >0.3951</td>\n",
       "      <td id=\"T_e9b98_row12_col6\" class=\"data row12 col6\" >0.1096</td>\n",
       "      <td id=\"T_e9b98_row12_col7\" class=\"data row12 col7\" >0.1004</td>\n",
       "      <td id=\"T_e9b98_row12_col8\" class=\"data row12 col8\" >0.0500</td>\n",
       "    </tr>\n",
       "    <tr>\n",
       "      <th id=\"T_e9b98_level0_row13\" class=\"row_heading level0 row13\" >dummy</th>\n",
       "      <td id=\"T_e9b98_row13_col0\" class=\"data row13 col0\" >Dummy Classifier</td>\n",
       "      <td id=\"T_e9b98_row13_col1\" class=\"data row13 col1\" >0.4989</td>\n",
       "      <td id=\"T_e9b98_row13_col2\" class=\"data row13 col2\" >0.5000</td>\n",
       "      <td id=\"T_e9b98_row13_col3\" class=\"data row13 col3\" >0.0000</td>\n",
       "      <td id=\"T_e9b98_row13_col4\" class=\"data row13 col4\" >0.0000</td>\n",
       "      <td id=\"T_e9b98_row13_col5\" class=\"data row13 col5\" >0.0000</td>\n",
       "      <td id=\"T_e9b98_row13_col6\" class=\"data row13 col6\" >0.0000</td>\n",
       "      <td id=\"T_e9b98_row13_col7\" class=\"data row13 col7\" >0.0000</td>\n",
       "      <td id=\"T_e9b98_row13_col8\" class=\"data row13 col8\" >0.0420</td>\n",
       "    </tr>\n",
       "  </tbody>\n",
       "</table>\n"
      ],
      "text/plain": [
       "<pandas.io.formats.style.Styler at 0x25eae19f130>"
      ]
     },
     "metadata": {},
     "output_type": "display_data"
    },
    {
     "name": "stdout",
     "output_type": "stream",
     "text": [
      "CPU times: total: 5.17 s\n",
      "Wall time: 15.7 s\n"
     ]
    }
   ],
   "source": [
    "%%time\n",
    "best_model = compare_models(sort='Accuracy')"
   ]
  },
  {
   "cell_type": "code",
   "execution_count": 98,
   "id": "691e0d19-fdbe-46ee-a2cb-c51469e76be7",
   "metadata": {},
   "outputs": [
    {
     "data": {
      "text/plain": [
       "LGBMClassifier(boosting_type='gbdt', class_weight=None, colsample_bytree=1.0,\n",
       "               importance_type='split', learning_rate=0.1, max_depth=-1,\n",
       "               min_child_samples=20, min_child_weight=0.001, min_split_gain=0.0,\n",
       "               n_estimators=100, n_jobs=-1, num_leaves=31, objective=None,\n",
       "               random_state=6747, reg_alpha=0.0, reg_lambda=0.0, silent='warn',\n",
       "               subsample=1.0, subsample_for_bin=200000, subsample_freq=0)"
      ]
     },
     "execution_count": 98,
     "metadata": {},
     "output_type": "execute_result"
    }
   ],
   "source": [
    "best_model"
   ]
  },
  {
   "cell_type": "markdown",
   "id": "013584a8-d922-45b5-b96b-98a1f206fb00",
   "metadata": {},
   "source": [
    "### **HiperParametros**"
   ]
  },
  {
   "cell_type": "code",
   "execution_count": 99,
   "id": "4187927b-f580-405c-9e68-650bef648fe3",
   "metadata": {},
   "outputs": [
    {
     "data": {
      "text/html": [
       "<style type=\"text/css\">\n",
       "#T_5095d_row5_col0, #T_5095d_row5_col1, #T_5095d_row5_col2, #T_5095d_row5_col3, #T_5095d_row5_col4, #T_5095d_row5_col5, #T_5095d_row5_col6 {\n",
       "  background: yellow;\n",
       "}\n",
       "</style>\n",
       "<table id=\"T_5095d\">\n",
       "  <thead>\n",
       "    <tr>\n",
       "      <th class=\"blank level0\" >&nbsp;</th>\n",
       "      <th id=\"T_5095d_level0_col0\" class=\"col_heading level0 col0\" >Accuracy</th>\n",
       "      <th id=\"T_5095d_level0_col1\" class=\"col_heading level0 col1\" >AUC</th>\n",
       "      <th id=\"T_5095d_level0_col2\" class=\"col_heading level0 col2\" >Recall</th>\n",
       "      <th id=\"T_5095d_level0_col3\" class=\"col_heading level0 col3\" >Prec.</th>\n",
       "      <th id=\"T_5095d_level0_col4\" class=\"col_heading level0 col4\" >F1</th>\n",
       "      <th id=\"T_5095d_level0_col5\" class=\"col_heading level0 col5\" >Kappa</th>\n",
       "      <th id=\"T_5095d_level0_col6\" class=\"col_heading level0 col6\" >MCC</th>\n",
       "    </tr>\n",
       "    <tr>\n",
       "      <th class=\"index_name level0\" >Fold</th>\n",
       "      <th class=\"blank col0\" >&nbsp;</th>\n",
       "      <th class=\"blank col1\" >&nbsp;</th>\n",
       "      <th class=\"blank col2\" >&nbsp;</th>\n",
       "      <th class=\"blank col3\" >&nbsp;</th>\n",
       "      <th class=\"blank col4\" >&nbsp;</th>\n",
       "      <th class=\"blank col5\" >&nbsp;</th>\n",
       "      <th class=\"blank col6\" >&nbsp;</th>\n",
       "    </tr>\n",
       "  </thead>\n",
       "  <tbody>\n",
       "    <tr>\n",
       "      <th id=\"T_5095d_level0_row0\" class=\"row_heading level0 row0\" >0</th>\n",
       "      <td id=\"T_5095d_row0_col0\" class=\"data row0 col0\" >0.7864</td>\n",
       "      <td id=\"T_5095d_row0_col1\" class=\"data row0 col1\" >0.8742</td>\n",
       "      <td id=\"T_5095d_row0_col2\" class=\"data row0 col2\" >0.7606</td>\n",
       "      <td id=\"T_5095d_row0_col3\" class=\"data row0 col3\" >0.8020</td>\n",
       "      <td id=\"T_5095d_row0_col4\" class=\"data row0 col4\" >0.7807</td>\n",
       "      <td id=\"T_5095d_row0_col5\" class=\"data row0 col5\" >0.5728</td>\n",
       "      <td id=\"T_5095d_row0_col6\" class=\"data row0 col6\" >0.5735</td>\n",
       "    </tr>\n",
       "    <tr>\n",
       "      <th id=\"T_5095d_level0_row1\" class=\"row_heading level0 row1\" >1</th>\n",
       "      <td id=\"T_5095d_row1_col0\" class=\"data row1 col0\" >0.8134</td>\n",
       "      <td id=\"T_5095d_row1_col1\" class=\"data row1 col1\" >0.8875</td>\n",
       "      <td id=\"T_5095d_row1_col2\" class=\"data row1 col2\" >0.8118</td>\n",
       "      <td id=\"T_5095d_row1_col3\" class=\"data row1 col3\" >0.8137</td>\n",
       "      <td id=\"T_5095d_row1_col4\" class=\"data row1 col4\" >0.8127</td>\n",
       "      <td id=\"T_5095d_row1_col5\" class=\"data row1 col5\" >0.6268</td>\n",
       "      <td id=\"T_5095d_row1_col6\" class=\"data row1 col6\" >0.6268</td>\n",
       "    </tr>\n",
       "    <tr>\n",
       "      <th id=\"T_5095d_level0_row2\" class=\"row_heading level0 row2\" >2</th>\n",
       "      <td id=\"T_5095d_row2_col0\" class=\"data row2 col0\" >0.7934</td>\n",
       "      <td id=\"T_5095d_row2_col1\" class=\"data row2 col1\" >0.8772</td>\n",
       "      <td id=\"T_5095d_row2_col2\" class=\"data row2 col2\" >0.8226</td>\n",
       "      <td id=\"T_5095d_row2_col3\" class=\"data row2 col3\" >0.7829</td>\n",
       "      <td id=\"T_5095d_row2_col4\" class=\"data row2 col4\" >0.8022</td>\n",
       "      <td id=\"T_5095d_row2_col5\" class=\"data row2 col5\" >0.5863</td>\n",
       "      <td id=\"T_5095d_row2_col6\" class=\"data row2 col6\" >0.5871</td>\n",
       "    </tr>\n",
       "    <tr>\n",
       "      <th id=\"T_5095d_level0_row3\" class=\"row_heading level0 row3\" >3</th>\n",
       "      <td id=\"T_5095d_row3_col0\" class=\"data row3 col0\" >0.7981</td>\n",
       "      <td id=\"T_5095d_row3_col1\" class=\"data row3 col1\" >0.8825</td>\n",
       "      <td id=\"T_5095d_row3_col2\" class=\"data row3 col2\" >0.7775</td>\n",
       "      <td id=\"T_5095d_row3_col3\" class=\"data row3 col3\" >0.8117</td>\n",
       "      <td id=\"T_5095d_row3_col4\" class=\"data row3 col4\" >0.7943</td>\n",
       "      <td id=\"T_5095d_row3_col5\" class=\"data row3 col5\" >0.5963</td>\n",
       "      <td id=\"T_5095d_row3_col6\" class=\"data row3 col6\" >0.5968</td>\n",
       "    </tr>\n",
       "    <tr>\n",
       "      <th id=\"T_5095d_level0_row4\" class=\"row_heading level0 row4\" >4</th>\n",
       "      <td id=\"T_5095d_row4_col0\" class=\"data row4 col0\" >0.7979</td>\n",
       "      <td id=\"T_5095d_row4_col1\" class=\"data row4 col1\" >0.8752</td>\n",
       "      <td id=\"T_5095d_row4_col2\" class=\"data row4 col2\" >0.7915</td>\n",
       "      <td id=\"T_5095d_row4_col3\" class=\"data row4 col3\" >0.7990</td>\n",
       "      <td id=\"T_5095d_row4_col4\" class=\"data row4 col4\" >0.7952</td>\n",
       "      <td id=\"T_5095d_row4_col5\" class=\"data row4 col5\" >0.5957</td>\n",
       "      <td id=\"T_5095d_row4_col6\" class=\"data row4 col6\" >0.5957</td>\n",
       "    </tr>\n",
       "    <tr>\n",
       "      <th id=\"T_5095d_level0_row5\" class=\"row_heading level0 row5\" >Mean</th>\n",
       "      <td id=\"T_5095d_row5_col0\" class=\"data row5 col0\" >0.7978</td>\n",
       "      <td id=\"T_5095d_row5_col1\" class=\"data row5 col1\" >0.8793</td>\n",
       "      <td id=\"T_5095d_row5_col2\" class=\"data row5 col2\" >0.7928</td>\n",
       "      <td id=\"T_5095d_row5_col3\" class=\"data row5 col3\" >0.8019</td>\n",
       "      <td id=\"T_5095d_row5_col4\" class=\"data row5 col4\" >0.7970</td>\n",
       "      <td id=\"T_5095d_row5_col5\" class=\"data row5 col5\" >0.5956</td>\n",
       "      <td id=\"T_5095d_row5_col6\" class=\"data row5 col6\" >0.5960</td>\n",
       "    </tr>\n",
       "    <tr>\n",
       "      <th id=\"T_5095d_level0_row6\" class=\"row_heading level0 row6\" >Std</th>\n",
       "      <td id=\"T_5095d_row6_col0\" class=\"data row6 col0\" >0.0089</td>\n",
       "      <td id=\"T_5095d_row6_col1\" class=\"data row6 col1\" >0.0050</td>\n",
       "      <td id=\"T_5095d_row6_col2\" class=\"data row6 col2\" >0.0225</td>\n",
       "      <td id=\"T_5095d_row6_col3\" class=\"data row6 col3\" >0.0110</td>\n",
       "      <td id=\"T_5095d_row6_col4\" class=\"data row6 col4\" >0.0105</td>\n",
       "      <td id=\"T_5095d_row6_col5\" class=\"data row6 col5\" >0.0178</td>\n",
       "      <td id=\"T_5095d_row6_col6\" class=\"data row6 col6\" >0.0175</td>\n",
       "    </tr>\n",
       "  </tbody>\n",
       "</table>\n"
      ],
      "text/plain": [
       "<pandas.io.formats.style.Styler at 0x25e92b2e340>"
      ]
     },
     "metadata": {},
     "output_type": "display_data"
    },
    {
     "name": "stdout",
     "output_type": "stream",
     "text": [
      "CPU times: total: 2.27 s\n",
      "Wall time: 14.6 s\n"
     ]
    }
   ],
   "source": [
    "%%time\n",
    "tuned_best_model = tune_model(best_model)"
   ]
  },
  {
   "cell_type": "code",
   "execution_count": 100,
   "id": "d881fa9a-7031-4b7e-aa78-d304afda427a",
   "metadata": {},
   "outputs": [
    {
     "data": {
      "text/plain": [
       "LGBMClassifier(bagging_fraction=0.9, bagging_freq=7, boosting_type='gbdt',\n",
       "               class_weight=None, colsample_bytree=1.0, feature_fraction=0.5,\n",
       "               importance_type='split', learning_rate=0.005, max_depth=-1,\n",
       "               min_child_samples=1, min_child_weight=0.001, min_split_gain=0.3,\n",
       "               n_estimators=70, n_jobs=-1, num_leaves=90, objective=None,\n",
       "               random_state=6747, reg_alpha=1, reg_lambda=0.2, silent='warn',\n",
       "               subsample=1.0, subsample_for_bin=200000, subsample_freq=0)"
      ]
     },
     "execution_count": 100,
     "metadata": {},
     "output_type": "execute_result"
    }
   ],
   "source": [
    "tuned_best_model"
   ]
  },
  {
   "cell_type": "markdown",
   "id": "42aeb570-2129-41d3-abfa-9f4d6dfd145b",
   "metadata": {},
   "source": [
    "### **Feature Importance**"
   ]
  },
  {
   "cell_type": "code",
   "execution_count": 101,
   "id": "87bcc729-a2aa-434a-bf40-d3cf7ae9c71c",
   "metadata": {},
   "outputs": [
    {
     "data": {
      "image/png": "[encoded data removed]",
      "text/plain": [
       "<Figure size 800x500 with 1 Axes>"
      ]
     },
     "metadata": {},
     "output_type": "display_data"
    }
   ],
   "source": [
    "plot_model(tuned_best_model, plot='feature')"
   ]
  },
  {
   "cell_type": "markdown",
   "id": "fee66744-ad17-4ef8-b711-49cd9eb81c35",
   "metadata": {},
   "source": [
    "### **Matriz de Confusión**"
   ]
  },
  {
   "cell_type": "code",
   "execution_count": 102,
   "id": "ecd52e81-d62e-4315-83fa-67396dde8e95",
   "metadata": {},
   "outputs": [
    {
     "data": {
      "image/png": "[encoded data removed]",
      "text/plain": [
       "<Figure size 500x300 with 1 Axes>"
      ]
     },
     "metadata": {},
     "output_type": "display_data"
    }
   ],
   "source": [
    "plt.subplots(figsize = (5, 3))\n",
    "plot_model(tuned_best_model, plot='confusion_matrix')"
   ]
  },
  {
   "cell_type": "markdown",
   "id": "cbebc923-5982-412d-a6e2-934883e4d0a5",
   "metadata": {},
   "source": [
    "## **Validación**"
   ]
  },
  {
   "cell_type": "code",
   "execution_count": 107,
   "id": "9e2bb81d-3b78-48d3-b52f-7677ea6f70dc",
   "metadata": {},
   "outputs": [],
   "source": [
    "prediction = predict_model(tuned_best_model, data = X_test)"
   ]
  },
  {
   "cell_type": "code",
   "execution_count": 108,
   "id": "84089124-2618-45c3-855c-707efcd84e88",
   "metadata": {},
   "outputs": [],
   "source": [
    "y_pred = prediction['Label']"
   ]
  },
  {
   "cell_type": "code",
   "execution_count": 109,
   "id": "ccaa2f0e-2036-4c7f-9740-e8707b5d6520",
   "metadata": {},
   "outputs": [
    {
     "data": {
      "image/png": "[encoded data removed]",
      "text/plain": [
       "<Figure size 500x300 with 2 Axes>"
      ]
     },
     "metadata": {},
     "output_type": "display_data"
    }
   ],
   "source": [
    "plt.subplots(figsize=(5,3))\n",
    "sns.heatmap(confusion_matrix(y_test, y_pred)/len(y_test)*100, annot=True)\n",
    "plt.show()"
   ]
  },
  {
   "cell_type": "code",
   "execution_count": 110,
   "id": "11c2bc01-f629-4614-a32f-8883a1a7ace1",
   "metadata": {},
   "outputs": [
    {
     "name": "stdout",
     "output_type": "stream",
     "text": [
      "              precision    recall  f1-score   support\n",
      "\n",
      "           0       0.79      0.79      0.79      1280\n",
      "           1       0.80      0.80      0.80      1328\n",
      "\n",
      "    accuracy                           0.80      2608\n",
      "   macro avg       0.80      0.80      0.80      2608\n",
      "weighted avg       0.80      0.80      0.80      2608\n",
      "\n"
     ]
    }
   ],
   "source": [
    "print(classification_report(y_test, y_pred))"
   ]
  },
  {
   "cell_type": "markdown",
   "id": "16ea5a34-75c4-4658-b146-c64c5d6aae51",
   "metadata": {},
   "source": [
    "## **Resultados**"
   ]
  },
  {
   "cell_type": "code",
   "execution_count": 111,
   "id": "03d269e2-1527-4a14-9ba2-82e3a2b2ce7e",
   "metadata": {},
   "outputs": [],
   "source": [
    "test_kaggle = pd.read_csv('./Datos/test.csv')"
   ]
  },
  {
   "cell_type": "code",
   "execution_count": 112,
   "id": "376a6ece-5280-4932-9000-151e7d367254",
   "metadata": {},
   "outputs": [
    {
     "data": {
      "text/html": [
       "<div>\n",
       "<style scoped>\n",
       "    .dataframe tbody tr th:only-of-type {\n",
       "        vertical-align: middle;\n",
       "    }\n",
       "\n",
       "    .dataframe tbody tr th {\n",
       "        vertical-align: top;\n",
       "    }\n",
       "\n",
       "    .dataframe thead th {\n",
       "        text-align: right;\n",
       "    }\n",
       "</style>\n",
       "<table border=\"1\" class=\"dataframe\">\n",
       "  <thead>\n",
       "    <tr style=\"text-align: right;\">\n",
       "      <th></th>\n",
       "      <th>PassengerId</th>\n",
       "      <th>HomePlanet</th>\n",
       "      <th>CryoSleep</th>\n",
       "      <th>Cabin</th>\n",
       "      <th>Destination</th>\n",
       "      <th>Age</th>\n",
       "      <th>VIP</th>\n",
       "      <th>RoomService</th>\n",
       "      <th>FoodCourt</th>\n",
       "      <th>ShoppingMall</th>\n",
       "      <th>Spa</th>\n",
       "      <th>VRDeck</th>\n",
       "      <th>Name</th>\n",
       "    </tr>\n",
       "  </thead>\n",
       "  <tbody>\n",
       "    <tr>\n",
       "      <th>3991</th>\n",
       "      <td>8697_01</td>\n",
       "      <td>Earth</td>\n",
       "      <td>True</td>\n",
       "      <td>G/1401/S</td>\n",
       "      <td>PSO J318.5-22</td>\n",
       "      <td>25.0</td>\n",
       "      <td>False</td>\n",
       "      <td>0.0</td>\n",
       "      <td>0.0</td>\n",
       "      <td>0.0</td>\n",
       "      <td>0.0</td>\n",
       "      <td>0.0</td>\n",
       "      <td>Milyla Fowles</td>\n",
       "    </tr>\n",
       "  </tbody>\n",
       "</table>\n",
       "</div>"
      ],
      "text/plain": [
       "     PassengerId HomePlanet CryoSleep     Cabin    Destination   Age    VIP  \\\n",
       "3991     8697_01      Earth      True  G/1401/S  PSO J318.5-22  25.0  False   \n",
       "\n",
       "      RoomService  FoodCourt  ShoppingMall  Spa  VRDeck           Name  \n",
       "3991          0.0        0.0           0.0  0.0     0.0  Milyla Fowles  "
      ]
     },
     "execution_count": 112,
     "metadata": {},
     "output_type": "execute_result"
    }
   ],
   "source": [
    "test_kaggle.sample()"
   ]
  },
  {
   "cell_type": "markdown",
   "id": "1b3c8b53-6239-42d5-aebe-b6316c051202",
   "metadata": {},
   "source": [
    "### **Limpieza y Preparación de Datos**"
   ]
  },
  {
   "cell_type": "code",
   "execution_count": 113,
   "id": "26fd854f-3d2f-4ba0-8444-44424699f0ca",
   "metadata": {},
   "outputs": [],
   "source": [
    "# Planeta natal\n",
    "test_kaggle['HomePlanet'].fillna('Unknown', inplace=True)\n",
    "\n",
    "# Sueño criogenico\n",
    "test_kaggle['CryoSleep'].fillna('Unknown', inplace=True)"
   ]
  },
  {
   "cell_type": "code",
   "execution_count": 114,
   "id": "8d40301f-3bcc-4d1f-852e-c294720041e3",
   "metadata": {},
   "outputs": [],
   "source": [
    "def calc_detail_cabin(x, position):\n",
    "    # Divides la cadena en subcadenas utilizando '/' como separador y devuelve el primer elemento\n",
    "    try:\n",
    "        return x.split('/')[position]        \n",
    "    # Si ocurre algún error al intentar dividir la cadena, se devuelve la cadena original\n",
    "    except:\n",
    "        return x"
   ]
  },
  {
   "cell_type": "code",
   "execution_count": 115,
   "id": "a76d0c01-7358-4ba1-a200-aaf9cbcf8234",
   "metadata": {},
   "outputs": [],
   "source": [
    "# Información de la cabina\n",
    "test_kaggle['Cabin'].fillna('Unknown', inplace=True)\n",
    "test_kaggle['Cabin_Type'] = test_kaggle['Cabin'].apply(lambda x: calc_detail_cabin(x, 0))\n",
    "test_kaggle['Cabin_Type_2'] = test_kaggle['Cabin'].apply(lambda x: calc_detail_cabin(x, 2))"
   ]
  },
  {
   "cell_type": "code",
   "execution_count": 116,
   "id": "79043d67-9c0d-415f-96a6-548c4e70a3d7",
   "metadata": {},
   "outputs": [],
   "source": [
    "# Destino\n",
    "test_kaggle['Destination'].fillna('Unknown', inplace=True)"
   ]
  },
  {
   "cell_type": "code",
   "execution_count": 117,
   "id": "24558f5b-0506-4314-b43f-aae4fddd5780",
   "metadata": {},
   "outputs": [],
   "source": [
    "#Edad\n",
    "test_kaggle['Age'].fillna(round(test_kaggle['Age'].mean()), inplace=True)"
   ]
  },
  {
   "cell_type": "code",
   "execution_count": 118,
   "id": "c099e3f9-6953-4491-98a7-3fb0aed4eca6",
   "metadata": {},
   "outputs": [],
   "source": [
    "# VIP\n",
    "test_kaggle['VIP'].fillna('Unknown', inplace=True)"
   ]
  },
  {
   "cell_type": "code",
   "execution_count": 119,
   "id": "e2e1efc7-4b43-4908-8327-c2e99df6af2c",
   "metadata": {},
   "outputs": [],
   "source": [
    "# Variables numéricas $$\n",
    "test_kaggle['RoomService'].fillna(0, inplace=True)\n",
    "test_kaggle['FoodCourt'].fillna(0, inplace=True)\n",
    "test_kaggle['ShoppingMall'].fillna(0, inplace=True)\n",
    "test_kaggle['Spa'].fillna(0, inplace=True)\n",
    "test_kaggle['VRDeck'].fillna(0, inplace=True)"
   ]
  },
  {
   "cell_type": "code",
   "execution_count": 120,
   "id": "0a677571-ac8e-4283-a045-21b2ea854b29",
   "metadata": {},
   "outputs": [],
   "source": [
    "# Eliminamos el nombre\n",
    "test_kaggle.drop('Name', axis= 1, inplace=True)"
   ]
  },
  {
   "cell_type": "markdown",
   "id": "57e085cd-5555-4b76-8f7a-34a48bbb2152",
   "metadata": {},
   "source": [
    "### **Preparando los datos para el modelo**"
   ]
  },
  {
   "cell_type": "code",
   "execution_count": 121,
   "id": "d5f2bd8c-3a13-4319-8109-fb9a8e3ba0e6",
   "metadata": {},
   "outputs": [],
   "source": [
    "test_kaggle['CryoSleep'].replace([False, True, 'Unknown'], [0, 1, 0], inplace=True)\n",
    "test_kaggle['VIP'].replace([False, True, 'Unknown'], [0, 1, 0], inplace=True)"
   ]
  },
  {
   "cell_type": "code",
   "execution_count": 122,
   "id": "d1ab1d52-4b77-4eca-a5d5-f018d1fc8fbb",
   "metadata": {},
   "outputs": [],
   "source": [
    "home_planet_dum = pd.get_dummies(test_kaggle['HomePlanet'])\n",
    "destination_dum = pd.get_dummies(test_kaggle['Destination'])\n",
    "cabin_I_dum = pd.get_dummies(test_kaggle['Cabin_Type'])\n",
    "cabin_II_dum = pd.get_dummies(test_kaggle['Cabin_Type_2'])"
   ]
  },
  {
   "cell_type": "code",
   "execution_count": 123,
   "id": "29f2e9b0-e177-4319-ac44-649a90d5e0de",
   "metadata": {},
   "outputs": [],
   "source": [
    "X_kaggle = test_kaggle.drop(\n",
    "    ['PassengerId', 'HomePlanet', 'Cabin', 'Destination', 'Cabin_Type', 'Cabin_Type_2'], \n",
    "    axis=1\n",
    ")"
   ]
  },
  {
   "cell_type": "code",
   "execution_count": 124,
   "id": "30719afb-2ebc-4d45-bb65-1ab424d007a3",
   "metadata": {},
   "outputs": [],
   "source": [
    "X_kaggle = pd.merge(test_kaggle.reset_index(), home_planet_dum.reset_index(), how='left', left_on='index', right_on='index')\n",
    "X_kaggle = pd.merge(X_kaggle, destination_dum.reset_index(), how='left', left_on='index', right_on='index')\n",
    "X_kaggle = pd.merge(X_kaggle, cabin_I_dum.reset_index(), how='left', left_on='index', right_on='index')\n",
    "X_kaggle = pd.merge(X_kaggle, cabin_II_dum.reset_index(), how='left', left_on='index', right_on='index')"
   ]
  },
  {
   "cell_type": "code",
   "execution_count": 125,
   "id": "d4faf4de-d1c6-4979-a58f-9eb19025675c",
   "metadata": {},
   "outputs": [],
   "source": [
    "X_kaggle.drop(['index', 'Unknown_x', 'Unknown_y', 'Unknown_x', 'Unknown_y'], axis=1, inplace=True)"
   ]
  },
  {
   "cell_type": "code",
   "execution_count": 131,
   "id": "8e2a3eec-9849-42ce-8c53-559e68acc9b7",
   "metadata": {},
   "outputs": [],
   "source": [
    "prediction = predict_model(best_model, data = X_kaggle)"
   ]
  },
  {
   "cell_type": "code",
   "execution_count": 132,
   "id": "befc67e7-590b-4aa3-875c-ae999a85188c",
   "metadata": {},
   "outputs": [],
   "source": [
    "prediction['Label'] = np.where(prediction['Label'] == 1, True, False)"
   ]
  },
  {
   "cell_type": "code",
   "execution_count": 133,
   "id": "ac3ebf31-b321-471f-b021-0aa198779d05",
   "metadata": {},
   "outputs": [],
   "source": [
    "final = prediction[['PassengerId', 'Label']]"
   ]
  },
  {
   "cell_type": "code",
   "execution_count": 134,
   "id": "aa9805e5-782b-4b6c-8464-c6d338a48cb6",
   "metadata": {},
   "outputs": [],
   "source": [
    "final.columns = ['PassengerId', 'Transported']"
   ]
  },
  {
   "cell_type": "code",
   "execution_count": 135,
   "id": "eefe11d5-d68b-4854-9682-9689ad3cacee",
   "metadata": {},
   "outputs": [],
   "source": [
    "final.to_csv('./Datos/Resultados_008.csv', index=False)"
   ]
  },
  {
   "cell_type": "code",
   "execution_count": null,
   "id": "fc17cc35-fa09-4f05-af73-e39401dc52a6",
   "metadata": {},
   "outputs": [],
   "source": []
  }
 ],
 "metadata": {
  "kernelspec": {
   "display_name": "Python 3 (ipykernel)",
   "language": "python",
   "name": "python3"
  },
  "language_info": {
   "codemirror_mode": {
    "name": "ipython",
    "version": 3
   },
   "file_extension": ".py",
   "mimetype": "text/x-python",
   "name": "python",
   "nbconvert_exporter": "python",
   "pygments_lexer": "ipython3",
   "version": "3.8.16"
  }
 },
 "nbformat": 4,
 "nbformat_minor": 5
}
