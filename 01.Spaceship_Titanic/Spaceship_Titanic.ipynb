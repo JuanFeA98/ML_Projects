{
 "cells": [
  {
   "cell_type": "markdown",
   "id": "9c4e5878-f680-4f47-b4a1-8355a6d09b8e",
   "metadata": {},
   "source": [
    "# **Spaceship Titanic**"
   ]
  },
  {
   "cell_type": "markdown",
   "id": "7e739890-6a24-4087-ae29-9d76efb99f01",
   "metadata": {},
   "source": [
    "## **Librerías**"
   ]
  },
  {
   "cell_type": "code",
   "execution_count": 1,
   "id": "c090dcaa-667a-40ae-bf69-04b2780962e3",
   "metadata": {},
   "outputs": [],
   "source": [
    "import pandas as pd\n",
    "import numpy as np\n",
    "import matplotlib.pyplot as plt\n",
    "import seaborn as sns"
   ]
  },
  {
   "cell_type": "code",
   "execution_count": 2,
   "id": "75c79320-1b84-47f1-a653-03ff6c4fc313",
   "metadata": {},
   "outputs": [],
   "source": [
    "pd.options.display.max_columns = False"
   ]
  },
  {
   "cell_type": "code",
   "execution_count": 3,
   "id": "115032b5-6c51-4739-b060-4928ee39b3d5",
   "metadata": {},
   "outputs": [],
   "source": [
    "from datetime import datetime, timedelta\n",
    "import winsound"
   ]
  },
  {
   "cell_type": "code",
   "execution_count": 4,
   "id": "5e102546-5ee0-4768-8c3c-18b01808c7c5",
   "metadata": {},
   "outputs": [],
   "source": [
    "import sys\n",
    "import warnings"
   ]
  },
  {
   "cell_type": "code",
   "execution_count": 5,
   "id": "7363a590-f01b-4700-b61f-6dfcc163a164",
   "metadata": {},
   "outputs": [],
   "source": [
    "sys.path.append('C:/Users/jmart/OneDrive/Documentos/Proyectos/Proyectos_Web/Utils')"
   ]
  },
  {
   "cell_type": "code",
   "execution_count": 6,
   "id": "53fe4246-3bd7-4857-b6e0-3a6789471b84",
   "metadata": {},
   "outputs": [],
   "source": [
    "warnings.filterwarnings(\"ignore\")"
   ]
  },
  {
   "cell_type": "code",
   "execution_count": 317,
   "id": "2146e806-cb06-486f-ae03-f22a2bb87234",
   "metadata": {},
   "outputs": [],
   "source": [
    "from sklearn.model_selection import train_test_split, GridSearchCV\n",
    "from sklearn.tree import DecisionTreeClassifier\n",
    "from sklearn.ensemble import RandomForestClassifier, BaggingClassifier, AdaBoostClassifier\n",
    "from sklearn.metrics import classification_report, confusion_matrix, accuracy_score"
   ]
  },
  {
   "cell_type": "code",
   "execution_count": 318,
   "id": "765a0ec4-6fee-4ab3-b3de-3effde4c9c7d",
   "metadata": {},
   "outputs": [],
   "source": [
    "import xgboost as xgb"
   ]
  },
  {
   "cell_type": "markdown",
   "id": "db1085e0-d73c-459f-846c-57cece20d527",
   "metadata": {},
   "source": [
    "## **Datos**"
   ]
  },
  {
   "cell_type": "code",
   "execution_count": 12,
   "id": "650809ab-ddd6-4fa7-b6b5-eb7ea889840d",
   "metadata": {},
   "outputs": [],
   "source": [
    "train_df = pd.read_csv('./Datos/train.csv')"
   ]
  },
  {
   "cell_type": "code",
   "execution_count": 13,
   "id": "644db3ae-acde-4beb-8cd3-4fb48461268d",
   "metadata": {},
   "outputs": [
    {
     "data": {
      "text/html": [
       "<div>\n",
       "<style scoped>\n",
       "    .dataframe tbody tr th:only-of-type {\n",
       "        vertical-align: middle;\n",
       "    }\n",
       "\n",
       "    .dataframe tbody tr th {\n",
       "        vertical-align: top;\n",
       "    }\n",
       "\n",
       "    .dataframe thead th {\n",
       "        text-align: right;\n",
       "    }\n",
       "</style>\n",
       "<table border=\"1\" class=\"dataframe\">\n",
       "  <thead>\n",
       "    <tr style=\"text-align: right;\">\n",
       "      <th></th>\n",
       "      <th>PassengerId</th>\n",
       "      <th>HomePlanet</th>\n",
       "      <th>CryoSleep</th>\n",
       "      <th>Cabin</th>\n",
       "      <th>Destination</th>\n",
       "      <th>Age</th>\n",
       "      <th>VIP</th>\n",
       "      <th>RoomService</th>\n",
       "      <th>FoodCourt</th>\n",
       "      <th>ShoppingMall</th>\n",
       "      <th>Spa</th>\n",
       "      <th>VRDeck</th>\n",
       "      <th>Name</th>\n",
       "      <th>Transported</th>\n",
       "    </tr>\n",
       "  </thead>\n",
       "  <tbody>\n",
       "    <tr>\n",
       "      <th>6939</th>\n",
       "      <td>7361_01</td>\n",
       "      <td>Europa</td>\n",
       "      <td>True</td>\n",
       "      <td>C/239/P</td>\n",
       "      <td>55 Cancri e</td>\n",
       "      <td>23.0</td>\n",
       "      <td>NaN</td>\n",
       "      <td>0.0</td>\n",
       "      <td>0.0</td>\n",
       "      <td>0.0</td>\n",
       "      <td>0.0</td>\n",
       "      <td>0.0</td>\n",
       "      <td>Gieba Rodwative</td>\n",
       "      <td>True</td>\n",
       "    </tr>\n",
       "  </tbody>\n",
       "</table>\n",
       "</div>"
      ],
      "text/plain": [
       "     PassengerId HomePlanet CryoSleep    Cabin  Destination  ...  ShoppingMall  Spa  VRDeck             Name  Transported\n",
       "6939     7361_01     Europa      True  C/239/P  55 Cancri e  ...           0.0  0.0     0.0  Gieba Rodwative         True\n",
       "\n",
       "[1 rows x 14 columns]"
      ]
     },
     "execution_count": 13,
     "metadata": {},
     "output_type": "execute_result"
    }
   ],
   "source": [
    "train_df.sample()"
   ]
  },
  {
   "cell_type": "code",
   "execution_count": 14,
   "id": "f194eab1-80b1-4a5a-a44c-f872c9ff2472",
   "metadata": {},
   "outputs": [
    {
     "name": "stdout",
     "output_type": "stream",
     "text": [
      "<class 'pandas.core.frame.DataFrame'>\n",
      "RangeIndex: 8693 entries, 0 to 8692\n",
      "Data columns (total 14 columns):\n",
      " #   Column        Non-Null Count  Dtype  \n",
      "---  ------        --------------  -----  \n",
      " 0   PassengerId   8693 non-null   object \n",
      " 1   HomePlanet    8492 non-null   object \n",
      " 2   CryoSleep     8476 non-null   object \n",
      " 3   Cabin         8494 non-null   object \n",
      " 4   Destination   8511 non-null   object \n",
      " 5   Age           8514 non-null   float64\n",
      " 6   VIP           8490 non-null   object \n",
      " 7   RoomService   8512 non-null   float64\n",
      " 8   FoodCourt     8510 non-null   float64\n",
      " 9   ShoppingMall  8485 non-null   float64\n",
      " 10  Spa           8510 non-null   float64\n",
      " 11  VRDeck        8505 non-null   float64\n",
      " 12  Name          8493 non-null   object \n",
      " 13  Transported   8693 non-null   bool   \n",
      "dtypes: bool(1), float64(6), object(7)\n",
      "memory usage: 891.5+ KB\n"
     ]
    }
   ],
   "source": [
    "train_df.info()"
   ]
  },
  {
   "cell_type": "code",
   "execution_count": 15,
   "id": "998a7deb-24a3-4ebb-8d61-1e7e8f895ba9",
   "metadata": {},
   "outputs": [
    {
     "data": {
      "text/html": [
       "<div>\n",
       "<style scoped>\n",
       "    .dataframe tbody tr th:only-of-type {\n",
       "        vertical-align: middle;\n",
       "    }\n",
       "\n",
       "    .dataframe tbody tr th {\n",
       "        vertical-align: top;\n",
       "    }\n",
       "\n",
       "    .dataframe thead th {\n",
       "        text-align: right;\n",
       "    }\n",
       "</style>\n",
       "<table border=\"1\" class=\"dataframe\">\n",
       "  <thead>\n",
       "    <tr style=\"text-align: right;\">\n",
       "      <th></th>\n",
       "      <th>Age</th>\n",
       "      <th>RoomService</th>\n",
       "      <th>FoodCourt</th>\n",
       "      <th>ShoppingMall</th>\n",
       "      <th>Spa</th>\n",
       "      <th>VRDeck</th>\n",
       "    </tr>\n",
       "  </thead>\n",
       "  <tbody>\n",
       "    <tr>\n",
       "      <th>count</th>\n",
       "      <td>8514.000000</td>\n",
       "      <td>8512.000000</td>\n",
       "      <td>8510.000000</td>\n",
       "      <td>8485.000000</td>\n",
       "      <td>8510.000000</td>\n",
       "      <td>8505.000000</td>\n",
       "    </tr>\n",
       "    <tr>\n",
       "      <th>mean</th>\n",
       "      <td>28.827930</td>\n",
       "      <td>224.687617</td>\n",
       "      <td>458.077203</td>\n",
       "      <td>173.729169</td>\n",
       "      <td>311.138778</td>\n",
       "      <td>304.854791</td>\n",
       "    </tr>\n",
       "    <tr>\n",
       "      <th>std</th>\n",
       "      <td>14.489021</td>\n",
       "      <td>666.717663</td>\n",
       "      <td>1611.489240</td>\n",
       "      <td>604.696458</td>\n",
       "      <td>1136.705535</td>\n",
       "      <td>1145.717189</td>\n",
       "    </tr>\n",
       "    <tr>\n",
       "      <th>min</th>\n",
       "      <td>0.000000</td>\n",
       "      <td>0.000000</td>\n",
       "      <td>0.000000</td>\n",
       "      <td>0.000000</td>\n",
       "      <td>0.000000</td>\n",
       "      <td>0.000000</td>\n",
       "    </tr>\n",
       "    <tr>\n",
       "      <th>25%</th>\n",
       "      <td>19.000000</td>\n",
       "      <td>0.000000</td>\n",
       "      <td>0.000000</td>\n",
       "      <td>0.000000</td>\n",
       "      <td>0.000000</td>\n",
       "      <td>0.000000</td>\n",
       "    </tr>\n",
       "    <tr>\n",
       "      <th>50%</th>\n",
       "      <td>27.000000</td>\n",
       "      <td>0.000000</td>\n",
       "      <td>0.000000</td>\n",
       "      <td>0.000000</td>\n",
       "      <td>0.000000</td>\n",
       "      <td>0.000000</td>\n",
       "    </tr>\n",
       "    <tr>\n",
       "      <th>75%</th>\n",
       "      <td>38.000000</td>\n",
       "      <td>47.000000</td>\n",
       "      <td>76.000000</td>\n",
       "      <td>27.000000</td>\n",
       "      <td>59.000000</td>\n",
       "      <td>46.000000</td>\n",
       "    </tr>\n",
       "    <tr>\n",
       "      <th>max</th>\n",
       "      <td>79.000000</td>\n",
       "      <td>14327.000000</td>\n",
       "      <td>29813.000000</td>\n",
       "      <td>23492.000000</td>\n",
       "      <td>22408.000000</td>\n",
       "      <td>24133.000000</td>\n",
       "    </tr>\n",
       "  </tbody>\n",
       "</table>\n",
       "</div>"
      ],
      "text/plain": [
       "               Age   RoomService     FoodCourt  ShoppingMall           Spa        VRDeck\n",
       "count  8514.000000   8512.000000   8510.000000   8485.000000   8510.000000   8505.000000\n",
       "mean     28.827930    224.687617    458.077203    173.729169    311.138778    304.854791\n",
       "std      14.489021    666.717663   1611.489240    604.696458   1136.705535   1145.717189\n",
       "min       0.000000      0.000000      0.000000      0.000000      0.000000      0.000000\n",
       "25%      19.000000      0.000000      0.000000      0.000000      0.000000      0.000000\n",
       "50%      27.000000      0.000000      0.000000      0.000000      0.000000      0.000000\n",
       "75%      38.000000     47.000000     76.000000     27.000000     59.000000     46.000000\n",
       "max      79.000000  14327.000000  29813.000000  23492.000000  22408.000000  24133.000000"
      ]
     },
     "execution_count": 15,
     "metadata": {},
     "output_type": "execute_result"
    }
   ],
   "source": [
    "train_df.describe()"
   ]
  },
  {
   "cell_type": "markdown",
   "id": "bd4f3fbc-6d8c-41c2-801c-3abb90957c0c",
   "metadata": {},
   "source": [
    "### **Limpieza y Preparación de Datos**"
   ]
  },
  {
   "cell_type": "code",
   "execution_count": 16,
   "id": "505458b9-dacf-442e-a4ae-40233a23ee9b",
   "metadata": {},
   "outputs": [
    {
     "data": {
      "text/plain": [
       "HomePlanet\n",
       "Earth         4602\n",
       "Europa        2131\n",
       "Mars          1759\n",
       "Unknown        201\n",
       "dtype: int64"
      ]
     },
     "execution_count": 16,
     "metadata": {},
     "output_type": "execute_result"
    }
   ],
   "source": [
    "# Planeta natal\n",
    "train_df['HomePlanet'].fillna('Unknown', inplace=True)\n",
    "train_df.value_counts(['HomePlanet'])"
   ]
  },
  {
   "cell_type": "code",
   "execution_count": 17,
   "id": "a5e3c031-e057-4e84-8237-30b744f57939",
   "metadata": {},
   "outputs": [
    {
     "data": {
      "text/plain": [
       "CryoSleep\n",
       "False        5439\n",
       "True         3037\n",
       "Unknown       217\n",
       "dtype: int64"
      ]
     },
     "execution_count": 17,
     "metadata": {},
     "output_type": "execute_result"
    }
   ],
   "source": [
    "# Sueño criogenico\n",
    "train_df['CryoSleep'].fillna('Unknown', inplace=True)\n",
    "train_df.value_counts(['CryoSleep'])"
   ]
  },
  {
   "cell_type": "code",
   "execution_count": 18,
   "id": "e30daa3f-24bf-4d30-9b6d-52da1a4b6a10",
   "metadata": {},
   "outputs": [],
   "source": [
    "def calc_detail_cabin(x, position):\n",
    "\t# Divides la cadena en subcadenas utilizando '/' como separador y devuelve el primer elemento\n",
    "\ttry:\n",
    "\t\treturn x.split('/')[position]        \n",
    "\t# Si ocurre algún error al intentar dividir la cadena, se devuelve la cadena original\n",
    "\texcept:\n",
    "\t\treturn x"
   ]
  },
  {
   "cell_type": "code",
   "execution_count": 19,
   "id": "417d3767-1275-419c-850a-0f14ac2591fa",
   "metadata": {},
   "outputs": [],
   "source": [
    "# Información de la cabina\n",
    "train_df['Cabin'].fillna('Unknown', inplace=True)\n",
    "train_df['Cabin_Type'] = train_df['Cabin'].apply(lambda x: calc_detail_cabin(x, 0))\n",
    "train_df['Cabin_Type_2'] = train_df['Cabin'].apply(lambda x: calc_detail_cabin(x, 2))"
   ]
  },
  {
   "cell_type": "code",
   "execution_count": 20,
   "id": "3c9d94b4-b6a8-43a2-8bcb-28136a185d58",
   "metadata": {},
   "outputs": [
    {
     "data": {
      "text/plain": [
       "Cabin_Type\n",
       "F             2794\n",
       "G             2559\n",
       "E              876\n",
       "B              779\n",
       "C              747\n",
       "D              478\n",
       "A              256\n",
       "Unknown        199\n",
       "T                5\n",
       "dtype: int64"
      ]
     },
     "execution_count": 20,
     "metadata": {},
     "output_type": "execute_result"
    }
   ],
   "source": [
    "train_df.value_counts(['Cabin_Type'])"
   ]
  },
  {
   "cell_type": "code",
   "execution_count": 21,
   "id": "1fad39b1-f944-4b3e-878d-13616a4d5c1a",
   "metadata": {},
   "outputs": [
    {
     "data": {
      "text/plain": [
       "Cabin_Type_2\n",
       "S               4288\n",
       "P               4206\n",
       "Unknown          199\n",
       "dtype: int64"
      ]
     },
     "execution_count": 21,
     "metadata": {},
     "output_type": "execute_result"
    }
   ],
   "source": [
    "train_df.value_counts(['Cabin_Type_2'])"
   ]
  },
  {
   "cell_type": "code",
   "execution_count": 22,
   "id": "19c8ebf0-c042-46ea-9c13-856e4ae8384c",
   "metadata": {},
   "outputs": [
    {
     "data": {
      "text/plain": [
       "Destination  \n",
       "TRAPPIST-1e      5915\n",
       "55 Cancri e      1800\n",
       "PSO J318.5-22     796\n",
       "Unknown           182\n",
       "dtype: int64"
      ]
     },
     "execution_count": 22,
     "metadata": {},
     "output_type": "execute_result"
    }
   ],
   "source": [
    "# Destino\n",
    "train_df['Destination'].fillna('Unknown', inplace=True)\n",
    "train_df.value_counts(['Destination'])"
   ]
  },
  {
   "cell_type": "code",
   "execution_count": 23,
   "id": "1fbe913b-9e55-4e95-bd2f-26cbcd988cb9",
   "metadata": {},
   "outputs": [
    {
     "data": {
      "image/png": "[encoded data removed]",
      "text/plain": [
       "<Figure size 432x288 with 1 Axes>"
      ]
     },
     "metadata": {
      "needs_background": "light"
     },
     "output_type": "display_data"
    }
   ],
   "source": [
    "#Edad\n",
    "train_df['Age'].fillna(round(train_df['Age'].mean()), inplace=True)\n",
    "train_df['Age'].hist()\n",
    "plt.show()"
   ]
  },
  {
   "cell_type": "code",
   "execution_count": 24,
   "id": "3a11411e-8ee1-449b-9d81-3dfff69b9899",
   "metadata": {},
   "outputs": [
    {
     "data": {
      "text/plain": [
       "VIP    \n",
       "False      8291\n",
       "Unknown     203\n",
       "True        199\n",
       "dtype: int64"
      ]
     },
     "execution_count": 24,
     "metadata": {},
     "output_type": "execute_result"
    }
   ],
   "source": [
    "# VIP\n",
    "train_df['VIP'].fillna('Unknown', inplace=True)\n",
    "train_df.value_counts(['VIP'])"
   ]
  },
  {
   "cell_type": "code",
   "execution_count": 25,
   "id": "f06cd7e8-e75c-412c-9e6c-1af8653f14f6",
   "metadata": {},
   "outputs": [],
   "source": [
    "# Variables numéricas $$\n",
    "train_df['RoomService'].fillna(0, inplace=True)\n",
    "train_df['FoodCourt'].fillna(0, inplace=True)\n",
    "train_df['ShoppingMall'].fillna(0, inplace=True)\n",
    "train_df['Spa'].fillna(0, inplace=True)\n",
    "train_df['VRDeck'].fillna(0, inplace=True)"
   ]
  },
  {
   "cell_type": "code",
   "execution_count": 26,
   "id": "c3208ae0-dbd4-4dce-ab65-58806ec62d55",
   "metadata": {},
   "outputs": [],
   "source": [
    "# Eliminamos el nombre\n",
    "train_df.drop('Name', axis= 1, inplace=True)"
   ]
  },
  {
   "cell_type": "code",
   "execution_count": 27,
   "id": "e6483938-f2cc-405f-9838-93786b21cfda",
   "metadata": {},
   "outputs": [],
   "source": [
    "train_df['Transported'].replace([False, True], [0, 1], inplace=True)"
   ]
  },
  {
   "cell_type": "markdown",
   "id": "4f19c9a5-ff75-4f94-83cd-56515b02e2ec",
   "metadata": {},
   "source": [
    "### **Preparando los datos para el modelo**"
   ]
  },
  {
   "cell_type": "code",
   "execution_count": 28,
   "id": "b37bf4dd-0b7b-44b5-8384-c06bafaa3c6b",
   "metadata": {},
   "outputs": [],
   "source": [
    "train_df['CryoSleep'].replace([False, True, 'Unknown'], [0, 1, 0], inplace=True)\n",
    "train_df['VIP'].replace([False, True, 'Unknown'], [0, 1, 0], inplace=True)"
   ]
  },
  {
   "cell_type": "code",
   "execution_count": 29,
   "id": "df6783e4-0562-40f8-b1e9-1e298fa41e4d",
   "metadata": {},
   "outputs": [],
   "source": [
    "home_planet_dum = pd.get_dummies(train_df['HomePlanet'])\n",
    "destination_dum = pd.get_dummies(train_df['Destination'])\n",
    "cabin_I_dum = pd.get_dummies(train_df['Cabin_Type'])\n",
    "cabin_II_dum = pd.get_dummies(train_df['Cabin_Type_2'])"
   ]
  },
  {
   "cell_type": "code",
   "execution_count": 110,
   "id": "0d2a7773-51ea-4119-a2b4-d1985b057a5a",
   "metadata": {},
   "outputs": [],
   "source": [
    "X = train_df.drop(\n",
    "    ['PassengerId', 'HomePlanet', 'Cabin', 'Destination', 'Cabin_Type', 'Cabin_Type_2'], \n",
    "    axis=1\n",
    ")"
   ]
  },
  {
   "cell_type": "code",
   "execution_count": 111,
   "id": "0e6e0f5d-8621-4904-8180-19f12519ff30",
   "metadata": {},
   "outputs": [],
   "source": [
    "X = pd.merge(X.reset_index(), home_planet_dum.reset_index(), how='left', left_on='index', right_on='index')\n",
    "X = pd.merge(X, destination_dum.reset_index(), how='left', left_on='index', right_on='index')\n",
    "X = pd.merge(X, cabin_I_dum.reset_index(), how='left', left_on='index', right_on='index')\n",
    "X = pd.merge(X, cabin_II_dum.reset_index(), how='left', left_on='index', right_on='index')"
   ]
  },
  {
   "cell_type": "code",
   "execution_count": 114,
   "id": "adaebc57-3166-49d8-91bf-baccbba8ec1d",
   "metadata": {},
   "outputs": [],
   "source": [
    "X.drop(['index', 'Unknown_x', 'Unknown_y', 'Unknown_x', 'Unknown_y', 'Transported'], axis=1, inplace=True)"
   ]
  },
  {
   "cell_type": "markdown",
   "id": "6b1f0346-9b9c-4117-86bc-1ae1ad54c28d",
   "metadata": {},
   "source": [
    "## **Modelo**"
   ]
  },
  {
   "cell_type": "code",
   "execution_count": 33,
   "id": "cc161946-64c1-4c53-ae24-e503a19ea2b7",
   "metadata": {},
   "outputs": [
    {
     "data": {
      "text/plain": [
       "1    4378\n",
       "0    4315\n",
       "Name: Transported, dtype: int64"
      ]
     },
     "execution_count": 33,
     "metadata": {},
     "output_type": "execute_result"
    }
   ],
   "source": [
    "train_df['Transported'].value_counts()"
   ]
  },
  {
   "cell_type": "code",
   "execution_count": 34,
   "id": "de97c913-8338-45d2-9dc5-d43dd10cbd14",
   "metadata": {},
   "outputs": [],
   "source": [
    "y = train_df['Transported']"
   ]
  },
  {
   "cell_type": "code",
   "execution_count": 35,
   "id": "99cc922d-fab8-463e-acba-4017016494c0",
   "metadata": {},
   "outputs": [],
   "source": [
    "X_train, X_test, y_train, y_test = train_test_split(X, y, random_state=13, train_size=0.8)"
   ]
  },
  {
   "cell_type": "markdown",
   "id": "cf78e302-f88a-4448-a6ca-598cbf1cdefa",
   "metadata": {},
   "source": [
    "### **1. Random Forest**"
   ]
  },
  {
   "cell_type": "code",
   "execution_count": 36,
   "id": "9263c40a-7065-49b6-8a70-5f203b026515",
   "metadata": {},
   "outputs": [],
   "source": [
    "random_forest = RandomForestClassifier(random_state=13)"
   ]
  },
  {
   "cell_type": "code",
   "execution_count": 37,
   "id": "1335ade8-14e8-4f38-a06e-30bcbfe40353",
   "metadata": {},
   "outputs": [
    {
     "data": {
      "text/plain": [
       "RandomForestClassifier(random_state=13)"
      ]
     },
     "execution_count": 37,
     "metadata": {},
     "output_type": "execute_result"
    }
   ],
   "source": [
    "random_forest.fit(X_train, y_train)"
   ]
  },
  {
   "cell_type": "code",
   "execution_count": 38,
   "id": "3edb409c-3395-4d20-a9cd-f89f026d5ef7",
   "metadata": {},
   "outputs": [],
   "source": [
    "y_pred = random_forest.predict(X_test)"
   ]
  },
  {
   "cell_type": "code",
   "execution_count": 39,
   "id": "5266cde9-a56e-4daf-900c-0179306a0131",
   "metadata": {},
   "outputs": [
    {
     "name": "stdout",
     "output_type": "stream",
     "text": [
      "              precision    recall  f1-score   support\n",
      "\n",
      "           0       0.82      0.78      0.80       921\n",
      "           1       0.76      0.80      0.78       818\n",
      "\n",
      "    accuracy                           0.79      1739\n",
      "   macro avg       0.79      0.79      0.79      1739\n",
      "weighted avg       0.79      0.79      0.79      1739\n",
      "\n"
     ]
    }
   ],
   "source": [
    "print(classification_report(y_pred, y_test))"
   ]
  },
  {
   "cell_type": "code",
   "execution_count": 40,
   "id": "8fd1f22c-5a79-45e0-b0e0-c1b8d774d7f2",
   "metadata": {},
   "outputs": [
    {
     "data": {
      "image/png": "[encoded data removed]",
      "text/plain": [
       "<Figure size 432x288 with 2 Axes>"
      ]
     },
     "metadata": {
      "needs_background": "light"
     },
     "output_type": "display_data"
    }
   ],
   "source": [
    "sns.heatmap((confusion_matrix(y_pred, y_test)/len(X_test))*100, annot=True)\n",
    "plt.show()"
   ]
  },
  {
   "cell_type": "code",
   "execution_count": 41,
   "id": "82d33f0d-6a18-4ccc-9b17-301fb943606a",
   "metadata": {},
   "outputs": [
    {
     "data": {
      "text/html": [
       "<div>\n",
       "<style scoped>\n",
       "    .dataframe tbody tr th:only-of-type {\n",
       "        vertical-align: middle;\n",
       "    }\n",
       "\n",
       "    .dataframe tbody tr th {\n",
       "        vertical-align: top;\n",
       "    }\n",
       "\n",
       "    .dataframe thead th {\n",
       "        text-align: right;\n",
       "    }\n",
       "</style>\n",
       "<table border=\"1\" class=\"dataframe\">\n",
       "  <thead>\n",
       "    <tr style=\"text-align: right;\">\n",
       "      <th></th>\n",
       "      <th>feature_importance</th>\n",
       "      <th>feature_names</th>\n",
       "    </tr>\n",
       "  </thead>\n",
       "  <tbody>\n",
       "    <tr>\n",
       "      <th>1</th>\n",
       "      <td>0.176832</td>\n",
       "      <td>Age</td>\n",
       "    </tr>\n",
       "    <tr>\n",
       "      <th>6</th>\n",
       "      <td>0.127403</td>\n",
       "      <td>Spa</td>\n",
       "    </tr>\n",
       "    <tr>\n",
       "      <th>3</th>\n",
       "      <td>0.121280</td>\n",
       "      <td>RoomService</td>\n",
       "    </tr>\n",
       "    <tr>\n",
       "      <th>7</th>\n",
       "      <td>0.111661</td>\n",
       "      <td>VRDeck</td>\n",
       "    </tr>\n",
       "    <tr>\n",
       "      <th>4</th>\n",
       "      <td>0.101729</td>\n",
       "      <td>FoodCourt</td>\n",
       "    </tr>\n",
       "  </tbody>\n",
       "</table>\n",
       "</div>"
      ],
      "text/plain": [
       "   feature_importance feature_names\n",
       "1            0.176832           Age\n",
       "6            0.127403           Spa\n",
       "3            0.121280   RoomService\n",
       "7            0.111661        VRDeck\n",
       "4            0.101729     FoodCourt"
      ]
     },
     "execution_count": 41,
     "metadata": {},
     "output_type": "execute_result"
    }
   ],
   "source": [
    "feature_importance = random_forest.feature_importances_\n",
    "feature_names=X.columns\n",
    "dic_feature_importance = {\n",
    "                        'feature_importance':feature_importance ,\n",
    "                        'feature_names':feature_names }\n",
    "feature_importance_DF= pd.DataFrame(dic_feature_importance).sort_values(by='feature_importance',ascending=False)\n",
    "feature_importance_DF.head(5)"
   ]
  },
  {
   "cell_type": "markdown",
   "id": "04c29e8e-9aa0-4a70-96d7-b09d70ee39a2",
   "metadata": {},
   "source": [
    "#### **Grid Search**"
   ]
  },
  {
   "cell_type": "code",
   "execution_count": 81,
   "id": "a11829c6-8d10-4860-ab60-1c6de455e169",
   "metadata": {},
   "outputs": [],
   "source": [
    "param_grid_rf = {\n",
    "    'n_estimators': [100, 200, 300, 400, 500],\n",
    "    'max_depth': [7, 9, 11],\n",
    "    'min_samples_split': [2, 3, 4, 5]\n",
    "}"
   ]
  },
  {
   "cell_type": "code",
   "execution_count": 82,
   "id": "aa5caf3d-871e-48de-a6b5-4a8cdd4976a5",
   "metadata": {},
   "outputs": [],
   "source": [
    "rf_model = RandomForestClassifier()\n",
    "\n",
    "grid_search_rf = GridSearchCV(rf_model, param_grid_rf, cv=3)"
   ]
  },
  {
   "cell_type": "code",
   "execution_count": 83,
   "id": "1ecbca22-a693-467e-8fa6-b50d4d6b76ca",
   "metadata": {},
   "outputs": [
    {
     "data": {
      "text/plain": [
       "GridSearchCV(cv=3, estimator=RandomForestClassifier(),\n",
       "             param_grid={'max_depth': [7, 9, 11],\n",
       "                         'min_samples_split': [2, 3, 4, 5],\n",
       "                         'n_estimators': [100, 200, 300, 400, 500]})"
      ]
     },
     "execution_count": 83,
     "metadata": {},
     "output_type": "execute_result"
    }
   ],
   "source": [
    "grid_search_rf.fit(X_train, y_train)"
   ]
  },
  {
   "cell_type": "code",
   "execution_count": 84,
   "id": "d1a90b2f-abde-454e-9321-4075fa47d146",
   "metadata": {},
   "outputs": [],
   "source": [
    "y_pred_gs = grid_search_rf.predict(X_test)"
   ]
  },
  {
   "cell_type": "code",
   "execution_count": 85,
   "id": "30f7168d-ab78-4192-9067-0048aec39f99",
   "metadata": {},
   "outputs": [
    {
     "name": "stdout",
     "output_type": "stream",
     "text": [
      "              precision    recall  f1-score   support\n",
      "\n",
      "           0       0.79      0.82      0.80       852\n",
      "           1       0.82      0.79      0.80       887\n",
      "\n",
      "    accuracy                           0.80      1739\n",
      "   macro avg       0.80      0.80      0.80      1739\n",
      "weighted avg       0.80      0.80      0.80      1739\n",
      "\n"
     ]
    }
   ],
   "source": [
    "print(classification_report(y_pred_gs, y_test))"
   ]
  },
  {
   "cell_type": "code",
   "execution_count": 86,
   "id": "77d8406f-0d93-404b-98aa-8e8ca348a006",
   "metadata": {},
   "outputs": [
    {
     "data": {
      "image/png": "[encoded data removed]",
      "text/plain": [
       "<Figure size 432x288 with 2 Axes>"
      ]
     },
     "metadata": {
      "needs_background": "light"
     },
     "output_type": "display_data"
    }
   ],
   "source": [
    "sns.heatmap((confusion_matrix(y_pred_gs, y_test)/len(X_test))*100, annot=True)\n",
    "plt.show()"
   ]
  },
  {
   "cell_type": "code",
   "execution_count": 93,
   "id": "290e20ff-9d5b-4c7d-8f90-10db23be9e4b",
   "metadata": {},
   "outputs": [
    {
     "name": "stdout",
     "output_type": "stream",
     "text": [
      "Mejor conjunto de parámetros:  {'max_depth': 11, 'min_samples_split': 5, 'n_estimators': 100}\n",
      "Mejor puntaje:  0.7992522289329882\n"
     ]
    }
   ],
   "source": [
    "print(\"Mejor conjunto de parámetros: \", grid_search_rf.best_params_)\n",
    "print(\"Mejor puntaje: \", grid_search_rf.best_score_)"
   ]
  },
  {
   "cell_type": "code",
   "execution_count": 91,
   "id": "06200fb0-3ee4-4389-b21c-f70b90e469ca",
   "metadata": {},
   "outputs": [],
   "source": [
    "accuracy = accuracy_score(y_pred_gs, y_test)"
   ]
  },
  {
   "cell_type": "code",
   "execution_count": 92,
   "id": "35265567-adeb-493c-bc99-741bbd30191f",
   "metadata": {},
   "outputs": [
    {
     "data": {
      "text/plain": [
       "0.8033352501437608"
      ]
     },
     "execution_count": 92,
     "metadata": {},
     "output_type": "execute_result"
    }
   ],
   "source": [
    "accuracy"
   ]
  },
  {
   "cell_type": "markdown",
   "id": "e2934e99-0b79-4be7-9a40-32d339d8684d",
   "metadata": {},
   "source": [
    "### **2. XGBoost**"
   ]
  },
  {
   "cell_type": "code",
   "execution_count": 49,
   "id": "987fec94-7b2c-431f-9d5e-f25743727c99",
   "metadata": {},
   "outputs": [],
   "source": [
    "xgb_model = xgb.XGBClassifier()"
   ]
  },
  {
   "cell_type": "code",
   "execution_count": 50,
   "id": "ed147858-5663-446e-a1d5-ff5d4eae0253",
   "metadata": {},
   "outputs": [
    {
     "name": "stdout",
     "output_type": "stream",
     "text": [
      "[12:24:55] WARNING: D:\\bld\\xgboost-split_1645118015404\\work\\src\\learner.cc:1115: Starting in XGBoost 1.3.0, the default evaluation metric used with the objective 'binary:logistic' was changed from 'error' to 'logloss'. Explicitly set eval_metric if you'd like to restore the old behavior.\n"
     ]
    },
    {
     "data": {
      "text/plain": [
       "XGBClassifier(base_score=0.5, booster='gbtree', colsample_bylevel=1,\n",
       "              colsample_bynode=1, colsample_bytree=1, enable_categorical=False,\n",
       "              gamma=0, gpu_id=-1, importance_type=None,\n",
       "              interaction_constraints='', learning_rate=0.300000012,\n",
       "              max_delta_step=0, max_depth=6, min_child_weight=1, missing=nan,\n",
       "              monotone_constraints='()', n_estimators=100, n_jobs=4,\n",
       "              num_parallel_tree=1, predictor='auto', random_state=0,\n",
       "              reg_alpha=0, reg_lambda=1, scale_pos_weight=1, subsample=1,\n",
       "              tree_method='exact', validate_parameters=1, verbosity=None)"
      ]
     },
     "execution_count": 50,
     "metadata": {},
     "output_type": "execute_result"
    }
   ],
   "source": [
    "xgb_model.fit(X_train, y_train)"
   ]
  },
  {
   "cell_type": "code",
   "execution_count": 51,
   "id": "d5106bdd-d144-4479-b5ad-dae6093b8106",
   "metadata": {},
   "outputs": [],
   "source": [
    "y_pred_xgb = xgb_model.predict(X_test)"
   ]
  },
  {
   "cell_type": "code",
   "execution_count": 52,
   "id": "b18c775a-dc5a-430c-ac9c-b99c72e6404a",
   "metadata": {},
   "outputs": [
    {
     "name": "stdout",
     "output_type": "stream",
     "text": [
      "              precision    recall  f1-score   support\n",
      "\n",
      "           0       0.78      0.80      0.79       852\n",
      "           1       0.81      0.78      0.79       887\n",
      "\n",
      "    accuracy                           0.79      1739\n",
      "   macro avg       0.79      0.79      0.79      1739\n",
      "weighted avg       0.79      0.79      0.79      1739\n",
      "\n"
     ]
    }
   ],
   "source": [
    "print(classification_report(y_pred_xgb, y_test))"
   ]
  },
  {
   "cell_type": "code",
   "execution_count": 53,
   "id": "85a9281b-4151-421f-ae83-d277c50f0fb7",
   "metadata": {},
   "outputs": [
    {
     "data": {
      "image/png": "[encoded data removed]",
      "text/plain": [
       "<Figure size 432x288 with 2 Axes>"
      ]
     },
     "metadata": {
      "needs_background": "light"
     },
     "output_type": "display_data"
    }
   ],
   "source": [
    "sns.heatmap((confusion_matrix(y_pred_xgb, y_test)/len(X_test))*100, annot=True)\n",
    "plt.show()"
   ]
  },
  {
   "cell_type": "code",
   "execution_count": 54,
   "id": "6b063e9d-dc2a-49f5-a043-7e90d8c066f4",
   "metadata": {},
   "outputs": [
    {
     "data": {
      "text/html": [
       "<div>\n",
       "<style scoped>\n",
       "    .dataframe tbody tr th:only-of-type {\n",
       "        vertical-align: middle;\n",
       "    }\n",
       "\n",
       "    .dataframe tbody tr th {\n",
       "        vertical-align: top;\n",
       "    }\n",
       "\n",
       "    .dataframe thead th {\n",
       "        text-align: right;\n",
       "    }\n",
       "</style>\n",
       "<table border=\"1\" class=\"dataframe\">\n",
       "  <thead>\n",
       "    <tr style=\"text-align: right;\">\n",
       "      <th></th>\n",
       "      <th>feature_importance</th>\n",
       "      <th>feature_names</th>\n",
       "    </tr>\n",
       "  </thead>\n",
       "  <tbody>\n",
       "    <tr>\n",
       "      <th>0</th>\n",
       "      <td>0.482335</td>\n",
       "      <td>CryoSleep</td>\n",
       "    </tr>\n",
       "    <tr>\n",
       "      <th>8</th>\n",
       "      <td>0.136177</td>\n",
       "      <td>Earth</td>\n",
       "    </tr>\n",
       "    <tr>\n",
       "      <th>9</th>\n",
       "      <td>0.056408</td>\n",
       "      <td>Europa</td>\n",
       "    </tr>\n",
       "    <tr>\n",
       "      <th>18</th>\n",
       "      <td>0.040587</td>\n",
       "      <td>E</td>\n",
       "    </tr>\n",
       "    <tr>\n",
       "      <th>10</th>\n",
       "      <td>0.025851</td>\n",
       "      <td>Mars</td>\n",
       "    </tr>\n",
       "  </tbody>\n",
       "</table>\n",
       "</div>"
      ],
      "text/plain": [
       "    feature_importance feature_names\n",
       "0             0.482335     CryoSleep\n",
       "8             0.136177         Earth\n",
       "9             0.056408        Europa\n",
       "18            0.040587             E\n",
       "10            0.025851          Mars"
      ]
     },
     "execution_count": 54,
     "metadata": {},
     "output_type": "execute_result"
    }
   ],
   "source": [
    "feature_importance = xgb_model.feature_importances_\n",
    "feature_names=X.columns\n",
    "dic_feature_importance = {\n",
    "                        'feature_importance':feature_importance ,\n",
    "                        'feature_names':feature_names }\n",
    "feature_importance_DF= pd.DataFrame(dic_feature_importance).sort_values(by='feature_importance',ascending=False)\n",
    "feature_importance_DF.head(5)"
   ]
  },
  {
   "cell_type": "markdown",
   "id": "c6942a5d-c35d-4e51-b071-54b5b90d3c2e",
   "metadata": {},
   "source": [
    "#### **Grid Search**"
   ]
  },
  {
   "cell_type": "code",
   "execution_count": 55,
   "id": "84ceaa18-cabb-49d2-8f58-03ba6724476c",
   "metadata": {},
   "outputs": [],
   "source": [
    "param_grid = {\n",
    "    'learning_rate': [0.1, 0.01, 0.05],\n",
    "    'max_depth': [7, 9, 11],\n",
    "    'n_estimators': [100, 200, 300]\n",
    "}"
   ]
  },
  {
   "cell_type": "code",
   "execution_count": 56,
   "id": "742ebcac-9b3c-45c7-857c-cc6fe428fd75",
   "metadata": {},
   "outputs": [],
   "source": [
    "xgb_model_gs = xgb.XGBClassifier()"
   ]
  },
  {
   "cell_type": "code",
   "execution_count": 57,
   "id": "715dfa6d-0981-4b5e-845e-1782707cad38",
   "metadata": {},
   "outputs": [],
   "source": [
    "grid_search_xgb = GridSearchCV(xgb_model_gs, param_grid, cv=3)"
   ]
  },
  {
   "cell_type": "code",
   "execution_count": 58,
   "id": "a6f6c822-3a7c-4ba6-bcc5-b48729c61e4d",
   "metadata": {},
   "outputs": [
    {
     "name": "stdout",
     "output_type": "stream",
     "text": [
      "[12:24:56] WARNING: D:\\bld\\xgboost-split_1645118015404\\work\\src\\learner.cc:1115: Starting in XGBoost 1.3.0, the default evaluation metric used with the objective 'binary:logistic' was changed from 'error' to 'logloss'. Explicitly set eval_metric if you'd like to restore the old behavior.\n",
      "[12:24:57] WARNING: D:\\bld\\xgboost-split_1645118015404\\work\\src\\learner.cc:1115: Starting in XGBoost 1.3.0, the default evaluation metric used with the objective 'binary:logistic' was changed from 'error' to 'logloss'. Explicitly set eval_metric if you'd like to restore the old behavior.\n",
      "[12:24:57] WARNING: D:\\bld\\xgboost-split_1645118015404\\work\\src\\learner.cc:1115: Starting in XGBoost 1.3.0, the default evaluation metric used with the objective 'binary:logistic' was changed from 'error' to 'logloss'. Explicitly set eval_metric if you'd like to restore the old behavior.\n",
      "[12:24:58] WARNING: D:\\bld\\xgboost-split_1645118015404\\work\\src\\learner.cc:1115: Starting in XGBoost 1.3.0, the default evaluation metric used with the objective 'binary:logistic' was changed from 'error' to 'logloss'. Explicitly set eval_metric if you'd like to restore the old behavior.\n",
      "[12:24:58] WARNING: D:\\bld\\xgboost-split_1645118015404\\work\\src\\learner.cc:1115: Starting in XGBoost 1.3.0, the default evaluation metric used with the objective 'binary:logistic' was changed from 'error' to 'logloss'. Explicitly set eval_metric if you'd like to restore the old behavior.\n",
      "[12:24:59] WARNING: D:\\bld\\xgboost-split_1645118015404\\work\\src\\learner.cc:1115: Starting in XGBoost 1.3.0, the default evaluation metric used with the objective 'binary:logistic' was changed from 'error' to 'logloss'. Explicitly set eval_metric if you'd like to restore the old behavior.\n",
      "[12:25:00] WARNING: D:\\bld\\xgboost-split_1645118015404\\work\\src\\learner.cc:1115: Starting in XGBoost 1.3.0, the default evaluation metric used with the objective 'binary:logistic' was changed from 'error' to 'logloss'. Explicitly set eval_metric if you'd like to restore the old behavior.\n",
      "[12:25:02] WARNING: D:\\bld\\xgboost-split_1645118015404\\work\\src\\learner.cc:1115: Starting in XGBoost 1.3.0, the default evaluation metric used with the objective 'binary:logistic' was changed from 'error' to 'logloss'. Explicitly set eval_metric if you'd like to restore the old behavior.\n",
      "[12:25:03] WARNING: D:\\bld\\xgboost-split_1645118015404\\work\\src\\learner.cc:1115: Starting in XGBoost 1.3.0, the default evaluation metric used with the objective 'binary:logistic' was changed from 'error' to 'logloss'. Explicitly set eval_metric if you'd like to restore the old behavior.\n",
      "[12:25:06] WARNING: D:\\bld\\xgboost-split_1645118015404\\work\\src\\learner.cc:1115: Starting in XGBoost 1.3.0, the default evaluation metric used with the objective 'binary:logistic' was changed from 'error' to 'logloss'. Explicitly set eval_metric if you'd like to restore the old behavior.\n",
      "[12:25:07] WARNING: D:\\bld\\xgboost-split_1645118015404\\work\\src\\learner.cc:1115: Starting in XGBoost 1.3.0, the default evaluation metric used with the objective 'binary:logistic' was changed from 'error' to 'logloss'. Explicitly set eval_metric if you'd like to restore the old behavior.\n",
      "[12:25:08] WARNING: D:\\bld\\xgboost-split_1645118015404\\work\\src\\learner.cc:1115: Starting in XGBoost 1.3.0, the default evaluation metric used with the objective 'binary:logistic' was changed from 'error' to 'logloss'. Explicitly set eval_metric if you'd like to restore the old behavior.\n",
      "[12:25:09] WARNING: D:\\bld\\xgboost-split_1645118015404\\work\\src\\learner.cc:1115: Starting in XGBoost 1.3.0, the default evaluation metric used with the objective 'binary:logistic' was changed from 'error' to 'logloss'. Explicitly set eval_metric if you'd like to restore the old behavior.\n",
      "[12:25:11] WARNING: D:\\bld\\xgboost-split_1645118015404\\work\\src\\learner.cc:1115: Starting in XGBoost 1.3.0, the default evaluation metric used with the objective 'binary:logistic' was changed from 'error' to 'logloss'. Explicitly set eval_metric if you'd like to restore the old behavior.\n",
      "[12:25:12] WARNING: D:\\bld\\xgboost-split_1645118015404\\work\\src\\learner.cc:1115: Starting in XGBoost 1.3.0, the default evaluation metric used with the objective 'binary:logistic' was changed from 'error' to 'logloss'. Explicitly set eval_metric if you'd like to restore the old behavior.\n",
      "[12:25:14] WARNING: D:\\bld\\xgboost-split_1645118015404\\work\\src\\learner.cc:1115: Starting in XGBoost 1.3.0, the default evaluation metric used with the objective 'binary:logistic' was changed from 'error' to 'logloss'. Explicitly set eval_metric if you'd like to restore the old behavior.\n",
      "[12:25:16] WARNING: D:\\bld\\xgboost-split_1645118015404\\work\\src\\learner.cc:1115: Starting in XGBoost 1.3.0, the default evaluation metric used with the objective 'binary:logistic' was changed from 'error' to 'logloss'. Explicitly set eval_metric if you'd like to restore the old behavior.\n",
      "[12:25:18] WARNING: D:\\bld\\xgboost-split_1645118015404\\work\\src\\learner.cc:1115: Starting in XGBoost 1.3.0, the default evaluation metric used with the objective 'binary:logistic' was changed from 'error' to 'logloss'. Explicitly set eval_metric if you'd like to restore the old behavior.\n",
      "[12:25:20] WARNING: D:\\bld\\xgboost-split_1645118015404\\work\\src\\learner.cc:1115: Starting in XGBoost 1.3.0, the default evaluation metric used with the objective 'binary:logistic' was changed from 'error' to 'logloss'. Explicitly set eval_metric if you'd like to restore the old behavior.\n",
      "[12:25:21] WARNING: D:\\bld\\xgboost-split_1645118015404\\work\\src\\learner.cc:1115: Starting in XGBoost 1.3.0, the default evaluation metric used with the objective 'binary:logistic' was changed from 'error' to 'logloss'. Explicitly set eval_metric if you'd like to restore the old behavior.\n",
      "[12:25:22] WARNING: D:\\bld\\xgboost-split_1645118015404\\work\\src\\learner.cc:1115: Starting in XGBoost 1.3.0, the default evaluation metric used with the objective 'binary:logistic' was changed from 'error' to 'logloss'. Explicitly set eval_metric if you'd like to restore the old behavior.\n",
      "[12:25:23] WARNING: D:\\bld\\xgboost-split_1645118015404\\work\\src\\learner.cc:1115: Starting in XGBoost 1.3.0, the default evaluation metric used with the objective 'binary:logistic' was changed from 'error' to 'logloss'. Explicitly set eval_metric if you'd like to restore the old behavior.\n",
      "[12:25:24] WARNING: D:\\bld\\xgboost-split_1645118015404\\work\\src\\learner.cc:1115: Starting in XGBoost 1.3.0, the default evaluation metric used with the objective 'binary:logistic' was changed from 'error' to 'logloss'. Explicitly set eval_metric if you'd like to restore the old behavior.\n",
      "[12:25:26] WARNING: D:\\bld\\xgboost-split_1645118015404\\work\\src\\learner.cc:1115: Starting in XGBoost 1.3.0, the default evaluation metric used with the objective 'binary:logistic' was changed from 'error' to 'logloss'. Explicitly set eval_metric if you'd like to restore the old behavior.\n",
      "[12:25:28] WARNING: D:\\bld\\xgboost-split_1645118015404\\work\\src\\learner.cc:1115: Starting in XGBoost 1.3.0, the default evaluation metric used with the objective 'binary:logistic' was changed from 'error' to 'logloss'. Explicitly set eval_metric if you'd like to restore the old behavior.\n",
      "[12:25:30] WARNING: D:\\bld\\xgboost-split_1645118015404\\work\\src\\learner.cc:1115: Starting in XGBoost 1.3.0, the default evaluation metric used with the objective 'binary:logistic' was changed from 'error' to 'logloss'. Explicitly set eval_metric if you'd like to restore the old behavior.\n",
      "[12:25:33] WARNING: D:\\bld\\xgboost-split_1645118015404\\work\\src\\learner.cc:1115: Starting in XGBoost 1.3.0, the default evaluation metric used with the objective 'binary:logistic' was changed from 'error' to 'logloss'. Explicitly set eval_metric if you'd like to restore the old behavior.\n",
      "[12:25:36] WARNING: D:\\bld\\xgboost-split_1645118015404\\work\\src\\learner.cc:1115: Starting in XGBoost 1.3.0, the default evaluation metric used with the objective 'binary:logistic' was changed from 'error' to 'logloss'. Explicitly set eval_metric if you'd like to restore the old behavior.\n",
      "[12:25:37] WARNING: D:\\bld\\xgboost-split_1645118015404\\work\\src\\learner.cc:1115: Starting in XGBoost 1.3.0, the default evaluation metric used with the objective 'binary:logistic' was changed from 'error' to 'logloss'. Explicitly set eval_metric if you'd like to restore the old behavior.\n",
      "[12:25:37] WARNING: D:\\bld\\xgboost-split_1645118015404\\work\\src\\learner.cc:1115: Starting in XGBoost 1.3.0, the default evaluation metric used with the objective 'binary:logistic' was changed from 'error' to 'logloss'. Explicitly set eval_metric if you'd like to restore the old behavior.\n",
      "[12:25:38] WARNING: D:\\bld\\xgboost-split_1645118015404\\work\\src\\learner.cc:1115: Starting in XGBoost 1.3.0, the default evaluation metric used with the objective 'binary:logistic' was changed from 'error' to 'logloss'. Explicitly set eval_metric if you'd like to restore the old behavior.\n",
      "[12:25:39] WARNING: D:\\bld\\xgboost-split_1645118015404\\work\\src\\learner.cc:1115: Starting in XGBoost 1.3.0, the default evaluation metric used with the objective 'binary:logistic' was changed from 'error' to 'logloss'. Explicitly set eval_metric if you'd like to restore the old behavior.\n",
      "[12:25:41] WARNING: D:\\bld\\xgboost-split_1645118015404\\work\\src\\learner.cc:1115: Starting in XGBoost 1.3.0, the default evaluation metric used with the objective 'binary:logistic' was changed from 'error' to 'logloss'. Explicitly set eval_metric if you'd like to restore the old behavior.\n",
      "[12:25:42] WARNING: D:\\bld\\xgboost-split_1645118015404\\work\\src\\learner.cc:1115: Starting in XGBoost 1.3.0, the default evaluation metric used with the objective 'binary:logistic' was changed from 'error' to 'logloss'. Explicitly set eval_metric if you'd like to restore the old behavior.\n",
      "[12:25:44] WARNING: D:\\bld\\xgboost-split_1645118015404\\work\\src\\learner.cc:1115: Starting in XGBoost 1.3.0, the default evaluation metric used with the objective 'binary:logistic' was changed from 'error' to 'logloss'. Explicitly set eval_metric if you'd like to restore the old behavior.\n",
      "[12:25:46] WARNING: D:\\bld\\xgboost-split_1645118015404\\work\\src\\learner.cc:1115: Starting in XGBoost 1.3.0, the default evaluation metric used with the objective 'binary:logistic' was changed from 'error' to 'logloss'. Explicitly set eval_metric if you'd like to restore the old behavior.\n",
      "[12:25:47] WARNING: D:\\bld\\xgboost-split_1645118015404\\work\\src\\learner.cc:1115: Starting in XGBoost 1.3.0, the default evaluation metric used with the objective 'binary:logistic' was changed from 'error' to 'logloss'. Explicitly set eval_metric if you'd like to restore the old behavior.\n",
      "[12:25:48] WARNING: D:\\bld\\xgboost-split_1645118015404\\work\\src\\learner.cc:1115: Starting in XGBoost 1.3.0, the default evaluation metric used with the objective 'binary:logistic' was changed from 'error' to 'logloss'. Explicitly set eval_metric if you'd like to restore the old behavior.\n",
      "[12:25:49] WARNING: D:\\bld\\xgboost-split_1645118015404\\work\\src\\learner.cc:1115: Starting in XGBoost 1.3.0, the default evaluation metric used with the objective 'binary:logistic' was changed from 'error' to 'logloss'. Explicitly set eval_metric if you'd like to restore the old behavior.\n",
      "[12:25:50] WARNING: D:\\bld\\xgboost-split_1645118015404\\work\\src\\learner.cc:1115: Starting in XGBoost 1.3.0, the default evaluation metric used with the objective 'binary:logistic' was changed from 'error' to 'logloss'. Explicitly set eval_metric if you'd like to restore the old behavior.\n",
      "[12:25:52] WARNING: D:\\bld\\xgboost-split_1645118015404\\work\\src\\learner.cc:1115: Starting in XGBoost 1.3.0, the default evaluation metric used with the objective 'binary:logistic' was changed from 'error' to 'logloss'. Explicitly set eval_metric if you'd like to restore the old behavior.\n",
      "[12:25:54] WARNING: D:\\bld\\xgboost-split_1645118015404\\work\\src\\learner.cc:1115: Starting in XGBoost 1.3.0, the default evaluation metric used with the objective 'binary:logistic' was changed from 'error' to 'logloss'. Explicitly set eval_metric if you'd like to restore the old behavior.\n",
      "[12:25:55] WARNING: D:\\bld\\xgboost-split_1645118015404\\work\\src\\learner.cc:1115: Starting in XGBoost 1.3.0, the default evaluation metric used with the objective 'binary:logistic' was changed from 'error' to 'logloss'. Explicitly set eval_metric if you'd like to restore the old behavior.\n",
      "[12:25:58] WARNING: D:\\bld\\xgboost-split_1645118015404\\work\\src\\learner.cc:1115: Starting in XGBoost 1.3.0, the default evaluation metric used with the objective 'binary:logistic' was changed from 'error' to 'logloss'. Explicitly set eval_metric if you'd like to restore the old behavior.\n",
      "[12:26:02] WARNING: D:\\bld\\xgboost-split_1645118015404\\work\\src\\learner.cc:1115: Starting in XGBoost 1.3.0, the default evaluation metric used with the objective 'binary:logistic' was changed from 'error' to 'logloss'. Explicitly set eval_metric if you'd like to restore the old behavior.\n",
      "[12:26:05] WARNING: D:\\bld\\xgboost-split_1645118015404\\work\\src\\learner.cc:1115: Starting in XGBoost 1.3.0, the default evaluation metric used with the objective 'binary:logistic' was changed from 'error' to 'logloss'. Explicitly set eval_metric if you'd like to restore the old behavior.\n",
      "[12:26:06] WARNING: D:\\bld\\xgboost-split_1645118015404\\work\\src\\learner.cc:1115: Starting in XGBoost 1.3.0, the default evaluation metric used with the objective 'binary:logistic' was changed from 'error' to 'logloss'. Explicitly set eval_metric if you'd like to restore the old behavior.\n",
      "[12:26:08] WARNING: D:\\bld\\xgboost-split_1645118015404\\work\\src\\learner.cc:1115: Starting in XGBoost 1.3.0, the default evaluation metric used with the objective 'binary:logistic' was changed from 'error' to 'logloss'. Explicitly set eval_metric if you'd like to restore the old behavior.\n",
      "[12:26:09] WARNING: D:\\bld\\xgboost-split_1645118015404\\work\\src\\learner.cc:1115: Starting in XGBoost 1.3.0, the default evaluation metric used with the objective 'binary:logistic' was changed from 'error' to 'logloss'. Explicitly set eval_metric if you'd like to restore the old behavior.\n",
      "[12:26:12] WARNING: D:\\bld\\xgboost-split_1645118015404\\work\\src\\learner.cc:1115: Starting in XGBoost 1.3.0, the default evaluation metric used with the objective 'binary:logistic' was changed from 'error' to 'logloss'. Explicitly set eval_metric if you'd like to restore the old behavior.\n",
      "[12:26:16] WARNING: D:\\bld\\xgboost-split_1645118015404\\work\\src\\learner.cc:1115: Starting in XGBoost 1.3.0, the default evaluation metric used with the objective 'binary:logistic' was changed from 'error' to 'logloss'. Explicitly set eval_metric if you'd like to restore the old behavior.\n",
      "[12:26:19] WARNING: D:\\bld\\xgboost-split_1645118015404\\work\\src\\learner.cc:1115: Starting in XGBoost 1.3.0, the default evaluation metric used with the objective 'binary:logistic' was changed from 'error' to 'logloss'. Explicitly set eval_metric if you'd like to restore the old behavior.\n",
      "[12:26:23] WARNING: D:\\bld\\xgboost-split_1645118015404\\work\\src\\learner.cc:1115: Starting in XGBoost 1.3.0, the default evaluation metric used with the objective 'binary:logistic' was changed from 'error' to 'logloss'. Explicitly set eval_metric if you'd like to restore the old behavior.\n",
      "[12:26:28] WARNING: D:\\bld\\xgboost-split_1645118015404\\work\\src\\learner.cc:1115: Starting in XGBoost 1.3.0, the default evaluation metric used with the objective 'binary:logistic' was changed from 'error' to 'logloss'. Explicitly set eval_metric if you'd like to restore the old behavior.\n",
      "[12:26:33] WARNING: D:\\bld\\xgboost-split_1645118015404\\work\\src\\learner.cc:1115: Starting in XGBoost 1.3.0, the default evaluation metric used with the objective 'binary:logistic' was changed from 'error' to 'logloss'. Explicitly set eval_metric if you'd like to restore the old behavior.\n",
      "[12:26:34] WARNING: D:\\bld\\xgboost-split_1645118015404\\work\\src\\learner.cc:1115: Starting in XGBoost 1.3.0, the default evaluation metric used with the objective 'binary:logistic' was changed from 'error' to 'logloss'. Explicitly set eval_metric if you'd like to restore the old behavior.\n",
      "[12:26:35] WARNING: D:\\bld\\xgboost-split_1645118015404\\work\\src\\learner.cc:1115: Starting in XGBoost 1.3.0, the default evaluation metric used with the objective 'binary:logistic' was changed from 'error' to 'logloss'. Explicitly set eval_metric if you'd like to restore the old behavior.\n",
      "[12:26:36] WARNING: D:\\bld\\xgboost-split_1645118015404\\work\\src\\learner.cc:1115: Starting in XGBoost 1.3.0, the default evaluation metric used with the objective 'binary:logistic' was changed from 'error' to 'logloss'. Explicitly set eval_metric if you'd like to restore the old behavior.\n",
      "[12:26:38] WARNING: D:\\bld\\xgboost-split_1645118015404\\work\\src\\learner.cc:1115: Starting in XGBoost 1.3.0, the default evaluation metric used with the objective 'binary:logistic' was changed from 'error' to 'logloss'. Explicitly set eval_metric if you'd like to restore the old behavior.\n",
      "[12:26:39] WARNING: D:\\bld\\xgboost-split_1645118015404\\work\\src\\learner.cc:1115: Starting in XGBoost 1.3.0, the default evaluation metric used with the objective 'binary:logistic' was changed from 'error' to 'logloss'. Explicitly set eval_metric if you'd like to restore the old behavior.\n",
      "[12:26:42] WARNING: D:\\bld\\xgboost-split_1645118015404\\work\\src\\learner.cc:1115: Starting in XGBoost 1.3.0, the default evaluation metric used with the objective 'binary:logistic' was changed from 'error' to 'logloss'. Explicitly set eval_metric if you'd like to restore the old behavior.\n",
      "[12:26:45] WARNING: D:\\bld\\xgboost-split_1645118015404\\work\\src\\learner.cc:1115: Starting in XGBoost 1.3.0, the default evaluation metric used with the objective 'binary:logistic' was changed from 'error' to 'logloss'. Explicitly set eval_metric if you'd like to restore the old behavior.\n",
      "[12:26:47] WARNING: D:\\bld\\xgboost-split_1645118015404\\work\\src\\learner.cc:1115: Starting in XGBoost 1.3.0, the default evaluation metric used with the objective 'binary:logistic' was changed from 'error' to 'logloss'. Explicitly set eval_metric if you'd like to restore the old behavior.\n",
      "[12:26:50] WARNING: D:\\bld\\xgboost-split_1645118015404\\work\\src\\learner.cc:1115: Starting in XGBoost 1.3.0, the default evaluation metric used with the objective 'binary:logistic' was changed from 'error' to 'logloss'. Explicitly set eval_metric if you'd like to restore the old behavior.\n",
      "[12:26:51] WARNING: D:\\bld\\xgboost-split_1645118015404\\work\\src\\learner.cc:1115: Starting in XGBoost 1.3.0, the default evaluation metric used with the objective 'binary:logistic' was changed from 'error' to 'logloss'. Explicitly set eval_metric if you'd like to restore the old behavior.\n",
      "[12:26:53] WARNING: D:\\bld\\xgboost-split_1645118015404\\work\\src\\learner.cc:1115: Starting in XGBoost 1.3.0, the default evaluation metric used with the objective 'binary:logistic' was changed from 'error' to 'logloss'. Explicitly set eval_metric if you'd like to restore the old behavior.\n",
      "[12:26:55] WARNING: D:\\bld\\xgboost-split_1645118015404\\work\\src\\learner.cc:1115: Starting in XGBoost 1.3.0, the default evaluation metric used with the objective 'binary:logistic' was changed from 'error' to 'logloss'. Explicitly set eval_metric if you'd like to restore the old behavior.\n",
      "[12:26:58] WARNING: D:\\bld\\xgboost-split_1645118015404\\work\\src\\learner.cc:1115: Starting in XGBoost 1.3.0, the default evaluation metric used with the objective 'binary:logistic' was changed from 'error' to 'logloss'. Explicitly set eval_metric if you'd like to restore the old behavior.\n",
      "[12:27:00] WARNING: D:\\bld\\xgboost-split_1645118015404\\work\\src\\learner.cc:1115: Starting in XGBoost 1.3.0, the default evaluation metric used with the objective 'binary:logistic' was changed from 'error' to 'logloss'. Explicitly set eval_metric if you'd like to restore the old behavior.\n",
      "[12:27:03] WARNING: D:\\bld\\xgboost-split_1645118015404\\work\\src\\learner.cc:1115: Starting in XGBoost 1.3.0, the default evaluation metric used with the objective 'binary:logistic' was changed from 'error' to 'logloss'. Explicitly set eval_metric if you'd like to restore the old behavior.\n",
      "[12:27:06] WARNING: D:\\bld\\xgboost-split_1645118015404\\work\\src\\learner.cc:1115: Starting in XGBoost 1.3.0, the default evaluation metric used with the objective 'binary:logistic' was changed from 'error' to 'logloss'. Explicitly set eval_metric if you'd like to restore the old behavior.\n",
      "[12:27:08] WARNING: D:\\bld\\xgboost-split_1645118015404\\work\\src\\learner.cc:1115: Starting in XGBoost 1.3.0, the default evaluation metric used with the objective 'binary:logistic' was changed from 'error' to 'logloss'. Explicitly set eval_metric if you'd like to restore the old behavior.\n",
      "[12:27:10] WARNING: D:\\bld\\xgboost-split_1645118015404\\work\\src\\learner.cc:1115: Starting in XGBoost 1.3.0, the default evaluation metric used with the objective 'binary:logistic' was changed from 'error' to 'logloss'. Explicitly set eval_metric if you'd like to restore the old behavior.\n",
      "[12:27:11] WARNING: D:\\bld\\xgboost-split_1645118015404\\work\\src\\learner.cc:1115: Starting in XGBoost 1.3.0, the default evaluation metric used with the objective 'binary:logistic' was changed from 'error' to 'logloss'. Explicitly set eval_metric if you'd like to restore the old behavior.\n",
      "[12:27:12] WARNING: D:\\bld\\xgboost-split_1645118015404\\work\\src\\learner.cc:1115: Starting in XGBoost 1.3.0, the default evaluation metric used with the objective 'binary:logistic' was changed from 'error' to 'logloss'. Explicitly set eval_metric if you'd like to restore the old behavior.\n",
      "[12:27:13] WARNING: D:\\bld\\xgboost-split_1645118015404\\work\\src\\learner.cc:1115: Starting in XGBoost 1.3.0, the default evaluation metric used with the objective 'binary:logistic' was changed from 'error' to 'logloss'. Explicitly set eval_metric if you'd like to restore the old behavior.\n",
      "[12:27:16] WARNING: D:\\bld\\xgboost-split_1645118015404\\work\\src\\learner.cc:1115: Starting in XGBoost 1.3.0, the default evaluation metric used with the objective 'binary:logistic' was changed from 'error' to 'logloss'. Explicitly set eval_metric if you'd like to restore the old behavior.\n",
      "[12:27:19] WARNING: D:\\bld\\xgboost-split_1645118015404\\work\\src\\learner.cc:1115: Starting in XGBoost 1.3.0, the default evaluation metric used with the objective 'binary:logistic' was changed from 'error' to 'logloss'. Explicitly set eval_metric if you'd like to restore the old behavior.\n",
      "[12:27:21] WARNING: D:\\bld\\xgboost-split_1645118015404\\work\\src\\learner.cc:1115: Starting in XGBoost 1.3.0, the default evaluation metric used with the objective 'binary:logistic' was changed from 'error' to 'logloss'. Explicitly set eval_metric if you'd like to restore the old behavior.\n",
      "[12:27:23] WARNING: D:\\bld\\xgboost-split_1645118015404\\work\\src\\learner.cc:1115: Starting in XGBoost 1.3.0, the default evaluation metric used with the objective 'binary:logistic' was changed from 'error' to 'logloss'. Explicitly set eval_metric if you'd like to restore the old behavior.\n",
      "[12:27:26] WARNING: D:\\bld\\xgboost-split_1645118015404\\work\\src\\learner.cc:1115: Starting in XGBoost 1.3.0, the default evaluation metric used with the objective 'binary:logistic' was changed from 'error' to 'logloss'. Explicitly set eval_metric if you'd like to restore the old behavior.\n",
      "[12:27:28] WARNING: D:\\bld\\xgboost-split_1645118015404\\work\\src\\learner.cc:1115: Starting in XGBoost 1.3.0, the default evaluation metric used with the objective 'binary:logistic' was changed from 'error' to 'logloss'. Explicitly set eval_metric if you'd like to restore the old behavior.\n"
     ]
    },
    {
     "data": {
      "text/plain": [
       "GridSearchCV(cv=3,\n",
       "             estimator=XGBClassifier(base_score=None, booster=None,\n",
       "                                     colsample_bylevel=None,\n",
       "                                     colsample_bynode=None,\n",
       "                                     colsample_bytree=None,\n",
       "                                     enable_categorical=False, gamma=None,\n",
       "                                     gpu_id=None, importance_type=None,\n",
       "                                     interaction_constraints=None,\n",
       "                                     learning_rate=None, max_delta_step=None,\n",
       "                                     max_depth=None, min_child_weight=None,\n",
       "                                     missing=nan, monotone_constraints=None,\n",
       "                                     n_estimators=100, n_jobs=None,\n",
       "                                     num_parallel_tree=None, predictor=None,\n",
       "                                     random_state=None, reg_alpha=None,\n",
       "                                     reg_lambda=None, scale_pos_weight=None,\n",
       "                                     subsample=None, tree_method=None,\n",
       "                                     validate_parameters=None, verbosity=None),\n",
       "             param_grid={'learning_rate': [0.1, 0.01, 0.05],\n",
       "                         'max_depth': [7, 9, 11],\n",
       "                         'n_estimators': [100, 200, 300]})"
      ]
     },
     "execution_count": 58,
     "metadata": {},
     "output_type": "execute_result"
    }
   ],
   "source": [
    "grid_search_xgb.fit(X_train, y_train)"
   ]
  },
  {
   "cell_type": "code",
   "execution_count": 59,
   "id": "8bd6a582-622d-4709-963a-cf7c8691dcea",
   "metadata": {},
   "outputs": [
    {
     "name": "stdout",
     "output_type": "stream",
     "text": [
      "Mejor conjunto de parámetros:  {'learning_rate': 0.05, 'max_depth': 7, 'n_estimators': 100}\n",
      "Mejor puntaje:  0.7976704055220017\n"
     ]
    }
   ],
   "source": [
    "print(\"Mejor conjunto de parámetros: \", grid_search_xgb.best_params_)\n",
    "print(\"Mejor puntaje: \", grid_search_xgb.best_score_)"
   ]
  },
  {
   "cell_type": "code",
   "execution_count": 60,
   "id": "27c88c84-49f7-40c8-badd-909c97a070a5",
   "metadata": {},
   "outputs": [],
   "source": [
    "y_pred_xgb_gs = grid_search_xgb.predict(X_test)"
   ]
  },
  {
   "cell_type": "code",
   "execution_count": 61,
   "id": "37f4f401-93b2-4d42-af03-6fac86a01cf8",
   "metadata": {},
   "outputs": [
    {
     "name": "stdout",
     "output_type": "stream",
     "text": [
      "              precision    recall  f1-score   support\n",
      "\n",
      "           0       0.77      0.81      0.79       836\n",
      "           1       0.81      0.77      0.79       903\n",
      "\n",
      "    accuracy                           0.79      1739\n",
      "   macro avg       0.79      0.79      0.79      1739\n",
      "weighted avg       0.79      0.79      0.79      1739\n",
      "\n"
     ]
    }
   ],
   "source": [
    "print(classification_report(y_pred_xgb_gs, y_test))"
   ]
  },
  {
   "cell_type": "code",
   "execution_count": 62,
   "id": "86fcbac8-be2f-4509-9013-2bc9eeae36d7",
   "metadata": {},
   "outputs": [
    {
     "data": {
      "image/png": "[encoded data removed]",
      "text/plain": [
       "<Figure size 432x288 with 2 Axes>"
      ]
     },
     "metadata": {
      "needs_background": "light"
     },
     "output_type": "display_data"
    }
   ],
   "source": [
    "sns.heatmap((confusion_matrix(y_pred_xgb_gs, y_test)/len(X_test))*100, annot=True)\n",
    "plt.show()"
   ]
  },
  {
   "cell_type": "markdown",
   "id": "d9cffe71-00b2-43e3-a4e9-05e2c542b009",
   "metadata": {},
   "source": [
    "### **3. Bagging**"
   ]
  },
  {
   "cell_type": "code",
   "execution_count": 63,
   "id": "bf04c49a-3b86-49f0-ae79-6f69c1e8a365",
   "metadata": {},
   "outputs": [],
   "source": [
    "decision_tree = DecisionTreeClassifier()"
   ]
  },
  {
   "cell_type": "code",
   "execution_count": 64,
   "id": "33fe198d-a0a1-4bdf-be92-afaa12b0adae",
   "metadata": {},
   "outputs": [],
   "source": [
    "bagging = BaggingClassifier(base_estimator=decision_tree, n_estimators=100, random_state=0)"
   ]
  },
  {
   "cell_type": "code",
   "execution_count": 65,
   "id": "7f662892-ab83-49d6-9239-305def5fff35",
   "metadata": {},
   "outputs": [
    {
     "data": {
      "text/plain": [
       "BaggingClassifier(base_estimator=DecisionTreeClassifier(), n_estimators=100,\n",
       "                  random_state=0)"
      ]
     },
     "execution_count": 65,
     "metadata": {},
     "output_type": "execute_result"
    }
   ],
   "source": [
    "bagging.fit(X_train, y_train)"
   ]
  },
  {
   "cell_type": "code",
   "execution_count": 66,
   "id": "f4e9a2ce-650d-4096-8952-26a48c53d315",
   "metadata": {},
   "outputs": [],
   "source": [
    "y_pred_bagg = bagging.predict(X_test)"
   ]
  },
  {
   "cell_type": "code",
   "execution_count": 67,
   "id": "ea1ddd50-c990-41cd-8c28-a32c36560193",
   "metadata": {},
   "outputs": [
    {
     "name": "stdout",
     "output_type": "stream",
     "text": [
      "              precision    recall  f1-score   support\n",
      "\n",
      "           0       0.81      0.79      0.80       895\n",
      "           1       0.79      0.80      0.79       844\n",
      "\n",
      "    accuracy                           0.80      1739\n",
      "   macro avg       0.80      0.80      0.80      1739\n",
      "weighted avg       0.80      0.80      0.80      1739\n",
      "\n"
     ]
    }
   ],
   "source": [
    "print(classification_report(y_pred_bagg, y_test))"
   ]
  },
  {
   "cell_type": "code",
   "execution_count": 68,
   "id": "3fa3f7ef-9012-4cad-94ac-ad5d3a8db133",
   "metadata": {},
   "outputs": [
    {
     "data": {
      "image/png": "[encoded data removed]",
      "text/plain": [
       "<Figure size 432x288 with 2 Axes>"
      ]
     },
     "metadata": {
      "needs_background": "light"
     },
     "output_type": "display_data"
    }
   ],
   "source": [
    "sns.heatmap((confusion_matrix(y_pred_bagg, y_test)/len(X_test))*100, annot=True)\n",
    "plt.show()"
   ]
  },
  {
   "cell_type": "code",
   "execution_count": 77,
   "id": "4af9aa15-f448-47a3-ac04-88bb36be8672",
   "metadata": {},
   "outputs": [],
   "source": [
    "accuracy = accuracy_score(y_pred_bagg, y_test)"
   ]
  },
  {
   "cell_type": "code",
   "execution_count": 80,
   "id": "1548d570-b8b9-4c9f-9023-9fa5a91865ee",
   "metadata": {},
   "outputs": [
    {
     "data": {
      "text/plain": [
       "0.79700977573318"
      ]
     },
     "execution_count": 80,
     "metadata": {},
     "output_type": "execute_result"
    }
   ],
   "source": [
    "accuracy"
   ]
  },
  {
   "cell_type": "markdown",
   "id": "6fb286d1-4802-4f83-8fa0-2e16f96b02a3",
   "metadata": {},
   "source": [
    "## **Modelo en dos fases**"
   ]
  },
  {
   "cell_type": "code",
   "execution_count": 119,
   "id": "52c56d11-4d1a-443f-b2e2-a07eb1b83e9e",
   "metadata": {},
   "outputs": [],
   "source": [
    "df_0 = X.query('CryoSleep == 0').copy()\n",
    "df_1 = X.query('CryoSleep == 1').copy()"
   ]
  },
  {
   "cell_type": "code",
   "execution_count": 121,
   "id": "b109bed9-a4b6-4adf-90cf-04c0a0d0a3a8",
   "metadata": {},
   "outputs": [],
   "source": [
    "X_0 = df_0.drop('Transported', axis=1)\n",
    "X_1 = df_1.drop('Transported', axis=1)"
   ]
  },
  {
   "cell_type": "code",
   "execution_count": 122,
   "id": "cdbdf057-5195-4b99-af7e-05e5e7aec642",
   "metadata": {},
   "outputs": [],
   "source": [
    "y_0 = df_0['Transported']\n",
    "y_1 = df_1['Transported']"
   ]
  },
  {
   "cell_type": "code",
   "execution_count": 132,
   "id": "1d37f3d6-db6b-4264-80e2-51f7db651d53",
   "metadata": {},
   "outputs": [],
   "source": [
    "X_0_train, X_0_test, y_0_train, y_0_test = train_test_split(X_0, y_0, random_state=13, train_size=0.8)\n",
    "X_1_train, X_1_test, y_1_train, y_1_test = train_test_split(X_1, y_1, random_state=13, train_size=0.8)"
   ]
  },
  {
   "cell_type": "markdown",
   "id": "b0fad087-b3a3-4ce6-9446-f926aa3d1a46",
   "metadata": {},
   "source": [
    "### **1. Random Forest**"
   ]
  },
  {
   "cell_type": "code",
   "execution_count": 133,
   "id": "ac77fe39-8c18-4e61-9ac0-187d950ee7b0",
   "metadata": {},
   "outputs": [],
   "source": [
    "random_forest_0 = RandomForestClassifier(random_state=13)\n",
    "random_forest_1 = RandomForestClassifier(random_state=13)"
   ]
  },
  {
   "cell_type": "code",
   "execution_count": 239,
   "id": "0a666991-cd07-4a92-98b4-f5a5f8ccdd08",
   "metadata": {},
   "outputs": [
    {
     "data": {
      "text/plain": [
       "RandomForestClassifier(random_state=13)"
      ]
     },
     "execution_count": 239,
     "metadata": {},
     "output_type": "execute_result"
    }
   ],
   "source": [
    "random_forest_0.fit(X_0_train.drop('CryoSleep', axis=1), y_0_train)\n",
    "random_forest_1.fit(X_1_train.drop('CryoSleep', axis=1), y_1_train)"
   ]
  },
  {
   "cell_type": "code",
   "execution_count": 240,
   "id": "8913fe9d-73b3-4b48-b343-65408e4380c1",
   "metadata": {},
   "outputs": [],
   "source": [
    "y_pred_0 = random_forest_0.predict(X_0_test.drop('CryoSleep', axis=1))\n",
    "y_pred_1 = random_forest_1.predict(X_1_test.drop('CryoSleep', axis=1))"
   ]
  },
  {
   "cell_type": "code",
   "execution_count": 241,
   "id": "f8467dde-af44-48c2-ae8f-e6ed591e227f",
   "metadata": {},
   "outputs": [
    {
     "name": "stdout",
     "output_type": "stream",
     "text": [
      "              precision    recall  f1-score   support\n",
      "\n",
      "           0       0.88      0.79      0.83       834\n",
      "           1       0.54      0.70      0.61       298\n",
      "\n",
      "    accuracy                           0.77      1132\n",
      "   macro avg       0.71      0.75      0.72      1132\n",
      "weighted avg       0.79      0.77      0.78      1132\n",
      "\n"
     ]
    }
   ],
   "source": [
    "print(classification_report(y_pred_0, y_0_test))"
   ]
  },
  {
   "cell_type": "code",
   "execution_count": 137,
   "id": "57577da7-9fb3-4b62-a322-2628d3dabec2",
   "metadata": {},
   "outputs": [
    {
     "name": "stdout",
     "output_type": "stream",
     "text": [
      "              precision    recall  f1-score   support\n",
      "\n",
      "           0       0.31      0.38      0.34        89\n",
      "           1       0.89      0.85      0.87       519\n",
      "\n",
      "    accuracy                           0.78       608\n",
      "   macro avg       0.60      0.62      0.61       608\n",
      "weighted avg       0.80      0.78      0.79       608\n",
      "\n"
     ]
    }
   ],
   "source": [
    "print(classification_report(y_pred_1, y_1_test))"
   ]
  },
  {
   "cell_type": "code",
   "execution_count": 195,
   "id": "b37fd437-0a56-4cca-b4c9-f346c64dad2b",
   "metadata": {},
   "outputs": [],
   "source": [
    "X_test.reset_index(drop = True, inplace=True)"
   ]
  },
  {
   "cell_type": "code",
   "execution_count": 248,
   "id": "bea0681c-2565-4a6f-895a-c5dc46c2322a",
   "metadata": {},
   "outputs": [],
   "source": [
    "resultados = []\n",
    "\n",
    "for i in range(X_test.shape[0]):\n",
    "    if X_test.iloc[i, 0] == 0:\n",
    "        prediction = random_forest_0.predict(X_test.drop('CryoSleep', axis=1).loc[i:i])[0]\n",
    "        resultados.append(prediction)\n",
    "    elif X_test.iloc[i, 0] == 1:\n",
    "        prediction = random_forest_1.predict(X_test.drop('CryoSleep', axis=1).loc[i:i])[0]\n",
    "        resultados.append(prediction)"
   ]
  },
  {
   "cell_type": "code",
   "execution_count": 249,
   "id": "b203a480-daeb-49af-b1c9-cd6ebd4938f4",
   "metadata": {},
   "outputs": [],
   "source": [
    "y_test_final = np.array(resultados)"
   ]
  },
  {
   "cell_type": "code",
   "execution_count": 250,
   "id": "92e7db78-e6d2-4025-ab8d-ea2bf8300111",
   "metadata": {},
   "outputs": [
    {
     "name": "stdout",
     "output_type": "stream",
     "text": [
      "              precision    recall  f1-score   support\n",
      "\n",
      "           0       0.92      0.94      0.93       862\n",
      "           1       0.94      0.92      0.93       877\n",
      "\n",
      "    accuracy                           0.93      1739\n",
      "   macro avg       0.93      0.93      0.93      1739\n",
      "weighted avg       0.93      0.93      0.93      1739\n",
      "\n"
     ]
    }
   ],
   "source": [
    "print(classification_report(y_test_final, y_test))"
   ]
  },
  {
   "cell_type": "code",
   "execution_count": 251,
   "id": "942d393a-7367-4ef7-a759-fd98c9b9bba3",
   "metadata": {},
   "outputs": [
    {
     "data": {
      "image/png": "[encoded data removed]",
      "text/plain": [
       "<Figure size 432x288 with 2 Axes>"
      ]
     },
     "metadata": {
      "needs_background": "light"
     },
     "output_type": "display_data"
    }
   ],
   "source": [
    "sns.heatmap((confusion_matrix(y_test_final, y_test)/len(X_test))*100, annot=True)\n",
    "plt.show()"
   ]
  },
  {
   "cell_type": "code",
   "execution_count": 252,
   "id": "95385731-df86-4fe7-ab5c-cbfc031cdc0c",
   "metadata": {},
   "outputs": [],
   "source": [
    "accuracy = accuracy_score(y_test_final, y_test)"
   ]
  },
  {
   "cell_type": "code",
   "execution_count": 253,
   "id": "cb5272cd-f625-47ee-a4d4-e9e2580e1b5f",
   "metadata": {},
   "outputs": [
    {
     "data": {
      "text/plain": [
       "0.926394479585969"
      ]
     },
     "execution_count": 253,
     "metadata": {},
     "output_type": "execute_result"
    }
   ],
   "source": [
    "accuracy"
   ]
  },
  {
   "cell_type": "markdown",
   "id": "2526003b-fbc2-4d72-9841-a613c9ddf81e",
   "metadata": {},
   "source": [
    "#### **Grid Search**"
   ]
  },
  {
   "cell_type": "code",
   "execution_count": 298,
   "id": "0811e4eb-36a9-43cf-a3dc-9a7b138e0aca",
   "metadata": {},
   "outputs": [],
   "source": [
    "param_grid_rf = {\n",
    "    'n_estimators': [100, 200, 300, 400, 500],\n",
    "    'max_depth': [7, 9, 11],\n",
    "    'min_samples_split': [2, 3, 4, 5]\n",
    "}"
   ]
  },
  {
   "cell_type": "code",
   "execution_count": 299,
   "id": "5426b26d-17e0-47e3-9fc1-01e31b1e6619",
   "metadata": {},
   "outputs": [],
   "source": [
    "rf_model_0 = RandomForestClassifier()\n",
    "rf_model_1 = RandomForestClassifier()\n",
    "\n",
    "grid_search_rf_0 = GridSearchCV(rf_model_0, param_grid_rf, cv=3)\n",
    "grid_search_rf_1 = GridSearchCV(rf_model_1, param_grid_rf, cv=3)"
   ]
  },
  {
   "cell_type": "code",
   "execution_count": 300,
   "id": "a732fe80-2926-48b3-8d4d-6b4c098ed271",
   "metadata": {},
   "outputs": [
    {
     "data": {
      "text/plain": [
       "GridSearchCV(cv=3, estimator=RandomForestClassifier(),\n",
       "             param_grid={'max_depth': [7, 9, 11],\n",
       "                         'min_samples_split': [2, 3, 4, 5],\n",
       "                         'n_estimators': [100, 200, 300, 400, 500]})"
      ]
     },
     "execution_count": 300,
     "metadata": {},
     "output_type": "execute_result"
    }
   ],
   "source": [
    "grid_search_rf_0.fit(X_0_train.drop('CryoSleep', axis=1), y_0_train)\n",
    "grid_search_rf_1.fit(X_1_train.drop('CryoSleep', axis=1), y_1_train)"
   ]
  },
  {
   "cell_type": "code",
   "execution_count": 302,
   "id": "679f687e-c197-4325-87ec-2969b5308135",
   "metadata": {},
   "outputs": [],
   "source": [
    "y_pred_gs_0 = grid_search_rf_0.predict(X_0_test.drop('CryoSleep', axis=1))\n",
    "y_pred_gs_1 = grid_search_rf_0.predict(X_1_test.drop('CryoSleep', axis=1))"
   ]
  },
  {
   "cell_type": "code",
   "execution_count": 303,
   "id": "bd4d6488-c12b-4b14-a228-9199b5d3b188",
   "metadata": {},
   "outputs": [
    {
     "name": "stdout",
     "output_type": "stream",
     "text": [
      "              precision    recall  f1-score   support\n",
      "\n",
      "           0       0.90      0.79      0.84       853\n",
      "           1       0.54      0.74      0.62       279\n",
      "\n",
      "    accuracy                           0.78      1132\n",
      "   macro avg       0.72      0.77      0.73      1132\n",
      "weighted avg       0.81      0.78      0.79      1132\n",
      "\n"
     ]
    }
   ],
   "source": [
    "print(classification_report(y_pred_gs_0, y_0_test))"
   ]
  },
  {
   "cell_type": "code",
   "execution_count": 304,
   "id": "ee32e43a-76ab-4807-807d-8665fd098a5b",
   "metadata": {},
   "outputs": [
    {
     "name": "stdout",
     "output_type": "stream",
     "text": [
      "              precision    recall  f1-score   support\n",
      "\n",
      "           0       0.85      0.34      0.48       278\n",
      "           1       0.63      0.95      0.76       330\n",
      "\n",
      "    accuracy                           0.67       608\n",
      "   macro avg       0.74      0.64      0.62       608\n",
      "weighted avg       0.73      0.67      0.63       608\n",
      "\n"
     ]
    }
   ],
   "source": [
    "print(classification_report(y_pred_gs_1, y_1_test))"
   ]
  },
  {
   "cell_type": "code",
   "execution_count": 305,
   "id": "69063c58-f87d-4607-97e4-bf3da491a560",
   "metadata": {},
   "outputs": [],
   "source": [
    "accuracy_0 = accuracy_score(y_pred_gs_0, y_0_test)\n",
    "accuracy_1 = accuracy_score(y_pred_gs_1, y_1_test)"
   ]
  },
  {
   "cell_type": "code",
   "execution_count": 307,
   "id": "93119b35-720e-4eda-8545-f0f5e440dd2a",
   "metadata": {},
   "outputs": [
    {
     "data": {
      "text/plain": [
       "(0.7782685512367491, 0.6710526315789473)"
      ]
     },
     "execution_count": 307,
     "metadata": {},
     "output_type": "execute_result"
    }
   ],
   "source": [
    "accuracy_0, accuracy_1"
   ]
  },
  {
   "cell_type": "code",
   "execution_count": 308,
   "id": "a65f38b3-fd53-483a-a01c-97ab798d7fd4",
   "metadata": {},
   "outputs": [],
   "source": [
    "resultados = []\n",
    "\n",
    "for i in range(X_test.shape[0]):\n",
    "    if X_test.iloc[i, 0] == 0:\n",
    "        prediction = grid_search_rf_0.predict(X_test.drop('CryoSleep', axis=1).loc[i:i])[0]\n",
    "        resultados.append(prediction)\n",
    "    elif X_test.iloc[i, 0] == 1:\n",
    "        prediction = grid_search_rf_1.predict(X_test.drop('CryoSleep', axis=1).loc[i:i])[0]\n",
    "        resultados.append(prediction)"
   ]
  },
  {
   "cell_type": "code",
   "execution_count": 309,
   "id": "d6676432-5238-480c-94aa-dbc01d89b07f",
   "metadata": {},
   "outputs": [],
   "source": [
    "y_test_final = np.array(resultados)"
   ]
  },
  {
   "cell_type": "code",
   "execution_count": 310,
   "id": "68a5c776-dca0-4105-a550-e11cc718b1b7",
   "metadata": {},
   "outputs": [
    {
     "name": "stdout",
     "output_type": "stream",
     "text": [
      "              precision    recall  f1-score   support\n",
      "\n",
      "           0       0.84      0.85      0.84       860\n",
      "           1       0.85      0.84      0.84       879\n",
      "\n",
      "    accuracy                           0.84      1739\n",
      "   macro avg       0.84      0.84      0.84      1739\n",
      "weighted avg       0.84      0.84      0.84      1739\n",
      "\n"
     ]
    }
   ],
   "source": [
    "print(classification_report(y_test_final, y_test))"
   ]
  },
  {
   "cell_type": "code",
   "execution_count": 311,
   "id": "570b0fd3-501e-4947-86e5-03ac79cd24cd",
   "metadata": {},
   "outputs": [
    {
     "data": {
      "image/png": "[encoded data removed]",
      "text/plain": [
       "<Figure size 432x288 with 2 Axes>"
      ]
     },
     "metadata": {
      "needs_background": "light"
     },
     "output_type": "display_data"
    }
   ],
   "source": [
    "sns.heatmap((confusion_matrix(y_test_final, y_test)/len(X_test))*100, annot=True)\n",
    "plt.show()"
   ]
  },
  {
   "cell_type": "code",
   "execution_count": 312,
   "id": "d9a4adcd-226c-48a5-aa48-6a144991c286",
   "metadata": {},
   "outputs": [],
   "source": [
    "accuracy = accuracy_score(y_test_final, y_test)"
   ]
  },
  {
   "cell_type": "code",
   "execution_count": 313,
   "id": "a9dee53b-f934-4c72-8976-ed98ef17deb5",
   "metadata": {},
   "outputs": [
    {
     "data": {
      "text/plain": [
       "0.8447383553766532"
      ]
     },
     "execution_count": 313,
     "metadata": {},
     "output_type": "execute_result"
    }
   ],
   "source": [
    "accuracy"
   ]
  },
  {
   "cell_type": "code",
   "execution_count": null,
   "id": "884cfc1f-4ee6-43b3-8bf6-a103faca2c4c",
   "metadata": {},
   "outputs": [],
   "source": []
  },
  {
   "cell_type": "code",
   "execution_count": null,
   "id": "bbd35f29-3302-4042-97ba-e06f0b9b2c74",
   "metadata": {},
   "outputs": [],
   "source": []
  },
  {
   "cell_type": "code",
   "execution_count": null,
   "id": "56c188cd-96a4-4278-9c0c-e4dffaa2b559",
   "metadata": {},
   "outputs": [],
   "source": []
  },
  {
   "cell_type": "markdown",
   "id": "9acb6a11-178c-4933-946c-a2f032907d61",
   "metadata": {},
   "source": [
    "## **Resultados**"
   ]
  },
  {
   "cell_type": "code",
   "execution_count": 255,
   "id": "c0f62e12-7f38-4cac-a526-c1e2a9b55b1d",
   "metadata": {},
   "outputs": [],
   "source": [
    "test_kaggle = pd.read_csv('./Datos/test.csv')"
   ]
  },
  {
   "cell_type": "code",
   "execution_count": 257,
   "id": "4c0ad3a1-04fb-4cfe-afd4-b60195528734",
   "metadata": {},
   "outputs": [
    {
     "data": {
      "text/html": [
       "<div>\n",
       "<style scoped>\n",
       "    .dataframe tbody tr th:only-of-type {\n",
       "        vertical-align: middle;\n",
       "    }\n",
       "\n",
       "    .dataframe tbody tr th {\n",
       "        vertical-align: top;\n",
       "    }\n",
       "\n",
       "    .dataframe thead th {\n",
       "        text-align: right;\n",
       "    }\n",
       "</style>\n",
       "<table border=\"1\" class=\"dataframe\">\n",
       "  <thead>\n",
       "    <tr style=\"text-align: right;\">\n",
       "      <th></th>\n",
       "      <th>PassengerId</th>\n",
       "      <th>HomePlanet</th>\n",
       "      <th>CryoSleep</th>\n",
       "      <th>Cabin</th>\n",
       "      <th>Destination</th>\n",
       "      <th>Age</th>\n",
       "      <th>VIP</th>\n",
       "      <th>RoomService</th>\n",
       "      <th>FoodCourt</th>\n",
       "      <th>ShoppingMall</th>\n",
       "      <th>Spa</th>\n",
       "      <th>VRDeck</th>\n",
       "      <th>Name</th>\n",
       "    </tr>\n",
       "  </thead>\n",
       "  <tbody>\n",
       "    <tr>\n",
       "      <th>899</th>\n",
       "      <td>1862_02</td>\n",
       "      <td>NaN</td>\n",
       "      <td>False</td>\n",
       "      <td>G/304/P</td>\n",
       "      <td>55 Cancri e</td>\n",
       "      <td>35.0</td>\n",
       "      <td>False</td>\n",
       "      <td>557.0</td>\n",
       "      <td>0.0</td>\n",
       "      <td>0.0</td>\n",
       "      <td>393.0</td>\n",
       "      <td>0.0</td>\n",
       "      <td>Joanry Bardsey</td>\n",
       "    </tr>\n",
       "  </tbody>\n",
       "</table>\n",
       "</div>"
      ],
      "text/plain": [
       "    PassengerId HomePlanet CryoSleep    Cabin  Destination  ...  FoodCourt ShoppingMall    Spa  VRDeck            Name\n",
       "899     1862_02        NaN     False  G/304/P  55 Cancri e  ...        0.0          0.0  393.0     0.0  Joanry Bardsey\n",
       "\n",
       "[1 rows x 13 columns]"
      ]
     },
     "execution_count": 257,
     "metadata": {},
     "output_type": "execute_result"
    }
   ],
   "source": [
    "test_kaggle.sample()"
   ]
  },
  {
   "cell_type": "markdown",
   "id": "411b3a8e-7f49-4845-a4e0-065047e66190",
   "metadata": {},
   "source": [
    "### **Limpieza y Preparación de Datos**"
   ]
  },
  {
   "cell_type": "code",
   "execution_count": 260,
   "id": "abd1ed0c-5fec-4057-935f-e68d37b4c8da",
   "metadata": {},
   "outputs": [],
   "source": [
    "# Planeta natal\n",
    "test_kaggle['HomePlanet'].fillna('Unknown', inplace=True)\n",
    "\n",
    "# Sueño criogenico\n",
    "test_kaggle['CryoSleep'].fillna('Unknown', inplace=True)"
   ]
  },
  {
   "cell_type": "code",
   "execution_count": 261,
   "id": "88a7b2b3-5223-47f8-b42b-93ef4c1ddc33",
   "metadata": {},
   "outputs": [],
   "source": [
    "def calc_detail_cabin(x, position):\n",
    "\t# Divides la cadena en subcadenas utilizando '/' como separador y devuelve el primer elemento\n",
    "\ttry:\n",
    "\t\treturn x.split('/')[position]        \n",
    "\t# Si ocurre algún error al intentar dividir la cadena, se devuelve la cadena original\n",
    "\texcept:\n",
    "\t\treturn x"
   ]
  },
  {
   "cell_type": "code",
   "execution_count": 262,
   "id": "c16002e5-dcee-4ef5-ba31-17c91ddc2232",
   "metadata": {},
   "outputs": [],
   "source": [
    "# Información de la cabina\n",
    "test_kaggle['Cabin'].fillna('Unknown', inplace=True)\n",
    "test_kaggle['Cabin_Type'] = test_kaggle['Cabin'].apply(lambda x: calc_detail_cabin(x, 0))\n",
    "test_kaggle['Cabin_Type_2'] = test_kaggle['Cabin'].apply(lambda x: calc_detail_cabin(x, 2))"
   ]
  },
  {
   "cell_type": "code",
   "execution_count": 263,
   "id": "8dc9e4a9-dd77-4b6a-a6cd-f091db4536ff",
   "metadata": {},
   "outputs": [],
   "source": [
    "# Destino\n",
    "test_kaggle['Destination'].fillna('Unknown', inplace=True)"
   ]
  },
  {
   "cell_type": "code",
   "execution_count": 264,
   "id": "24b6c136-f7f1-4054-be4b-3986487b6e4c",
   "metadata": {},
   "outputs": [],
   "source": [
    "#Edad\n",
    "test_kaggle['Age'].fillna(round(test_kaggle['Age'].mean()), inplace=True)"
   ]
  },
  {
   "cell_type": "code",
   "execution_count": 265,
   "id": "7ad180ce-8028-46a8-bfdf-09a43003cdd2",
   "metadata": {},
   "outputs": [],
   "source": [
    "# VIP\n",
    "test_kaggle['VIP'].fillna('Unknown', inplace=True)"
   ]
  },
  {
   "cell_type": "code",
   "execution_count": 266,
   "id": "f736c853-38e7-4759-aacf-e6c1d4a61625",
   "metadata": {},
   "outputs": [],
   "source": [
    "# Variables numéricas $$\n",
    "test_kaggle['RoomService'].fillna(0, inplace=True)\n",
    "test_kaggle['FoodCourt'].fillna(0, inplace=True)\n",
    "test_kaggle['ShoppingMall'].fillna(0, inplace=True)\n",
    "test_kaggle['Spa'].fillna(0, inplace=True)\n",
    "test_kaggle['VRDeck'].fillna(0, inplace=True)"
   ]
  },
  {
   "cell_type": "code",
   "execution_count": 267,
   "id": "0646a054-3c46-4849-86a2-0d898cba2bc5",
   "metadata": {},
   "outputs": [],
   "source": [
    "# Eliminamos el nombre\n",
    "test_kaggle.drop('Name', axis= 1, inplace=True)"
   ]
  },
  {
   "cell_type": "markdown",
   "id": "9143c86c-2c42-4fcd-8319-a137635827ee",
   "metadata": {},
   "source": [
    "### **Preparando los datos para el modelo**"
   ]
  },
  {
   "cell_type": "code",
   "execution_count": 269,
   "id": "e0043994-4f97-4941-8df4-1a34501933f7",
   "metadata": {},
   "outputs": [],
   "source": [
    "test_kaggle['CryoSleep'].replace([False, True, 'Unknown'], [0, 1, 0], inplace=True)\n",
    "test_kaggle['VIP'].replace([False, True, 'Unknown'], [0, 1, 0], inplace=True)"
   ]
  },
  {
   "cell_type": "code",
   "execution_count": 270,
   "id": "b071ba63-86bc-4d41-9dc2-7f90acdb363a",
   "metadata": {},
   "outputs": [],
   "source": [
    "home_planet_dum = pd.get_dummies(test_kaggle['HomePlanet'])\n",
    "destination_dum = pd.get_dummies(test_kaggle['Destination'])\n",
    "cabin_I_dum = pd.get_dummies(test_kaggle['Cabin_Type'])\n",
    "cabin_II_dum = pd.get_dummies(test_kaggle['Cabin_Type_2'])"
   ]
  },
  {
   "cell_type": "code",
   "execution_count": 271,
   "id": "14ecefee-3c57-4381-91f5-ed8446191346",
   "metadata": {},
   "outputs": [],
   "source": [
    "X_kaggle = test_kaggle.drop(\n",
    "    ['PassengerId', 'HomePlanet', 'Cabin', 'Destination', 'Cabin_Type', 'Cabin_Type_2'], \n",
    "    axis=1\n",
    ")"
   ]
  },
  {
   "cell_type": "code",
   "execution_count": 272,
   "id": "16e03baf-24d9-4d6b-8602-fee1be2d2222",
   "metadata": {},
   "outputs": [],
   "source": [
    "X_kaggle = pd.merge(X_kaggle.reset_index(), home_planet_dum.reset_index(), how='left', left_on='index', right_on='index')\n",
    "X_kaggle = pd.merge(X_kaggle, destination_dum.reset_index(), how='left', left_on='index', right_on='index')\n",
    "X_kaggle = pd.merge(X_kaggle, cabin_I_dum.reset_index(), how='left', left_on='index', right_on='index')\n",
    "X_kaggle = pd.merge(X_kaggle, cabin_II_dum.reset_index(), how='left', left_on='index', right_on='index')"
   ]
  },
  {
   "cell_type": "code",
   "execution_count": 274,
   "id": "1296d0b6-1c81-49ca-8e4e-9964b518ab55",
   "metadata": {},
   "outputs": [],
   "source": [
    "X_kaggle.drop(['index', 'Unknown_x', 'Unknown_y', 'Unknown_x', 'Unknown_y'], axis=1, inplace=True)"
   ]
  },
  {
   "cell_type": "code",
   "execution_count": 314,
   "id": "4480a65f-9182-47d1-8bf8-a8c1abc838d2",
   "metadata": {},
   "outputs": [],
   "source": [
    "resultados_kaggle = []\n",
    "\n",
    "for i in range(X_kaggle.shape[0]):\n",
    "    if X_kaggle.iloc[i, 0] == 0:\n",
    "        prediction = grid_search_rf_0.predict(X_kaggle.drop('CryoSleep', axis=1).loc[i:i])[0]\n",
    "        resultados_kaggle.append(prediction)\n",
    "    elif X_kaggle.iloc[i, 0] == 1:\n",
    "        prediction = grid_search_rf_1.predict(X_kaggle.drop('CryoSleep', axis=1).loc[i:i])[0]\n",
    "        resultados_kaggle.append(prediction)"
   ]
  },
  {
   "cell_type": "code",
   "execution_count": 285,
   "id": "6dac802b-6050-4b49-b1aa-9b1ecbe14e13",
   "metadata": {},
   "outputs": [],
   "source": [
    "prediccion_final_kaggle = pd.DataFrame(resultados_kaggle)\n",
    "prediccion_final_kaggle.columns = ['Transported']"
   ]
  },
  {
   "cell_type": "code",
   "execution_count": 291,
   "id": "32b24a96-288f-4923-9868-2094fe3f47a9",
   "metadata": {},
   "outputs": [],
   "source": [
    "final = pd.merge(test_kaggle[['PassengerId']].reset_index(), prediccion_final_kaggle.reset_index())\n",
    "final.drop('index', axis=1, inplace=True)"
   ]
  },
  {
   "cell_type": "code",
   "execution_count": 315,
   "id": "ea96843c-e687-4aad-ba35-1c4bfca8317d",
   "metadata": {},
   "outputs": [],
   "source": [
    "final['Transported'] = np.where(final['Transported'] == 1, True, False)"
   ]
  },
  {
   "cell_type": "code",
   "execution_count": 316,
   "id": "465c3d0c-5ff0-4044-a244-b08eb2e2d942",
   "metadata": {},
   "outputs": [],
   "source": [
    "final.to_csv('./Datos/Resultados_002.csv', index=False)"
   ]
  }
 ],
 "metadata": {
  "kernelspec": {
   "display_name": "Python 3 (ipykernel)",
   "language": "python",
   "name": "python3"
  },
  "language_info": {
   "codemirror_mode": {
    "name": "ipython",
    "version": 3
   },
   "file_extension": ".py",
   "mimetype": "text/x-python",
   "name": "python",
   "nbconvert_exporter": "python",
   "pygments_lexer": "ipython3",
   "version": "3.10.4"
  }
 },
 "nbformat": 4,
 "nbformat_minor": 5
}
