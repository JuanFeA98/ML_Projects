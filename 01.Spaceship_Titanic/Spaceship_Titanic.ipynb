{
 "cells": [
  {
   "cell_type": "markdown",
   "id": "9c4e5878-f680-4f47-b4a1-8355a6d09b8e",
   "metadata": {},
   "source": [
    "# **Spaceship Titanic**"
   ]
  },
  {
   "cell_type": "markdown",
   "id": "7e739890-6a24-4087-ae29-9d76efb99f01",
   "metadata": {},
   "source": [
    "## **Librerías**"
   ]
  },
  {
   "cell_type": "code",
   "execution_count": 1,
   "id": "c090dcaa-667a-40ae-bf69-04b2780962e3",
   "metadata": {},
   "outputs": [],
   "source": [
    "import pandas as pd\n",
    "import numpy as np\n",
    "import matplotlib.pyplot as plt\n",
    "import seaborn as sns"
   ]
  },
  {
   "cell_type": "code",
   "execution_count": 2,
   "id": "75c79320-1b84-47f1-a653-03ff6c4fc313",
   "metadata": {},
   "outputs": [],
   "source": [
    "pd.options.display.max_columns = False"
   ]
  },
  {
   "cell_type": "code",
   "execution_count": 3,
   "id": "115032b5-6c51-4739-b060-4928ee39b3d5",
   "metadata": {},
   "outputs": [],
   "source": [
    "from datetime import datetime, timedelta\n",
    "import winsound"
   ]
  },
  {
   "cell_type": "code",
   "execution_count": 4,
   "id": "5e102546-5ee0-4768-8c3c-18b01808c7c5",
   "metadata": {},
   "outputs": [],
   "source": [
    "import sys"
   ]
  },
  {
   "cell_type": "code",
   "execution_count": 5,
   "id": "7363a590-f01b-4700-b61f-6dfcc163a164",
   "metadata": {},
   "outputs": [],
   "source": [
    "sys.path.append('C:/Users/jmart/OneDrive/Documentos/Proyectos/Proyectos_Web/Utils')"
   ]
  },
  {
   "cell_type": "code",
   "execution_count": 223,
   "id": "f8aa94b4-44fd-4c01-a9e0-8f176231ebfc",
   "metadata": {},
   "outputs": [],
   "source": [
    "from sklearn.model_selection import train_test_split"
   ]
  },
  {
   "cell_type": "code",
   "execution_count": 212,
   "id": "2146e806-cb06-486f-ae03-f22a2bb87234",
   "metadata": {},
   "outputs": [],
   "source": [
    "from sklearn.ensemble import RandomForestClassifier\n",
    "from sklearn.metrics import classification_report, confusion_matrix"
   ]
  },
  {
   "cell_type": "markdown",
   "id": "db1085e0-d73c-459f-846c-57cece20d527",
   "metadata": {},
   "source": [
    "## **Datos**"
   ]
  },
  {
   "cell_type": "code",
   "execution_count": 248,
   "id": "650809ab-ddd6-4fa7-b6b5-eb7ea889840d",
   "metadata": {},
   "outputs": [],
   "source": [
    "train_df = pd.read_csv('./Datos/train.csv')"
   ]
  },
  {
   "cell_type": "code",
   "execution_count": 249,
   "id": "644db3ae-acde-4beb-8cd3-4fb48461268d",
   "metadata": {},
   "outputs": [
    {
     "data": {
      "text/html": [
       "<div>\n",
       "<style scoped>\n",
       "    .dataframe tbody tr th:only-of-type {\n",
       "        vertical-align: middle;\n",
       "    }\n",
       "\n",
       "    .dataframe tbody tr th {\n",
       "        vertical-align: top;\n",
       "    }\n",
       "\n",
       "    .dataframe thead th {\n",
       "        text-align: right;\n",
       "    }\n",
       "</style>\n",
       "<table border=\"1\" class=\"dataframe\">\n",
       "  <thead>\n",
       "    <tr style=\"text-align: right;\">\n",
       "      <th></th>\n",
       "      <th>PassengerId</th>\n",
       "      <th>HomePlanet</th>\n",
       "      <th>CryoSleep</th>\n",
       "      <th>Cabin</th>\n",
       "      <th>Destination</th>\n",
       "      <th>Age</th>\n",
       "      <th>VIP</th>\n",
       "      <th>RoomService</th>\n",
       "      <th>FoodCourt</th>\n",
       "      <th>ShoppingMall</th>\n",
       "      <th>Spa</th>\n",
       "      <th>VRDeck</th>\n",
       "      <th>Name</th>\n",
       "      <th>Transported</th>\n",
       "    </tr>\n",
       "  </thead>\n",
       "  <tbody>\n",
       "    <tr>\n",
       "      <th>2044</th>\n",
       "      <td>2189_01</td>\n",
       "      <td>Earth</td>\n",
       "      <td>NaN</td>\n",
       "      <td>G/354/P</td>\n",
       "      <td>TRAPPIST-1e</td>\n",
       "      <td>34.0</td>\n",
       "      <td>False</td>\n",
       "      <td>0.0</td>\n",
       "      <td>0.0</td>\n",
       "      <td>0.0</td>\n",
       "      <td>628.0</td>\n",
       "      <td>0.0</td>\n",
       "      <td>Nelly Cruzaley</td>\n",
       "      <td>False</td>\n",
       "    </tr>\n",
       "  </tbody>\n",
       "</table>\n",
       "</div>"
      ],
      "text/plain": [
       "     PassengerId HomePlanet CryoSleep    Cabin  Destination  ...  ShoppingMall    Spa  VRDeck            Name  Transported\n",
       "2044     2189_01      Earth       NaN  G/354/P  TRAPPIST-1e  ...           0.0  628.0     0.0  Nelly Cruzaley        False\n",
       "\n",
       "[1 rows x 14 columns]"
      ]
     },
     "execution_count": 249,
     "metadata": {},
     "output_type": "execute_result"
    }
   ],
   "source": [
    "train_df.sample()"
   ]
  },
  {
   "cell_type": "code",
   "execution_count": 250,
   "id": "f194eab1-80b1-4a5a-a44c-f872c9ff2472",
   "metadata": {},
   "outputs": [
    {
     "name": "stdout",
     "output_type": "stream",
     "text": [
      "<class 'pandas.core.frame.DataFrame'>\n",
      "RangeIndex: 8693 entries, 0 to 8692\n",
      "Data columns (total 14 columns):\n",
      " #   Column        Non-Null Count  Dtype  \n",
      "---  ------        --------------  -----  \n",
      " 0   PassengerId   8693 non-null   object \n",
      " 1   HomePlanet    8492 non-null   object \n",
      " 2   CryoSleep     8476 non-null   object \n",
      " 3   Cabin         8494 non-null   object \n",
      " 4   Destination   8511 non-null   object \n",
      " 5   Age           8514 non-null   float64\n",
      " 6   VIP           8490 non-null   object \n",
      " 7   RoomService   8512 non-null   float64\n",
      " 8   FoodCourt     8510 non-null   float64\n",
      " 9   ShoppingMall  8485 non-null   float64\n",
      " 10  Spa           8510 non-null   float64\n",
      " 11  VRDeck        8505 non-null   float64\n",
      " 12  Name          8493 non-null   object \n",
      " 13  Transported   8693 non-null   bool   \n",
      "dtypes: bool(1), float64(6), object(7)\n",
      "memory usage: 891.5+ KB\n"
     ]
    }
   ],
   "source": [
    "train_df.info()"
   ]
  },
  {
   "cell_type": "code",
   "execution_count": 251,
   "id": "998a7deb-24a3-4ebb-8d61-1e7e8f895ba9",
   "metadata": {},
   "outputs": [
    {
     "data": {
      "text/html": [
       "<div>\n",
       "<style scoped>\n",
       "    .dataframe tbody tr th:only-of-type {\n",
       "        vertical-align: middle;\n",
       "    }\n",
       "\n",
       "    .dataframe tbody tr th {\n",
       "        vertical-align: top;\n",
       "    }\n",
       "\n",
       "    .dataframe thead th {\n",
       "        text-align: right;\n",
       "    }\n",
       "</style>\n",
       "<table border=\"1\" class=\"dataframe\">\n",
       "  <thead>\n",
       "    <tr style=\"text-align: right;\">\n",
       "      <th></th>\n",
       "      <th>Age</th>\n",
       "      <th>RoomService</th>\n",
       "      <th>FoodCourt</th>\n",
       "      <th>ShoppingMall</th>\n",
       "      <th>Spa</th>\n",
       "      <th>VRDeck</th>\n",
       "    </tr>\n",
       "  </thead>\n",
       "  <tbody>\n",
       "    <tr>\n",
       "      <th>count</th>\n",
       "      <td>8514.000000</td>\n",
       "      <td>8512.000000</td>\n",
       "      <td>8510.000000</td>\n",
       "      <td>8485.000000</td>\n",
       "      <td>8510.000000</td>\n",
       "      <td>8505.000000</td>\n",
       "    </tr>\n",
       "    <tr>\n",
       "      <th>mean</th>\n",
       "      <td>28.827930</td>\n",
       "      <td>224.687617</td>\n",
       "      <td>458.077203</td>\n",
       "      <td>173.729169</td>\n",
       "      <td>311.138778</td>\n",
       "      <td>304.854791</td>\n",
       "    </tr>\n",
       "    <tr>\n",
       "      <th>std</th>\n",
       "      <td>14.489021</td>\n",
       "      <td>666.717663</td>\n",
       "      <td>1611.489240</td>\n",
       "      <td>604.696458</td>\n",
       "      <td>1136.705535</td>\n",
       "      <td>1145.717189</td>\n",
       "    </tr>\n",
       "    <tr>\n",
       "      <th>min</th>\n",
       "      <td>0.000000</td>\n",
       "      <td>0.000000</td>\n",
       "      <td>0.000000</td>\n",
       "      <td>0.000000</td>\n",
       "      <td>0.000000</td>\n",
       "      <td>0.000000</td>\n",
       "    </tr>\n",
       "    <tr>\n",
       "      <th>25%</th>\n",
       "      <td>19.000000</td>\n",
       "      <td>0.000000</td>\n",
       "      <td>0.000000</td>\n",
       "      <td>0.000000</td>\n",
       "      <td>0.000000</td>\n",
       "      <td>0.000000</td>\n",
       "    </tr>\n",
       "    <tr>\n",
       "      <th>50%</th>\n",
       "      <td>27.000000</td>\n",
       "      <td>0.000000</td>\n",
       "      <td>0.000000</td>\n",
       "      <td>0.000000</td>\n",
       "      <td>0.000000</td>\n",
       "      <td>0.000000</td>\n",
       "    </tr>\n",
       "    <tr>\n",
       "      <th>75%</th>\n",
       "      <td>38.000000</td>\n",
       "      <td>47.000000</td>\n",
       "      <td>76.000000</td>\n",
       "      <td>27.000000</td>\n",
       "      <td>59.000000</td>\n",
       "      <td>46.000000</td>\n",
       "    </tr>\n",
       "    <tr>\n",
       "      <th>max</th>\n",
       "      <td>79.000000</td>\n",
       "      <td>14327.000000</td>\n",
       "      <td>29813.000000</td>\n",
       "      <td>23492.000000</td>\n",
       "      <td>22408.000000</td>\n",
       "      <td>24133.000000</td>\n",
       "    </tr>\n",
       "  </tbody>\n",
       "</table>\n",
       "</div>"
      ],
      "text/plain": [
       "               Age   RoomService     FoodCourt  ShoppingMall           Spa        VRDeck\n",
       "count  8514.000000   8512.000000   8510.000000   8485.000000   8510.000000   8505.000000\n",
       "mean     28.827930    224.687617    458.077203    173.729169    311.138778    304.854791\n",
       "std      14.489021    666.717663   1611.489240    604.696458   1136.705535   1145.717189\n",
       "min       0.000000      0.000000      0.000000      0.000000      0.000000      0.000000\n",
       "25%      19.000000      0.000000      0.000000      0.000000      0.000000      0.000000\n",
       "50%      27.000000      0.000000      0.000000      0.000000      0.000000      0.000000\n",
       "75%      38.000000     47.000000     76.000000     27.000000     59.000000     46.000000\n",
       "max      79.000000  14327.000000  29813.000000  23492.000000  22408.000000  24133.000000"
      ]
     },
     "execution_count": 251,
     "metadata": {},
     "output_type": "execute_result"
    }
   ],
   "source": [
    "train_df.describe()"
   ]
  },
  {
   "cell_type": "markdown",
   "id": "bd4f3fbc-6d8c-41c2-801c-3abb90957c0c",
   "metadata": {},
   "source": [
    "### **Limpieza y Preparación de Datos**"
   ]
  },
  {
   "cell_type": "code",
   "execution_count": 252,
   "id": "505458b9-dacf-442e-a4ae-40233a23ee9b",
   "metadata": {},
   "outputs": [
    {
     "data": {
      "text/plain": [
       "HomePlanet\n",
       "Earth         4602\n",
       "Europa        2131\n",
       "Mars          1759\n",
       "Unknown        201\n",
       "dtype: int64"
      ]
     },
     "execution_count": 252,
     "metadata": {},
     "output_type": "execute_result"
    }
   ],
   "source": [
    "# Planeta natal\n",
    "train_df['HomePlanet'].fillna('Unknown', inplace=True)\n",
    "train_df.value_counts(['HomePlanet'])"
   ]
  },
  {
   "cell_type": "code",
   "execution_count": 253,
   "id": "a5e3c031-e057-4e84-8237-30b744f57939",
   "metadata": {},
   "outputs": [
    {
     "data": {
      "text/plain": [
       "CryoSleep\n",
       "False        5439\n",
       "True         3037\n",
       "Unknown       217\n",
       "dtype: int64"
      ]
     },
     "execution_count": 253,
     "metadata": {},
     "output_type": "execute_result"
    }
   ],
   "source": [
    "# Sueño criogenico\n",
    "train_df['CryoSleep'].fillna('Unknown', inplace=True)\n",
    "train_df.value_counts(['CryoSleep'])"
   ]
  },
  {
   "cell_type": "code",
   "execution_count": 254,
   "id": "e30daa3f-24bf-4d30-9b6d-52da1a4b6a10",
   "metadata": {},
   "outputs": [],
   "source": [
    "def calc_detail_cabin(x, position):\n",
    "\t# Divides la cadena en subcadenas utilizando '/' como separador y devuelve el primer elemento\n",
    "\ttry:\n",
    "\t\treturn x.split('/')[position]        \n",
    "\t# Si ocurre algún error al intentar dividir la cadena, se devuelve la cadena original\n",
    "\texcept:\n",
    "\t\treturn x"
   ]
  },
  {
   "cell_type": "code",
   "execution_count": 255,
   "id": "417d3767-1275-419c-850a-0f14ac2591fa",
   "metadata": {},
   "outputs": [],
   "source": [
    "# Información de la cabina\n",
    "train_df['Cabin'].fillna('Unknown', inplace=True)\n",
    "train_df['Cabin_Type'] = train_df['Cabin'].apply(lambda x: calc_detail_cabin(x, 0))\n",
    "train_df['Cabin_Type_2'] = train_df['Cabin'].apply(lambda x: calc_detail_cabin(x, 2))"
   ]
  },
  {
   "cell_type": "code",
   "execution_count": 256,
   "id": "3c9d94b4-b6a8-43a2-8bcb-28136a185d58",
   "metadata": {},
   "outputs": [
    {
     "data": {
      "text/plain": [
       "Cabin_Type\n",
       "F             2794\n",
       "G             2559\n",
       "E              876\n",
       "B              779\n",
       "C              747\n",
       "D              478\n",
       "A              256\n",
       "Unknown        199\n",
       "T                5\n",
       "dtype: int64"
      ]
     },
     "execution_count": 256,
     "metadata": {},
     "output_type": "execute_result"
    }
   ],
   "source": [
    "train_df.value_counts(['Cabin_Type'])"
   ]
  },
  {
   "cell_type": "code",
   "execution_count": 257,
   "id": "1fad39b1-f944-4b3e-878d-13616a4d5c1a",
   "metadata": {},
   "outputs": [
    {
     "data": {
      "text/plain": [
       "Cabin_Type_2\n",
       "S               4288\n",
       "P               4206\n",
       "Unknown          199\n",
       "dtype: int64"
      ]
     },
     "execution_count": 257,
     "metadata": {},
     "output_type": "execute_result"
    }
   ],
   "source": [
    "train_df.value_counts(['Cabin_Type_2'])"
   ]
  },
  {
   "cell_type": "code",
   "execution_count": 258,
   "id": "19c8ebf0-c042-46ea-9c13-856e4ae8384c",
   "metadata": {},
   "outputs": [
    {
     "data": {
      "text/plain": [
       "Destination  \n",
       "TRAPPIST-1e      5915\n",
       "55 Cancri e      1800\n",
       "PSO J318.5-22     796\n",
       "Unknown           182\n",
       "dtype: int64"
      ]
     },
     "execution_count": 258,
     "metadata": {},
     "output_type": "execute_result"
    }
   ],
   "source": [
    "# Destino\n",
    "train_df['Destination'].fillna('Unknown', inplace=True)\n",
    "train_df.value_counts(['Destination'])"
   ]
  },
  {
   "cell_type": "code",
   "execution_count": 259,
   "id": "1fbe913b-9e55-4e95-bd2f-26cbcd988cb9",
   "metadata": {},
   "outputs": [
    {
     "data": {
      "image/png": "[encoded data removed]",
      "text/plain": [
       "<Figure size 432x288 with 1 Axes>"
      ]
     },
     "metadata": {
      "needs_background": "light"
     },
     "output_type": "display_data"
    }
   ],
   "source": [
    "#Edad\n",
    "train_df['Age'].fillna(round(train_df['Age'].mean()), inplace=True)\n",
    "train_df['Age'].hist()\n",
    "plt.show()"
   ]
  },
  {
   "cell_type": "code",
   "execution_count": 260,
   "id": "3a11411e-8ee1-449b-9d81-3dfff69b9899",
   "metadata": {},
   "outputs": [
    {
     "data": {
      "text/plain": [
       "VIP    \n",
       "False      8291\n",
       "Unknown     203\n",
       "True        199\n",
       "dtype: int64"
      ]
     },
     "execution_count": 260,
     "metadata": {},
     "output_type": "execute_result"
    }
   ],
   "source": [
    "# VIP\n",
    "train_df['VIP'].fillna('Unknown', inplace=True)\n",
    "train_df.value_counts(['VIP'])"
   ]
  },
  {
   "cell_type": "code",
   "execution_count": 261,
   "id": "f06cd7e8-e75c-412c-9e6c-1af8653f14f6",
   "metadata": {},
   "outputs": [],
   "source": [
    "# Variables numéricas $$\n",
    "train_df['RoomService'].fillna(0, inplace=True)\n",
    "train_df['FoodCourt'].fillna(0, inplace=True)\n",
    "train_df['ShoppingMall'].fillna(0, inplace=True)\n",
    "train_df['Spa'].fillna(0, inplace=True)\n",
    "train_df['VRDeck'].fillna(0, inplace=True)"
   ]
  },
  {
   "cell_type": "code",
   "execution_count": 262,
   "id": "c3208ae0-dbd4-4dce-ab65-58806ec62d55",
   "metadata": {},
   "outputs": [],
   "source": [
    "# Eliminamos el nombre\n",
    "train_df.drop('Name', axis= 1, inplace=True)"
   ]
  },
  {
   "cell_type": "code",
   "execution_count": 263,
   "id": "e6483938-f2cc-405f-9838-93786b21cfda",
   "metadata": {},
   "outputs": [],
   "source": [
    "train_df['Transported'].replace([False, True], [0, 1], inplace=True)"
   ]
  },
  {
   "cell_type": "markdown",
   "id": "4f19c9a5-ff75-4f94-83cd-56515b02e2ec",
   "metadata": {},
   "source": [
    "### **Preparando los datos para el modelo**"
   ]
  },
  {
   "cell_type": "code",
   "execution_count": 264,
   "id": "b37bf4dd-0b7b-44b5-8384-c06bafaa3c6b",
   "metadata": {},
   "outputs": [],
   "source": [
    "train_df['CryoSleep'].replace([False, True, 'Unknown'], [0, 1, 0], inplace=True)\n",
    "train_df['VIP'].replace([False, True, 'Unknown'], [0, 1, 0], inplace=True)"
   ]
  },
  {
   "cell_type": "code",
   "execution_count": 265,
   "id": "df6783e4-0562-40f8-b1e9-1e298fa41e4d",
   "metadata": {},
   "outputs": [],
   "source": [
    "home_planet_dum = pd.get_dummies(train_df['HomePlanet'])\n",
    "destination_dum = pd.get_dummies(train_df['Destination'])\n",
    "cabin_I_dum = pd.get_dummies(train_df['Cabin_Type'])\n",
    "cabin_II_dum = pd.get_dummies(train_df['Cabin_Type_2'])"
   ]
  },
  {
   "cell_type": "code",
   "execution_count": 266,
   "id": "0d2a7773-51ea-4119-a2b4-d1985b057a5a",
   "metadata": {},
   "outputs": [],
   "source": [
    "X = train_df.drop(\n",
    "    ['PassengerId', 'HomePlanet', 'Cabin', 'Destination', 'Cabin_Type', 'Cabin_Type_2'], \n",
    "    axis=1\n",
    ")"
   ]
  },
  {
   "cell_type": "code",
   "execution_count": 267,
   "id": "0e6e0f5d-8621-4904-8180-19f12519ff30",
   "metadata": {},
   "outputs": [
    {
     "name": "stderr",
     "output_type": "stream",
     "text": [
      "C:\\Users\\jmart\\AppData\\Local\\Temp\\ipykernel_17144\\1860298275.py:4: FutureWarning: Passing 'suffixes' which cause duplicate columns {'Unknown_x'} in the result is deprecated and will raise a MergeError in a future version.\n",
      "  X = pd.merge(X, cabin_II_dum.reset_index(), how='left', left_on='index', right_on='index')\n"
     ]
    }
   ],
   "source": [
    "X = pd.merge(X.reset_index(), home_planet_dum.reset_index(), how='left', left_on='index', right_on='index')\n",
    "X = pd.merge(X, destination_dum.reset_index(), how='left', left_on='index', right_on='index')\n",
    "X = pd.merge(X, cabin_I_dum.reset_index(), how='left', left_on='index', right_on='index')\n",
    "X = pd.merge(X, cabin_II_dum.reset_index(), how='left', left_on='index', right_on='index')"
   ]
  },
  {
   "cell_type": "code",
   "execution_count": 268,
   "id": "adaebc57-3166-49d8-91bf-baccbba8ec1d",
   "metadata": {},
   "outputs": [],
   "source": [
    "X.drop(['index', 'Unknown_x', 'Unknown_y', 'Unknown_x', 'Unknown_y', 'Transported'], axis=1, inplace=True)"
   ]
  },
  {
   "cell_type": "markdown",
   "id": "6b1f0346-9b9c-4117-86bc-1ae1ad54c28d",
   "metadata": {},
   "source": [
    "## **Modelo**"
   ]
  },
  {
   "cell_type": "code",
   "execution_count": 270,
   "id": "cc161946-64c1-4c53-ae24-e503a19ea2b7",
   "metadata": {},
   "outputs": [
    {
     "data": {
      "text/plain": [
       "1    4378\n",
       "0    4315\n",
       "Name: Transported, dtype: int64"
      ]
     },
     "execution_count": 270,
     "metadata": {},
     "output_type": "execute_result"
    }
   ],
   "source": [
    "train_df['Transported'].value_counts()"
   ]
  },
  {
   "cell_type": "code",
   "execution_count": 271,
   "id": "de97c913-8338-45d2-9dc5-d43dd10cbd14",
   "metadata": {},
   "outputs": [],
   "source": [
    "y = train_df['Transported']"
   ]
  },
  {
   "cell_type": "code",
   "execution_count": 272,
   "id": "99cc922d-fab8-463e-acba-4017016494c0",
   "metadata": {},
   "outputs": [],
   "source": [
    "X_train, X_test, y_train, y_test = train_test_split(X, y, random_state=13, train_size=0.8)"
   ]
  },
  {
   "cell_type": "markdown",
   "id": "cf78e302-f88a-4448-a6ca-598cbf1cdefa",
   "metadata": {},
   "source": [
    "### **1. Random Forest**"
   ]
  },
  {
   "cell_type": "code",
   "execution_count": 273,
   "id": "9263c40a-7065-49b6-8a70-5f203b026515",
   "metadata": {},
   "outputs": [],
   "source": [
    "random_forest = RandomForestClassifier()"
   ]
  },
  {
   "cell_type": "code",
   "execution_count": 274,
   "id": "1335ade8-14e8-4f38-a06e-30bcbfe40353",
   "metadata": {},
   "outputs": [
    {
     "data": {
      "text/plain": [
       "RandomForestClassifier()"
      ]
     },
     "execution_count": 274,
     "metadata": {},
     "output_type": "execute_result"
    }
   ],
   "source": [
    "random_forest.fit(X_train, y_train)"
   ]
  },
  {
   "cell_type": "code",
   "execution_count": 275,
   "id": "3edb409c-3395-4d20-a9cd-f89f026d5ef7",
   "metadata": {},
   "outputs": [],
   "source": [
    "y_pred = random_forest.predict(X_test)"
   ]
  },
  {
   "cell_type": "code",
   "execution_count": 278,
   "id": "5266cde9-a56e-4daf-900c-0179306a0131",
   "metadata": {},
   "outputs": [
    {
     "name": "stdout",
     "output_type": "stream",
     "text": [
      "              precision    recall  f1-score   support\n",
      "\n",
      "           0       0.82      0.80      0.81       906\n",
      "           1       0.78      0.81      0.80       833\n",
      "\n",
      "    accuracy                           0.80      1739\n",
      "   macro avg       0.80      0.80      0.80      1739\n",
      "weighted avg       0.80      0.80      0.80      1739\n",
      "\n"
     ]
    }
   ],
   "source": [
    "print(classification_report(y_pred, y_test))"
   ]
  },
  {
   "cell_type": "code",
   "execution_count": 277,
   "id": "8fd1f22c-5a79-45e0-b0e0-c1b8d774d7f2",
   "metadata": {},
   "outputs": [
    {
     "data": {
      "image/png": "[encoded data removed]",
      "text/plain": [
       "<Figure size 432x288 with 2 Axes>"
      ]
     },
     "metadata": {
      "needs_background": "light"
     },
     "output_type": "display_data"
    }
   ],
   "source": [
    "sns.heatmap((confusion_matrix(y_pred, y_test)/len(X_test))*100, annot=True)\n",
    "plt.show()"
   ]
  },
  {
   "cell_type": "code",
   "execution_count": 281,
   "id": "82d33f0d-6a18-4ccc-9b17-301fb943606a",
   "metadata": {},
   "outputs": [
    {
     "data": {
      "text/html": [
       "<div>\n",
       "<style scoped>\n",
       "    .dataframe tbody tr th:only-of-type {\n",
       "        vertical-align: middle;\n",
       "    }\n",
       "\n",
       "    .dataframe tbody tr th {\n",
       "        vertical-align: top;\n",
       "    }\n",
       "\n",
       "    .dataframe thead th {\n",
       "        text-align: right;\n",
       "    }\n",
       "</style>\n",
       "<table border=\"1\" class=\"dataframe\">\n",
       "  <thead>\n",
       "    <tr style=\"text-align: right;\">\n",
       "      <th></th>\n",
       "      <th>feature_importance</th>\n",
       "      <th>feature_names</th>\n",
       "    </tr>\n",
       "  </thead>\n",
       "  <tbody>\n",
       "    <tr>\n",
       "      <th>1</th>\n",
       "      <td>0.175718</td>\n",
       "      <td>Age</td>\n",
       "    </tr>\n",
       "    <tr>\n",
       "      <th>6</th>\n",
       "      <td>0.119084</td>\n",
       "      <td>Spa</td>\n",
       "    </tr>\n",
       "    <tr>\n",
       "      <th>3</th>\n",
       "      <td>0.115851</td>\n",
       "      <td>RoomService</td>\n",
       "    </tr>\n",
       "    <tr>\n",
       "      <th>7</th>\n",
       "      <td>0.110468</td>\n",
       "      <td>VRDeck</td>\n",
       "    </tr>\n",
       "    <tr>\n",
       "      <th>4</th>\n",
       "      <td>0.107065</td>\n",
       "      <td>FoodCourt</td>\n",
       "    </tr>\n",
       "  </tbody>\n",
       "</table>\n",
       "</div>"
      ],
      "text/plain": [
       "   feature_importance feature_names\n",
       "1            0.175718           Age\n",
       "6            0.119084           Spa\n",
       "3            0.115851   RoomService\n",
       "7            0.110468        VRDeck\n",
       "4            0.107065     FoodCourt"
      ]
     },
     "execution_count": 281,
     "metadata": {},
     "output_type": "execute_result"
    }
   ],
   "source": [
    "feature_importance = random_forest.feature_importances_\n",
    "feature_names=X.columns\n",
    "dic_feature_importance = {\n",
    "                        'feature_importance':feature_importance ,\n",
    "                        'feature_names':feature_names }\n",
    "feature_importance_DF= pd.DataFrame(dic_feature_importance).sort_values(by='feature_importance',ascending=False)\n",
    "feature_importance_DF.head(5)"
   ]
  }
 ],
 "metadata": {
  "kernelspec": {
   "display_name": "Python 3 (ipykernel)",
   "language": "python",
   "name": "python3"
  },
  "language_info": {
   "codemirror_mode": {
    "name": "ipython",
    "version": 3
   },
   "file_extension": ".py",
   "mimetype": "text/x-python",
   "name": "python",
   "nbconvert_exporter": "python",
   "pygments_lexer": "ipython3",
   "version": "3.10.4"
  }
 },
 "nbformat": 4,
 "nbformat_minor": 5
}
