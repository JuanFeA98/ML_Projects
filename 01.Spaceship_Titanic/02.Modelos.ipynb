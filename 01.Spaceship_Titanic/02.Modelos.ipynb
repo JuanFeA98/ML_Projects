{
 "cells": [
  {
   "cell_type": "markdown",
   "id": "9c4e5878-f680-4f47-b4a1-8355a6d09b8e",
   "metadata": {},
   "source": [
    "# **Spaceship Titanic**"
   ]
  },
  {
   "cell_type": "markdown",
   "id": "7e739890-6a24-4087-ae29-9d76efb99f01",
   "metadata": {},
   "source": [
    "## **Librerías**"
   ]
  },
  {
   "cell_type": "code",
   "execution_count": 2,
   "id": "c090dcaa-667a-40ae-bf69-04b2780962e3",
   "metadata": {},
   "outputs": [],
   "source": [
    "import pandas as pd\n",
    "import numpy as np\n",
    "import matplotlib.pyplot as plt\n",
    "import seaborn as sns"
   ]
  },
  {
   "cell_type": "code",
   "execution_count": 3,
   "id": "75c79320-1b84-47f1-a653-03ff6c4fc313",
   "metadata": {},
   "outputs": [],
   "source": [
    "pd.options.display.max_columns = False"
   ]
  },
  {
   "cell_type": "code",
   "execution_count": 4,
   "id": "115032b5-6c51-4739-b060-4928ee39b3d5",
   "metadata": {},
   "outputs": [],
   "source": [
    "from datetime import datetime, timedelta\n",
    "import winsound"
   ]
  },
  {
   "cell_type": "code",
   "execution_count": 5,
   "id": "5e102546-5ee0-4768-8c3c-18b01808c7c5",
   "metadata": {},
   "outputs": [],
   "source": [
    "import sys\n",
    "import warnings"
   ]
  },
  {
   "cell_type": "code",
   "execution_count": 6,
   "id": "7363a590-f01b-4700-b61f-6dfcc163a164",
   "metadata": {},
   "outputs": [],
   "source": [
    "sys.path.append('C:/Users/jmart/OneDrive/Documentos/Proyectos/Proyectos_Web/Utils')"
   ]
  },
  {
   "cell_type": "code",
   "execution_count": 7,
   "id": "53fe4246-3bd7-4857-b6e0-3a6789471b84",
   "metadata": {},
   "outputs": [],
   "source": [
    "warnings.filterwarnings(\"ignore\")"
   ]
  },
  {
   "cell_type": "code",
   "execution_count": 8,
   "id": "2146e806-cb06-486f-ae03-f22a2bb87234",
   "metadata": {},
   "outputs": [],
   "source": [
    "from sklearn.model_selection import train_test_split, GridSearchCV\n",
    "from sklearn.tree import DecisionTreeClassifier\n",
    "from sklearn.ensemble import RandomForestClassifier, BaggingClassifier, AdaBoostClassifier\n",
    "from sklearn.metrics import classification_report, confusion_matrix, accuracy_score"
   ]
  },
  {
   "cell_type": "code",
   "execution_count": 9,
   "id": "765a0ec4-6fee-4ab3-b3de-3effde4c9c7d",
   "metadata": {},
   "outputs": [],
   "source": [
    "import xgboost as xgb"
   ]
  },
  {
   "cell_type": "markdown",
   "id": "db1085e0-d73c-459f-846c-57cece20d527",
   "metadata": {},
   "source": [
    "## **Datos**"
   ]
  },
  {
   "cell_type": "code",
   "execution_count": 19,
   "id": "650809ab-ddd6-4fa7-b6b5-eb7ea889840d",
   "metadata": {},
   "outputs": [],
   "source": [
    "train_df = pd.read_csv('./Datos/Model_Data.csv')"
   ]
  },
  {
   "cell_type": "markdown",
   "id": "4f19c9a5-ff75-4f94-83cd-56515b02e2ec",
   "metadata": {},
   "source": [
    "### **Preparando los datos para el modelo**"
   ]
  },
  {
   "cell_type": "code",
   "execution_count": 20,
   "id": "df6783e4-0562-40f8-b1e9-1e298fa41e4d",
   "metadata": {},
   "outputs": [],
   "source": [
    "home_planet_dum = pd.get_dummies(train_df['HomePlanet'])\n",
    "destination_dum = pd.get_dummies(train_df['Destination'])\n",
    "cabin_I_dum = pd.get_dummies(train_df['Cabin_Type'])\n",
    "cabin_II_dum = pd.get_dummies(train_df['Cabin_Type_2'])"
   ]
  },
  {
   "cell_type": "code",
   "execution_count": 21,
   "id": "0d2a7773-51ea-4119-a2b4-d1985b057a5a",
   "metadata": {},
   "outputs": [],
   "source": [
    "X = train_df.drop(\n",
    "    ['PassengerId', 'HomePlanet', 'Cabin', 'Destination', 'Cabin_Type', 'Cabin_Type_2'], \n",
    "    axis=1\n",
    ")"
   ]
  },
  {
   "cell_type": "code",
   "execution_count": 22,
   "id": "0e6e0f5d-8621-4904-8180-19f12519ff30",
   "metadata": {},
   "outputs": [],
   "source": [
    "X = pd.merge(X.reset_index(), home_planet_dum.reset_index(), how='left', left_on='index', right_on='index')\n",
    "X = pd.merge(X, destination_dum.reset_index(), how='left', left_on='index', right_on='index')\n",
    "X = pd.merge(X, cabin_I_dum.reset_index(), how='left', left_on='index', right_on='index')\n",
    "X = pd.merge(X, cabin_II_dum.reset_index(), how='left', left_on='index', right_on='index')"
   ]
  },
  {
   "cell_type": "code",
   "execution_count": 23,
   "id": "adaebc57-3166-49d8-91bf-baccbba8ec1d",
   "metadata": {},
   "outputs": [],
   "source": [
    "X.drop(['index', 'Unknown_x', 'Unknown_y', 'Unknown_x', 'Unknown_y', 'Transported'], axis=1, inplace=True)"
   ]
  },
  {
   "cell_type": "markdown",
   "id": "6b1f0346-9b9c-4117-86bc-1ae1ad54c28d",
   "metadata": {},
   "source": [
    "## **Modelo**"
   ]
  },
  {
   "cell_type": "code",
   "execution_count": 24,
   "id": "cc161946-64c1-4c53-ae24-e503a19ea2b7",
   "metadata": {},
   "outputs": [
    {
     "data": {
      "text/plain": [
       "1    4378\n",
       "0    4315\n",
       "Name: Transported, dtype: int64"
      ]
     },
     "execution_count": 24,
     "metadata": {},
     "output_type": "execute_result"
    }
   ],
   "source": [
    "train_df['Transported'].value_counts()"
   ]
  },
  {
   "cell_type": "code",
   "execution_count": 25,
   "id": "de97c913-8338-45d2-9dc5-d43dd10cbd14",
   "metadata": {},
   "outputs": [],
   "source": [
    "y = train_df['Transported']"
   ]
  },
  {
   "cell_type": "code",
   "execution_count": 26,
   "id": "99cc922d-fab8-463e-acba-4017016494c0",
   "metadata": {},
   "outputs": [],
   "source": [
    "X_train, X_test, y_train, y_test = train_test_split(X, y, random_state=13, train_size=0.8)"
   ]
  },
  {
   "cell_type": "markdown",
   "id": "cf78e302-f88a-4448-a6ca-598cbf1cdefa",
   "metadata": {},
   "source": [
    "### **1. Random Forest**"
   ]
  },
  {
   "cell_type": "code",
   "execution_count": 27,
   "id": "9263c40a-7065-49b6-8a70-5f203b026515",
   "metadata": {},
   "outputs": [],
   "source": [
    "random_forest = RandomForestClassifier(random_state=13)"
   ]
  },
  {
   "cell_type": "code",
   "execution_count": 28,
   "id": "1335ade8-14e8-4f38-a06e-30bcbfe40353",
   "metadata": {},
   "outputs": [
    {
     "data": {
      "text/html": [
       "<style>#sk-container-id-1 {color: black;background-color: white;}#sk-container-id-1 pre{padding: 0;}#sk-container-id-1 div.sk-toggleable {background-color: white;}#sk-container-id-1 label.sk-toggleable__label {cursor: pointer;display: block;width: 100%;margin-bottom: 0;padding: 0.3em;box-sizing: border-box;text-align: center;}#sk-container-id-1 label.sk-toggleable__label-arrow:before {content: \"▸\";float: left;margin-right: 0.25em;color: #696969;}#sk-container-id-1 label.sk-toggleable__label-arrow:hover:before {color: black;}#sk-container-id-1 div.sk-estimator:hover label.sk-toggleable__label-arrow:before {color: black;}#sk-container-id-1 div.sk-toggleable__content {max-height: 0;max-width: 0;overflow: hidden;text-align: left;background-color: #f0f8ff;}#sk-container-id-1 div.sk-toggleable__content pre {margin: 0.2em;color: black;border-radius: 0.25em;background-color: #f0f8ff;}#sk-container-id-1 input.sk-toggleable__control:checked~div.sk-toggleable__content {max-height: 200px;max-width: 100%;overflow: auto;}#sk-container-id-1 input.sk-toggleable__control:checked~label.sk-toggleable__label-arrow:before {content: \"▾\";}#sk-container-id-1 div.sk-estimator input.sk-toggleable__control:checked~label.sk-toggleable__label {background-color: #d4ebff;}#sk-container-id-1 div.sk-label input.sk-toggleable__control:checked~label.sk-toggleable__label {background-color: #d4ebff;}#sk-container-id-1 input.sk-hidden--visually {border: 0;clip: rect(1px 1px 1px 1px);clip: rect(1px, 1px, 1px, 1px);height: 1px;margin: -1px;overflow: hidden;padding: 0;position: absolute;width: 1px;}#sk-container-id-1 div.sk-estimator {font-family: monospace;background-color: #f0f8ff;border: 1px dotted black;border-radius: 0.25em;box-sizing: border-box;margin-bottom: 0.5em;}#sk-container-id-1 div.sk-estimator:hover {background-color: #d4ebff;}#sk-container-id-1 div.sk-parallel-item::after {content: \"\";width: 100%;border-bottom: 1px solid gray;flex-grow: 1;}#sk-container-id-1 div.sk-label:hover label.sk-toggleable__label {background-color: #d4ebff;}#sk-container-id-1 div.sk-serial::before {content: \"\";position: absolute;border-left: 1px solid gray;box-sizing: border-box;top: 0;bottom: 0;left: 50%;z-index: 0;}#sk-container-id-1 div.sk-serial {display: flex;flex-direction: column;align-items: center;background-color: white;padding-right: 0.2em;padding-left: 0.2em;position: relative;}#sk-container-id-1 div.sk-item {position: relative;z-index: 1;}#sk-container-id-1 div.sk-parallel {display: flex;align-items: stretch;justify-content: center;background-color: white;position: relative;}#sk-container-id-1 div.sk-item::before, #sk-container-id-1 div.sk-parallel-item::before {content: \"\";position: absolute;border-left: 1px solid gray;box-sizing: border-box;top: 0;bottom: 0;left: 50%;z-index: -1;}#sk-container-id-1 div.sk-parallel-item {display: flex;flex-direction: column;z-index: 1;position: relative;background-color: white;}#sk-container-id-1 div.sk-parallel-item:first-child::after {align-self: flex-end;width: 50%;}#sk-container-id-1 div.sk-parallel-item:last-child::after {align-self: flex-start;width: 50%;}#sk-container-id-1 div.sk-parallel-item:only-child::after {width: 0;}#sk-container-id-1 div.sk-dashed-wrapped {border: 1px dashed gray;margin: 0 0.4em 0.5em 0.4em;box-sizing: border-box;padding-bottom: 0.4em;background-color: white;}#sk-container-id-1 div.sk-label label {font-family: monospace;font-weight: bold;display: inline-block;line-height: 1.2em;}#sk-container-id-1 div.sk-label-container {text-align: center;}#sk-container-id-1 div.sk-container {/* jupyter's `normalize.less` sets `[hidden] { display: none; }` but bootstrap.min.css set `[hidden] { display: none !important; }` so we also need the `!important` here to be able to override the default hidden behavior on the sphinx rendered scikit-learn.org. See: https://github.com/scikit-learn/scikit-learn/issues/21755 */display: inline-block !important;position: relative;}#sk-container-id-1 div.sk-text-repr-fallback {display: none;}</style><div id=\"sk-container-id-1\" class=\"sk-top-container\"><div class=\"sk-text-repr-fallback\"><pre>RandomForestClassifier(random_state=13)</pre><b>In a Jupyter environment, please rerun this cell to show the HTML representation or trust the notebook. <br />On GitHub, the HTML representation is unable to render, please try loading this page with nbviewer.org.</b></div><div class=\"sk-container\" hidden><div class=\"sk-item\"><div class=\"sk-estimator sk-toggleable\"><input class=\"sk-toggleable__control sk-hidden--visually\" id=\"sk-estimator-id-1\" type=\"checkbox\" checked><label for=\"sk-estimator-id-1\" class=\"sk-toggleable__label sk-toggleable__label-arrow\">RandomForestClassifier</label><div class=\"sk-toggleable__content\"><pre>RandomForestClassifier(random_state=13)</pre></div></div></div></div></div>"
      ],
      "text/plain": [
       "RandomForestClassifier(random_state=13)"
      ]
     },
     "execution_count": 28,
     "metadata": {},
     "output_type": "execute_result"
    }
   ],
   "source": [
    "random_forest.fit(X_train, y_train)"
   ]
  },
  {
   "cell_type": "code",
   "execution_count": 29,
   "id": "3edb409c-3395-4d20-a9cd-f89f026d5ef7",
   "metadata": {},
   "outputs": [],
   "source": [
    "y_pred = random_forest.predict(X_test)"
   ]
  },
  {
   "cell_type": "code",
   "execution_count": 30,
   "id": "5266cde9-a56e-4daf-900c-0179306a0131",
   "metadata": {},
   "outputs": [
    {
     "name": "stdout",
     "output_type": "stream",
     "text": [
      "              precision    recall  f1-score   support\n",
      "\n",
      "           0       0.82      0.78      0.80       921\n",
      "           1       0.76      0.80      0.78       818\n",
      "\n",
      "    accuracy                           0.79      1739\n",
      "   macro avg       0.79      0.79      0.79      1739\n",
      "weighted avg       0.79      0.79      0.79      1739\n",
      "\n"
     ]
    }
   ],
   "source": [
    "print(classification_report(y_pred, y_test))"
   ]
  },
  {
   "cell_type": "code",
   "execution_count": 33,
   "id": "8fd1f22c-5a79-45e0-b0e0-c1b8d774d7f2",
   "metadata": {},
   "outputs": [
    {
     "data": {
      "image/png": "[encoded data removed]",
      "text/plain": [
       "<Figure size 500x300 with 2 Axes>"
      ]
     },
     "metadata": {},
     "output_type": "display_data"
    }
   ],
   "source": [
    "plt.subplots(figsize=(5, 3))\n",
    "sns.heatmap((confusion_matrix(y_pred, y_test)/len(X_test))*100, annot=True)\n",
    "plt.show()"
   ]
  },
  {
   "cell_type": "code",
   "execution_count": 34,
   "id": "82d33f0d-6a18-4ccc-9b17-301fb943606a",
   "metadata": {},
   "outputs": [
    {
     "data": {
      "text/html": [
       "<div>\n",
       "<style scoped>\n",
       "    .dataframe tbody tr th:only-of-type {\n",
       "        vertical-align: middle;\n",
       "    }\n",
       "\n",
       "    .dataframe tbody tr th {\n",
       "        vertical-align: top;\n",
       "    }\n",
       "\n",
       "    .dataframe thead th {\n",
       "        text-align: right;\n",
       "    }\n",
       "</style>\n",
       "<table border=\"1\" class=\"dataframe\">\n",
       "  <thead>\n",
       "    <tr style=\"text-align: right;\">\n",
       "      <th></th>\n",
       "      <th>feature_importance</th>\n",
       "      <th>feature_names</th>\n",
       "    </tr>\n",
       "  </thead>\n",
       "  <tbody>\n",
       "    <tr>\n",
       "      <th>1</th>\n",
       "      <td>0.176832</td>\n",
       "      <td>Age</td>\n",
       "    </tr>\n",
       "    <tr>\n",
       "      <th>6</th>\n",
       "      <td>0.127403</td>\n",
       "      <td>Spa</td>\n",
       "    </tr>\n",
       "    <tr>\n",
       "      <th>3</th>\n",
       "      <td>0.121280</td>\n",
       "      <td>RoomService</td>\n",
       "    </tr>\n",
       "    <tr>\n",
       "      <th>7</th>\n",
       "      <td>0.111661</td>\n",
       "      <td>VRDeck</td>\n",
       "    </tr>\n",
       "    <tr>\n",
       "      <th>4</th>\n",
       "      <td>0.101729</td>\n",
       "      <td>FoodCourt</td>\n",
       "    </tr>\n",
       "  </tbody>\n",
       "</table>\n",
       "</div>"
      ],
      "text/plain": [
       "   feature_importance feature_names\n",
       "1            0.176832           Age\n",
       "6            0.127403           Spa\n",
       "3            0.121280   RoomService\n",
       "7            0.111661        VRDeck\n",
       "4            0.101729     FoodCourt"
      ]
     },
     "execution_count": 34,
     "metadata": {},
     "output_type": "execute_result"
    }
   ],
   "source": [
    "feature_importance = random_forest.feature_importances_\n",
    "feature_names=X.columns\n",
    "dic_feature_importance = {\n",
    "                        'feature_importance':feature_importance ,\n",
    "                        'feature_names':feature_names }\n",
    "feature_importance_DF= pd.DataFrame(dic_feature_importance).sort_values(by='feature_importance',ascending=False)\n",
    "feature_importance_DF.head(5)"
   ]
  },
  {
   "cell_type": "markdown",
   "id": "04c29e8e-9aa0-4a70-96d7-b09d70ee39a2",
   "metadata": {},
   "source": [
    "#### **Grid Search**"
   ]
  },
  {
   "cell_type": "code",
   "execution_count": 35,
   "id": "a11829c6-8d10-4860-ab60-1c6de455e169",
   "metadata": {},
   "outputs": [],
   "source": [
    "param_grid_rf = {\n",
    "    'n_estimators': [100, 200, 300, 400, 500],\n",
    "    'max_depth': [7, 9, 11],\n",
    "    'min_samples_split': [2, 3, 4, 5]\n",
    "}"
   ]
  },
  {
   "cell_type": "code",
   "execution_count": 36,
   "id": "aa5caf3d-871e-48de-a6b5-4a8cdd4976a5",
   "metadata": {},
   "outputs": [],
   "source": [
    "rf_model = RandomForestClassifier()\n",
    "\n",
    "grid_search_rf = GridSearchCV(rf_model, param_grid_rf, cv=3)"
   ]
  },
  {
   "cell_type": "code",
   "execution_count": 37,
   "id": "1ecbca22-a693-467e-8fa6-b50d4d6b76ca",
   "metadata": {},
   "outputs": [
    {
     "name": "stdout",
     "output_type": "stream",
     "text": [
      "CPU times: total: 9min 16s\n",
      "Wall time: 11min 28s\n"
     ]
    },
    {
     "data": {
      "text/html": [
       "<style>#sk-container-id-2 {color: black;background-color: white;}#sk-container-id-2 pre{padding: 0;}#sk-container-id-2 div.sk-toggleable {background-color: white;}#sk-container-id-2 label.sk-toggleable__label {cursor: pointer;display: block;width: 100%;margin-bottom: 0;padding: 0.3em;box-sizing: border-box;text-align: center;}#sk-container-id-2 label.sk-toggleable__label-arrow:before {content: \"▸\";float: left;margin-right: 0.25em;color: #696969;}#sk-container-id-2 label.sk-toggleable__label-arrow:hover:before {color: black;}#sk-container-id-2 div.sk-estimator:hover label.sk-toggleable__label-arrow:before {color: black;}#sk-container-id-2 div.sk-toggleable__content {max-height: 0;max-width: 0;overflow: hidden;text-align: left;background-color: #f0f8ff;}#sk-container-id-2 div.sk-toggleable__content pre {margin: 0.2em;color: black;border-radius: 0.25em;background-color: #f0f8ff;}#sk-container-id-2 input.sk-toggleable__control:checked~div.sk-toggleable__content {max-height: 200px;max-width: 100%;overflow: auto;}#sk-container-id-2 input.sk-toggleable__control:checked~label.sk-toggleable__label-arrow:before {content: \"▾\";}#sk-container-id-2 div.sk-estimator input.sk-toggleable__control:checked~label.sk-toggleable__label {background-color: #d4ebff;}#sk-container-id-2 div.sk-label input.sk-toggleable__control:checked~label.sk-toggleable__label {background-color: #d4ebff;}#sk-container-id-2 input.sk-hidden--visually {border: 0;clip: rect(1px 1px 1px 1px);clip: rect(1px, 1px, 1px, 1px);height: 1px;margin: -1px;overflow: hidden;padding: 0;position: absolute;width: 1px;}#sk-container-id-2 div.sk-estimator {font-family: monospace;background-color: #f0f8ff;border: 1px dotted black;border-radius: 0.25em;box-sizing: border-box;margin-bottom: 0.5em;}#sk-container-id-2 div.sk-estimator:hover {background-color: #d4ebff;}#sk-container-id-2 div.sk-parallel-item::after {content: \"\";width: 100%;border-bottom: 1px solid gray;flex-grow: 1;}#sk-container-id-2 div.sk-label:hover label.sk-toggleable__label {background-color: #d4ebff;}#sk-container-id-2 div.sk-serial::before {content: \"\";position: absolute;border-left: 1px solid gray;box-sizing: border-box;top: 0;bottom: 0;left: 50%;z-index: 0;}#sk-container-id-2 div.sk-serial {display: flex;flex-direction: column;align-items: center;background-color: white;padding-right: 0.2em;padding-left: 0.2em;position: relative;}#sk-container-id-2 div.sk-item {position: relative;z-index: 1;}#sk-container-id-2 div.sk-parallel {display: flex;align-items: stretch;justify-content: center;background-color: white;position: relative;}#sk-container-id-2 div.sk-item::before, #sk-container-id-2 div.sk-parallel-item::before {content: \"\";position: absolute;border-left: 1px solid gray;box-sizing: border-box;top: 0;bottom: 0;left: 50%;z-index: -1;}#sk-container-id-2 div.sk-parallel-item {display: flex;flex-direction: column;z-index: 1;position: relative;background-color: white;}#sk-container-id-2 div.sk-parallel-item:first-child::after {align-self: flex-end;width: 50%;}#sk-container-id-2 div.sk-parallel-item:last-child::after {align-self: flex-start;width: 50%;}#sk-container-id-2 div.sk-parallel-item:only-child::after {width: 0;}#sk-container-id-2 div.sk-dashed-wrapped {border: 1px dashed gray;margin: 0 0.4em 0.5em 0.4em;box-sizing: border-box;padding-bottom: 0.4em;background-color: white;}#sk-container-id-2 div.sk-label label {font-family: monospace;font-weight: bold;display: inline-block;line-height: 1.2em;}#sk-container-id-2 div.sk-label-container {text-align: center;}#sk-container-id-2 div.sk-container {/* jupyter's `normalize.less` sets `[hidden] { display: none; }` but bootstrap.min.css set `[hidden] { display: none !important; }` so we also need the `!important` here to be able to override the default hidden behavior on the sphinx rendered scikit-learn.org. See: https://github.com/scikit-learn/scikit-learn/issues/21755 */display: inline-block !important;position: relative;}#sk-container-id-2 div.sk-text-repr-fallback {display: none;}</style><div id=\"sk-container-id-2\" class=\"sk-top-container\"><div class=\"sk-text-repr-fallback\"><pre>GridSearchCV(cv=3, estimator=RandomForestClassifier(),\n",
       "             param_grid={&#x27;max_depth&#x27;: [7, 9, 11],\n",
       "                         &#x27;min_samples_split&#x27;: [2, 3, 4, 5],\n",
       "                         &#x27;n_estimators&#x27;: [100, 200, 300, 400, 500]})</pre><b>In a Jupyter environment, please rerun this cell to show the HTML representation or trust the notebook. <br />On GitHub, the HTML representation is unable to render, please try loading this page with nbviewer.org.</b></div><div class=\"sk-container\" hidden><div class=\"sk-item sk-dashed-wrapped\"><div class=\"sk-label-container\"><div class=\"sk-label sk-toggleable\"><input class=\"sk-toggleable__control sk-hidden--visually\" id=\"sk-estimator-id-2\" type=\"checkbox\" ><label for=\"sk-estimator-id-2\" class=\"sk-toggleable__label sk-toggleable__label-arrow\">GridSearchCV</label><div class=\"sk-toggleable__content\"><pre>GridSearchCV(cv=3, estimator=RandomForestClassifier(),\n",
       "             param_grid={&#x27;max_depth&#x27;: [7, 9, 11],\n",
       "                         &#x27;min_samples_split&#x27;: [2, 3, 4, 5],\n",
       "                         &#x27;n_estimators&#x27;: [100, 200, 300, 400, 500]})</pre></div></div></div><div class=\"sk-parallel\"><div class=\"sk-parallel-item\"><div class=\"sk-item\"><div class=\"sk-label-container\"><div class=\"sk-label sk-toggleable\"><input class=\"sk-toggleable__control sk-hidden--visually\" id=\"sk-estimator-id-3\" type=\"checkbox\" ><label for=\"sk-estimator-id-3\" class=\"sk-toggleable__label sk-toggleable__label-arrow\">estimator: RandomForestClassifier</label><div class=\"sk-toggleable__content\"><pre>RandomForestClassifier()</pre></div></div></div><div class=\"sk-serial\"><div class=\"sk-item\"><div class=\"sk-estimator sk-toggleable\"><input class=\"sk-toggleable__control sk-hidden--visually\" id=\"sk-estimator-id-4\" type=\"checkbox\" ><label for=\"sk-estimator-id-4\" class=\"sk-toggleable__label sk-toggleable__label-arrow\">RandomForestClassifier</label><div class=\"sk-toggleable__content\"><pre>RandomForestClassifier()</pre></div></div></div></div></div></div></div></div></div></div>"
      ],
      "text/plain": [
       "GridSearchCV(cv=3, estimator=RandomForestClassifier(),\n",
       "             param_grid={'max_depth': [7, 9, 11],\n",
       "                         'min_samples_split': [2, 3, 4, 5],\n",
       "                         'n_estimators': [100, 200, 300, 400, 500]})"
      ]
     },
     "execution_count": 37,
     "metadata": {},
     "output_type": "execute_result"
    }
   ],
   "source": [
    "%%time\n",
    "grid_search_rf.fit(X_train, y_train)"
   ]
  },
  {
   "cell_type": "code",
   "execution_count": 39,
   "id": "d1a90b2f-abde-454e-9321-4075fa47d146",
   "metadata": {},
   "outputs": [],
   "source": [
    "y_pred_gs = grid_search_rf.predict(X_test)"
   ]
  },
  {
   "cell_type": "code",
   "execution_count": 40,
   "id": "30f7168d-ab78-4192-9067-0048aec39f99",
   "metadata": {},
   "outputs": [
    {
     "name": "stdout",
     "output_type": "stream",
     "text": [
      "              precision    recall  f1-score   support\n",
      "\n",
      "           0       0.79      0.82      0.80       851\n",
      "           1       0.82      0.79      0.80       888\n",
      "\n",
      "    accuracy                           0.80      1739\n",
      "   macro avg       0.80      0.80      0.80      1739\n",
      "weighted avg       0.80      0.80      0.80      1739\n",
      "\n"
     ]
    }
   ],
   "source": [
    "print(classification_report(y_pred_gs, y_test))"
   ]
  },
  {
   "cell_type": "code",
   "execution_count": 42,
   "id": "77d8406f-0d93-404b-98aa-8e8ca348a006",
   "metadata": {},
   "outputs": [
    {
     "data": {
      "image/png": "[encoded data removed]",
      "text/plain": [
       "<Figure size 500x300 with 2 Axes>"
      ]
     },
     "metadata": {},
     "output_type": "display_data"
    }
   ],
   "source": [
    "plt.subplots(figsize=(5, 3))\n",
    "sns.heatmap((confusion_matrix(y_pred_gs, y_test)/len(X_test))*100, annot=True)\n",
    "plt.show()"
   ]
  },
  {
   "cell_type": "code",
   "execution_count": 43,
   "id": "290e20ff-9d5b-4c7d-8f90-10db23be9e4b",
   "metadata": {},
   "outputs": [
    {
     "name": "stdout",
     "output_type": "stream",
     "text": [
      "Mejor conjunto de parámetros:  {'max_depth': 9, 'min_samples_split': 5, 'n_estimators': 400}\n",
      "Mejor puntaje:  0.7992522289329882\n"
     ]
    }
   ],
   "source": [
    "print(\"Mejor conjunto de parámetros: \", grid_search_rf.best_params_)\n",
    "print(\"Mejor puntaje: \", grid_search_rf.best_score_)"
   ]
  },
  {
   "cell_type": "code",
   "execution_count": 44,
   "id": "06200fb0-3ee4-4389-b21c-f70b90e469ca",
   "metadata": {},
   "outputs": [],
   "source": [
    "accuracy = accuracy_score(y_pred_gs, y_test)"
   ]
  },
  {
   "cell_type": "code",
   "execution_count": 45,
   "id": "35265567-adeb-493c-bc99-741bbd30191f",
   "metadata": {},
   "outputs": [
    {
     "data": {
      "text/plain": [
       "0.8039102932719954"
      ]
     },
     "execution_count": 45,
     "metadata": {},
     "output_type": "execute_result"
    }
   ],
   "source": [
    "accuracy"
   ]
  },
  {
   "cell_type": "markdown",
   "id": "e2934e99-0b79-4be7-9a40-32d339d8684d",
   "metadata": {},
   "source": [
    "### **2. XGBoost**"
   ]
  },
  {
   "cell_type": "code",
   "execution_count": 46,
   "id": "987fec94-7b2c-431f-9d5e-f25743727c99",
   "metadata": {},
   "outputs": [],
   "source": [
    "xgb_model = xgb.XGBClassifier()"
   ]
  },
  {
   "cell_type": "code",
   "execution_count": 47,
   "id": "ed147858-5663-446e-a1d5-ff5d4eae0253",
   "metadata": {},
   "outputs": [
    {
     "data": {
      "text/html": [
       "<style>#sk-container-id-3 {color: black;background-color: white;}#sk-container-id-3 pre{padding: 0;}#sk-container-id-3 div.sk-toggleable {background-color: white;}#sk-container-id-3 label.sk-toggleable__label {cursor: pointer;display: block;width: 100%;margin-bottom: 0;padding: 0.3em;box-sizing: border-box;text-align: center;}#sk-container-id-3 label.sk-toggleable__label-arrow:before {content: \"▸\";float: left;margin-right: 0.25em;color: #696969;}#sk-container-id-3 label.sk-toggleable__label-arrow:hover:before {color: black;}#sk-container-id-3 div.sk-estimator:hover label.sk-toggleable__label-arrow:before {color: black;}#sk-container-id-3 div.sk-toggleable__content {max-height: 0;max-width: 0;overflow: hidden;text-align: left;background-color: #f0f8ff;}#sk-container-id-3 div.sk-toggleable__content pre {margin: 0.2em;color: black;border-radius: 0.25em;background-color: #f0f8ff;}#sk-container-id-3 input.sk-toggleable__control:checked~div.sk-toggleable__content {max-height: 200px;max-width: 100%;overflow: auto;}#sk-container-id-3 input.sk-toggleable__control:checked~label.sk-toggleable__label-arrow:before {content: \"▾\";}#sk-container-id-3 div.sk-estimator input.sk-toggleable__control:checked~label.sk-toggleable__label {background-color: #d4ebff;}#sk-container-id-3 div.sk-label input.sk-toggleable__control:checked~label.sk-toggleable__label {background-color: #d4ebff;}#sk-container-id-3 input.sk-hidden--visually {border: 0;clip: rect(1px 1px 1px 1px);clip: rect(1px, 1px, 1px, 1px);height: 1px;margin: -1px;overflow: hidden;padding: 0;position: absolute;width: 1px;}#sk-container-id-3 div.sk-estimator {font-family: monospace;background-color: #f0f8ff;border: 1px dotted black;border-radius: 0.25em;box-sizing: border-box;margin-bottom: 0.5em;}#sk-container-id-3 div.sk-estimator:hover {background-color: #d4ebff;}#sk-container-id-3 div.sk-parallel-item::after {content: \"\";width: 100%;border-bottom: 1px solid gray;flex-grow: 1;}#sk-container-id-3 div.sk-label:hover label.sk-toggleable__label {background-color: #d4ebff;}#sk-container-id-3 div.sk-serial::before {content: \"\";position: absolute;border-left: 1px solid gray;box-sizing: border-box;top: 0;bottom: 0;left: 50%;z-index: 0;}#sk-container-id-3 div.sk-serial {display: flex;flex-direction: column;align-items: center;background-color: white;padding-right: 0.2em;padding-left: 0.2em;position: relative;}#sk-container-id-3 div.sk-item {position: relative;z-index: 1;}#sk-container-id-3 div.sk-parallel {display: flex;align-items: stretch;justify-content: center;background-color: white;position: relative;}#sk-container-id-3 div.sk-item::before, #sk-container-id-3 div.sk-parallel-item::before {content: \"\";position: absolute;border-left: 1px solid gray;box-sizing: border-box;top: 0;bottom: 0;left: 50%;z-index: -1;}#sk-container-id-3 div.sk-parallel-item {display: flex;flex-direction: column;z-index: 1;position: relative;background-color: white;}#sk-container-id-3 div.sk-parallel-item:first-child::after {align-self: flex-end;width: 50%;}#sk-container-id-3 div.sk-parallel-item:last-child::after {align-self: flex-start;width: 50%;}#sk-container-id-3 div.sk-parallel-item:only-child::after {width: 0;}#sk-container-id-3 div.sk-dashed-wrapped {border: 1px dashed gray;margin: 0 0.4em 0.5em 0.4em;box-sizing: border-box;padding-bottom: 0.4em;background-color: white;}#sk-container-id-3 div.sk-label label {font-family: monospace;font-weight: bold;display: inline-block;line-height: 1.2em;}#sk-container-id-3 div.sk-label-container {text-align: center;}#sk-container-id-3 div.sk-container {/* jupyter's `normalize.less` sets `[hidden] { display: none; }` but bootstrap.min.css set `[hidden] { display: none !important; }` so we also need the `!important` here to be able to override the default hidden behavior on the sphinx rendered scikit-learn.org. See: https://github.com/scikit-learn/scikit-learn/issues/21755 */display: inline-block !important;position: relative;}#sk-container-id-3 div.sk-text-repr-fallback {display: none;}</style><div id=\"sk-container-id-3\" class=\"sk-top-container\"><div class=\"sk-text-repr-fallback\"><pre>XGBClassifier(base_score=0.5, booster=&#x27;gbtree&#x27;, callbacks=None,\n",
       "              colsample_bylevel=1, colsample_bynode=1, colsample_bytree=1,\n",
       "              early_stopping_rounds=None, enable_categorical=False,\n",
       "              eval_metric=None, feature_types=None, gamma=0, gpu_id=-1,\n",
       "              grow_policy=&#x27;depthwise&#x27;, importance_type=None,\n",
       "              interaction_constraints=&#x27;&#x27;, learning_rate=0.300000012,\n",
       "              max_bin=256, max_cat_threshold=64, max_cat_to_onehot=4,\n",
       "              max_delta_step=0, max_depth=6, max_leaves=0, min_child_weight=1,\n",
       "              missing=nan, monotone_constraints=&#x27;()&#x27;, n_estimators=100,\n",
       "              n_jobs=0, num_parallel_tree=1, predictor=&#x27;auto&#x27;, random_state=0, ...)</pre><b>In a Jupyter environment, please rerun this cell to show the HTML representation or trust the notebook. <br />On GitHub, the HTML representation is unable to render, please try loading this page with nbviewer.org.</b></div><div class=\"sk-container\" hidden><div class=\"sk-item\"><div class=\"sk-estimator sk-toggleable\"><input class=\"sk-toggleable__control sk-hidden--visually\" id=\"sk-estimator-id-5\" type=\"checkbox\" checked><label for=\"sk-estimator-id-5\" class=\"sk-toggleable__label sk-toggleable__label-arrow\">XGBClassifier</label><div class=\"sk-toggleable__content\"><pre>XGBClassifier(base_score=0.5, booster=&#x27;gbtree&#x27;, callbacks=None,\n",
       "              colsample_bylevel=1, colsample_bynode=1, colsample_bytree=1,\n",
       "              early_stopping_rounds=None, enable_categorical=False,\n",
       "              eval_metric=None, feature_types=None, gamma=0, gpu_id=-1,\n",
       "              grow_policy=&#x27;depthwise&#x27;, importance_type=None,\n",
       "              interaction_constraints=&#x27;&#x27;, learning_rate=0.300000012,\n",
       "              max_bin=256, max_cat_threshold=64, max_cat_to_onehot=4,\n",
       "              max_delta_step=0, max_depth=6, max_leaves=0, min_child_weight=1,\n",
       "              missing=nan, monotone_constraints=&#x27;()&#x27;, n_estimators=100,\n",
       "              n_jobs=0, num_parallel_tree=1, predictor=&#x27;auto&#x27;, random_state=0, ...)</pre></div></div></div></div></div>"
      ],
      "text/plain": [
       "XGBClassifier(base_score=0.5, booster='gbtree', callbacks=None,\n",
       "              colsample_bylevel=1, colsample_bynode=1, colsample_bytree=1,\n",
       "              early_stopping_rounds=None, enable_categorical=False,\n",
       "              eval_metric=None, feature_types=None, gamma=0, gpu_id=-1,\n",
       "              grow_policy='depthwise', importance_type=None,\n",
       "              interaction_constraints='', learning_rate=0.300000012,\n",
       "              max_bin=256, max_cat_threshold=64, max_cat_to_onehot=4,\n",
       "              max_delta_step=0, max_depth=6, max_leaves=0, min_child_weight=1,\n",
       "              missing=nan, monotone_constraints='()', n_estimators=100,\n",
       "              n_jobs=0, num_parallel_tree=1, predictor='auto', random_state=0, ...)"
      ]
     },
     "execution_count": 47,
     "metadata": {},
     "output_type": "execute_result"
    }
   ],
   "source": [
    "xgb_model.fit(X_train, y_train)"
   ]
  },
  {
   "cell_type": "code",
   "execution_count": 48,
   "id": "d5106bdd-d144-4479-b5ad-dae6093b8106",
   "metadata": {},
   "outputs": [],
   "source": [
    "y_pred_xgb = xgb_model.predict(X_test)"
   ]
  },
  {
   "cell_type": "code",
   "execution_count": 49,
   "id": "b18c775a-dc5a-430c-ac9c-b99c72e6404a",
   "metadata": {},
   "outputs": [
    {
     "name": "stdout",
     "output_type": "stream",
     "text": [
      "              precision    recall  f1-score   support\n",
      "\n",
      "           0       0.78      0.80      0.79       852\n",
      "           1       0.81      0.78      0.79       887\n",
      "\n",
      "    accuracy                           0.79      1739\n",
      "   macro avg       0.79      0.79      0.79      1739\n",
      "weighted avg       0.79      0.79      0.79      1739\n",
      "\n"
     ]
    }
   ],
   "source": [
    "print(classification_report(y_pred_xgb, y_test))"
   ]
  },
  {
   "cell_type": "code",
   "execution_count": 50,
   "id": "85a9281b-4151-421f-ae83-d277c50f0fb7",
   "metadata": {},
   "outputs": [
    {
     "data": {
      "image/png": "[encoded data removed]",
      "text/plain": [
       "<Figure size 500x300 with 2 Axes>"
      ]
     },
     "metadata": {},
     "output_type": "display_data"
    }
   ],
   "source": [
    "plt.subplots(figsize=(5, 3))\n",
    "sns.heatmap((confusion_matrix(y_pred_xgb, y_test)/len(X_test))*100, annot=True)\n",
    "plt.show()"
   ]
  },
  {
   "cell_type": "code",
   "execution_count": 51,
   "id": "6b063e9d-dc2a-49f5-a043-7e90d8c066f4",
   "metadata": {},
   "outputs": [
    {
     "data": {
      "text/html": [
       "<div>\n",
       "<style scoped>\n",
       "    .dataframe tbody tr th:only-of-type {\n",
       "        vertical-align: middle;\n",
       "    }\n",
       "\n",
       "    .dataframe tbody tr th {\n",
       "        vertical-align: top;\n",
       "    }\n",
       "\n",
       "    .dataframe thead th {\n",
       "        text-align: right;\n",
       "    }\n",
       "</style>\n",
       "<table border=\"1\" class=\"dataframe\">\n",
       "  <thead>\n",
       "    <tr style=\"text-align: right;\">\n",
       "      <th></th>\n",
       "      <th>feature_importance</th>\n",
       "      <th>feature_names</th>\n",
       "    </tr>\n",
       "  </thead>\n",
       "  <tbody>\n",
       "    <tr>\n",
       "      <th>0</th>\n",
       "      <td>0.482335</td>\n",
       "      <td>CryoSleep</td>\n",
       "    </tr>\n",
       "    <tr>\n",
       "      <th>8</th>\n",
       "      <td>0.136177</td>\n",
       "      <td>Earth</td>\n",
       "    </tr>\n",
       "    <tr>\n",
       "      <th>9</th>\n",
       "      <td>0.056408</td>\n",
       "      <td>Europa</td>\n",
       "    </tr>\n",
       "    <tr>\n",
       "      <th>18</th>\n",
       "      <td>0.040587</td>\n",
       "      <td>E</td>\n",
       "    </tr>\n",
       "    <tr>\n",
       "      <th>10</th>\n",
       "      <td>0.025851</td>\n",
       "      <td>Mars</td>\n",
       "    </tr>\n",
       "  </tbody>\n",
       "</table>\n",
       "</div>"
      ],
      "text/plain": [
       "    feature_importance feature_names\n",
       "0             0.482335     CryoSleep\n",
       "8             0.136177         Earth\n",
       "9             0.056408        Europa\n",
       "18            0.040587             E\n",
       "10            0.025851          Mars"
      ]
     },
     "execution_count": 51,
     "metadata": {},
     "output_type": "execute_result"
    }
   ],
   "source": [
    "feature_importance = xgb_model.feature_importances_\n",
    "feature_names=X.columns\n",
    "dic_feature_importance = {\n",
    "                        'feature_importance':feature_importance ,\n",
    "                        'feature_names':feature_names }\n",
    "feature_importance_DF= pd.DataFrame(dic_feature_importance).sort_values(by='feature_importance',ascending=False)\n",
    "feature_importance_DF.head(5)"
   ]
  },
  {
   "cell_type": "markdown",
   "id": "c6942a5d-c35d-4e51-b071-54b5b90d3c2e",
   "metadata": {},
   "source": [
    "#### **Grid Search**"
   ]
  },
  {
   "cell_type": "code",
   "execution_count": 52,
   "id": "84ceaa18-cabb-49d2-8f58-03ba6724476c",
   "metadata": {},
   "outputs": [],
   "source": [
    "param_grid = {\n",
    "    'learning_rate': [0.1, 0.01, 0.05],\n",
    "    'max_depth': [7, 9, 11],\n",
    "    'n_estimators': [100, 200, 300]\n",
    "}"
   ]
  },
  {
   "cell_type": "code",
   "execution_count": 53,
   "id": "742ebcac-9b3c-45c7-857c-cc6fe428fd75",
   "metadata": {},
   "outputs": [],
   "source": [
    "xgb_model_gs = xgb.XGBClassifier()"
   ]
  },
  {
   "cell_type": "code",
   "execution_count": 54,
   "id": "715dfa6d-0981-4b5e-845e-1782707cad38",
   "metadata": {},
   "outputs": [],
   "source": [
    "grid_search_xgb = GridSearchCV(xgb_model_gs, param_grid, cv=3)"
   ]
  },
  {
   "cell_type": "code",
   "execution_count": 55,
   "id": "a6f6c822-3a7c-4ba6-bcc5-b48729c61e4d",
   "metadata": {},
   "outputs": [
    {
     "name": "stdout",
     "output_type": "stream",
     "text": [
      "CPU times: total: 7min 30s\n",
      "Wall time: 4min 46s\n"
     ]
    },
    {
     "data": {
      "text/html": [
       "<style>#sk-container-id-4 {color: black;background-color: white;}#sk-container-id-4 pre{padding: 0;}#sk-container-id-4 div.sk-toggleable {background-color: white;}#sk-container-id-4 label.sk-toggleable__label {cursor: pointer;display: block;width: 100%;margin-bottom: 0;padding: 0.3em;box-sizing: border-box;text-align: center;}#sk-container-id-4 label.sk-toggleable__label-arrow:before {content: \"▸\";float: left;margin-right: 0.25em;color: #696969;}#sk-container-id-4 label.sk-toggleable__label-arrow:hover:before {color: black;}#sk-container-id-4 div.sk-estimator:hover label.sk-toggleable__label-arrow:before {color: black;}#sk-container-id-4 div.sk-toggleable__content {max-height: 0;max-width: 0;overflow: hidden;text-align: left;background-color: #f0f8ff;}#sk-container-id-4 div.sk-toggleable__content pre {margin: 0.2em;color: black;border-radius: 0.25em;background-color: #f0f8ff;}#sk-container-id-4 input.sk-toggleable__control:checked~div.sk-toggleable__content {max-height: 200px;max-width: 100%;overflow: auto;}#sk-container-id-4 input.sk-toggleable__control:checked~label.sk-toggleable__label-arrow:before {content: \"▾\";}#sk-container-id-4 div.sk-estimator input.sk-toggleable__control:checked~label.sk-toggleable__label {background-color: #d4ebff;}#sk-container-id-4 div.sk-label input.sk-toggleable__control:checked~label.sk-toggleable__label {background-color: #d4ebff;}#sk-container-id-4 input.sk-hidden--visually {border: 0;clip: rect(1px 1px 1px 1px);clip: rect(1px, 1px, 1px, 1px);height: 1px;margin: -1px;overflow: hidden;padding: 0;position: absolute;width: 1px;}#sk-container-id-4 div.sk-estimator {font-family: monospace;background-color: #f0f8ff;border: 1px dotted black;border-radius: 0.25em;box-sizing: border-box;margin-bottom: 0.5em;}#sk-container-id-4 div.sk-estimator:hover {background-color: #d4ebff;}#sk-container-id-4 div.sk-parallel-item::after {content: \"\";width: 100%;border-bottom: 1px solid gray;flex-grow: 1;}#sk-container-id-4 div.sk-label:hover label.sk-toggleable__label {background-color: #d4ebff;}#sk-container-id-4 div.sk-serial::before {content: \"\";position: absolute;border-left: 1px solid gray;box-sizing: border-box;top: 0;bottom: 0;left: 50%;z-index: 0;}#sk-container-id-4 div.sk-serial {display: flex;flex-direction: column;align-items: center;background-color: white;padding-right: 0.2em;padding-left: 0.2em;position: relative;}#sk-container-id-4 div.sk-item {position: relative;z-index: 1;}#sk-container-id-4 div.sk-parallel {display: flex;align-items: stretch;justify-content: center;background-color: white;position: relative;}#sk-container-id-4 div.sk-item::before, #sk-container-id-4 div.sk-parallel-item::before {content: \"\";position: absolute;border-left: 1px solid gray;box-sizing: border-box;top: 0;bottom: 0;left: 50%;z-index: -1;}#sk-container-id-4 div.sk-parallel-item {display: flex;flex-direction: column;z-index: 1;position: relative;background-color: white;}#sk-container-id-4 div.sk-parallel-item:first-child::after {align-self: flex-end;width: 50%;}#sk-container-id-4 div.sk-parallel-item:last-child::after {align-self: flex-start;width: 50%;}#sk-container-id-4 div.sk-parallel-item:only-child::after {width: 0;}#sk-container-id-4 div.sk-dashed-wrapped {border: 1px dashed gray;margin: 0 0.4em 0.5em 0.4em;box-sizing: border-box;padding-bottom: 0.4em;background-color: white;}#sk-container-id-4 div.sk-label label {font-family: monospace;font-weight: bold;display: inline-block;line-height: 1.2em;}#sk-container-id-4 div.sk-label-container {text-align: center;}#sk-container-id-4 div.sk-container {/* jupyter's `normalize.less` sets `[hidden] { display: none; }` but bootstrap.min.css set `[hidden] { display: none !important; }` so we also need the `!important` here to be able to override the default hidden behavior on the sphinx rendered scikit-learn.org. See: https://github.com/scikit-learn/scikit-learn/issues/21755 */display: inline-block !important;position: relative;}#sk-container-id-4 div.sk-text-repr-fallback {display: none;}</style><div id=\"sk-container-id-4\" class=\"sk-top-container\"><div class=\"sk-text-repr-fallback\"><pre>GridSearchCV(cv=3,\n",
       "             estimator=XGBClassifier(base_score=None, booster=None,\n",
       "                                     callbacks=None, colsample_bylevel=None,\n",
       "                                     colsample_bynode=None,\n",
       "                                     colsample_bytree=None,\n",
       "                                     early_stopping_rounds=None,\n",
       "                                     enable_categorical=False, eval_metric=None,\n",
       "                                     feature_types=None, gamma=None,\n",
       "                                     gpu_id=None, grow_policy=None,\n",
       "                                     importance_type=None,\n",
       "                                     interaction_constraints=None,\n",
       "                                     learning_rate=None,...in=None,\n",
       "                                     max_cat_threshold=None,\n",
       "                                     max_cat_to_onehot=None,\n",
       "                                     max_delta_step=None, max_depth=None,\n",
       "                                     max_leaves=None, min_child_weight=None,\n",
       "                                     missing=nan, monotone_constraints=None,\n",
       "                                     n_estimators=100, n_jobs=None,\n",
       "                                     num_parallel_tree=None, predictor=None,\n",
       "                                     random_state=None, ...),\n",
       "             param_grid={&#x27;learning_rate&#x27;: [0.1, 0.01, 0.05],\n",
       "                         &#x27;max_depth&#x27;: [7, 9, 11],\n",
       "                         &#x27;n_estimators&#x27;: [100, 200, 300]})</pre><b>In a Jupyter environment, please rerun this cell to show the HTML representation or trust the notebook. <br />On GitHub, the HTML representation is unable to render, please try loading this page with nbviewer.org.</b></div><div class=\"sk-container\" hidden><div class=\"sk-item sk-dashed-wrapped\"><div class=\"sk-label-container\"><div class=\"sk-label sk-toggleable\"><input class=\"sk-toggleable__control sk-hidden--visually\" id=\"sk-estimator-id-6\" type=\"checkbox\" ><label for=\"sk-estimator-id-6\" class=\"sk-toggleable__label sk-toggleable__label-arrow\">GridSearchCV</label><div class=\"sk-toggleable__content\"><pre>GridSearchCV(cv=3,\n",
       "             estimator=XGBClassifier(base_score=None, booster=None,\n",
       "                                     callbacks=None, colsample_bylevel=None,\n",
       "                                     colsample_bynode=None,\n",
       "                                     colsample_bytree=None,\n",
       "                                     early_stopping_rounds=None,\n",
       "                                     enable_categorical=False, eval_metric=None,\n",
       "                                     feature_types=None, gamma=None,\n",
       "                                     gpu_id=None, grow_policy=None,\n",
       "                                     importance_type=None,\n",
       "                                     interaction_constraints=None,\n",
       "                                     learning_rate=None,...in=None,\n",
       "                                     max_cat_threshold=None,\n",
       "                                     max_cat_to_onehot=None,\n",
       "                                     max_delta_step=None, max_depth=None,\n",
       "                                     max_leaves=None, min_child_weight=None,\n",
       "                                     missing=nan, monotone_constraints=None,\n",
       "                                     n_estimators=100, n_jobs=None,\n",
       "                                     num_parallel_tree=None, predictor=None,\n",
       "                                     random_state=None, ...),\n",
       "             param_grid={&#x27;learning_rate&#x27;: [0.1, 0.01, 0.05],\n",
       "                         &#x27;max_depth&#x27;: [7, 9, 11],\n",
       "                         &#x27;n_estimators&#x27;: [100, 200, 300]})</pre></div></div></div><div class=\"sk-parallel\"><div class=\"sk-parallel-item\"><div class=\"sk-item\"><div class=\"sk-label-container\"><div class=\"sk-label sk-toggleable\"><input class=\"sk-toggleable__control sk-hidden--visually\" id=\"sk-estimator-id-7\" type=\"checkbox\" ><label for=\"sk-estimator-id-7\" class=\"sk-toggleable__label sk-toggleable__label-arrow\">estimator: XGBClassifier</label><div class=\"sk-toggleable__content\"><pre>XGBClassifier(base_score=None, booster=None, callbacks=None,\n",
       "              colsample_bylevel=None, colsample_bynode=None,\n",
       "              colsample_bytree=None, early_stopping_rounds=None,\n",
       "              enable_categorical=False, eval_metric=None, feature_types=None,\n",
       "              gamma=None, gpu_id=None, grow_policy=None, importance_type=None,\n",
       "              interaction_constraints=None, learning_rate=None, max_bin=None,\n",
       "              max_cat_threshold=None, max_cat_to_onehot=None,\n",
       "              max_delta_step=None, max_depth=None, max_leaves=None,\n",
       "              min_child_weight=None, missing=nan, monotone_constraints=None,\n",
       "              n_estimators=100, n_jobs=None, num_parallel_tree=None,\n",
       "              predictor=None, random_state=None, ...)</pre></div></div></div><div class=\"sk-serial\"><div class=\"sk-item\"><div class=\"sk-estimator sk-toggleable\"><input class=\"sk-toggleable__control sk-hidden--visually\" id=\"sk-estimator-id-8\" type=\"checkbox\" ><label for=\"sk-estimator-id-8\" class=\"sk-toggleable__label sk-toggleable__label-arrow\">XGBClassifier</label><div class=\"sk-toggleable__content\"><pre>XGBClassifier(base_score=None, booster=None, callbacks=None,\n",
       "              colsample_bylevel=None, colsample_bynode=None,\n",
       "              colsample_bytree=None, early_stopping_rounds=None,\n",
       "              enable_categorical=False, eval_metric=None, feature_types=None,\n",
       "              gamma=None, gpu_id=None, grow_policy=None, importance_type=None,\n",
       "              interaction_constraints=None, learning_rate=None, max_bin=None,\n",
       "              max_cat_threshold=None, max_cat_to_onehot=None,\n",
       "              max_delta_step=None, max_depth=None, max_leaves=None,\n",
       "              min_child_weight=None, missing=nan, monotone_constraints=None,\n",
       "              n_estimators=100, n_jobs=None, num_parallel_tree=None,\n",
       "              predictor=None, random_state=None, ...)</pre></div></div></div></div></div></div></div></div></div></div>"
      ],
      "text/plain": [
       "GridSearchCV(cv=3,\n",
       "             estimator=XGBClassifier(base_score=None, booster=None,\n",
       "                                     callbacks=None, colsample_bylevel=None,\n",
       "                                     colsample_bynode=None,\n",
       "                                     colsample_bytree=None,\n",
       "                                     early_stopping_rounds=None,\n",
       "                                     enable_categorical=False, eval_metric=None,\n",
       "                                     feature_types=None, gamma=None,\n",
       "                                     gpu_id=None, grow_policy=None,\n",
       "                                     importance_type=None,\n",
       "                                     interaction_constraints=None,\n",
       "                                     learning_rate=None,...in=None,\n",
       "                                     max_cat_threshold=None,\n",
       "                                     max_cat_to_onehot=None,\n",
       "                                     max_delta_step=None, max_depth=None,\n",
       "                                     max_leaves=None, min_child_weight=None,\n",
       "                                     missing=nan, monotone_constraints=None,\n",
       "                                     n_estimators=100, n_jobs=None,\n",
       "                                     num_parallel_tree=None, predictor=None,\n",
       "                                     random_state=None, ...),\n",
       "             param_grid={'learning_rate': [0.1, 0.01, 0.05],\n",
       "                         'max_depth': [7, 9, 11],\n",
       "                         'n_estimators': [100, 200, 300]})"
      ]
     },
     "execution_count": 55,
     "metadata": {},
     "output_type": "execute_result"
    }
   ],
   "source": [
    "%%time\n",
    "grid_search_xgb.fit(X_train, y_train)"
   ]
  },
  {
   "cell_type": "code",
   "execution_count": 56,
   "id": "8bd6a582-622d-4709-963a-cf7c8691dcea",
   "metadata": {},
   "outputs": [
    {
     "name": "stdout",
     "output_type": "stream",
     "text": [
      "Mejor conjunto de parámetros:  {'learning_rate': 0.05, 'max_depth': 7, 'n_estimators': 100}\n",
      "Mejor puntaje:  0.7976704055220017\n"
     ]
    }
   ],
   "source": [
    "print(\"Mejor conjunto de parámetros: \", grid_search_xgb.best_params_)\n",
    "print(\"Mejor puntaje: \", grid_search_xgb.best_score_)"
   ]
  },
  {
   "cell_type": "code",
   "execution_count": 57,
   "id": "27c88c84-49f7-40c8-badd-909c97a070a5",
   "metadata": {},
   "outputs": [],
   "source": [
    "y_pred_xgb_gs = grid_search_xgb.predict(X_test)"
   ]
  },
  {
   "cell_type": "code",
   "execution_count": 58,
   "id": "37f4f401-93b2-4d42-af03-6fac86a01cf8",
   "metadata": {},
   "outputs": [
    {
     "name": "stdout",
     "output_type": "stream",
     "text": [
      "              precision    recall  f1-score   support\n",
      "\n",
      "           0       0.77      0.81      0.79       836\n",
      "           1       0.81      0.77      0.79       903\n",
      "\n",
      "    accuracy                           0.79      1739\n",
      "   macro avg       0.79      0.79      0.79      1739\n",
      "weighted avg       0.79      0.79      0.79      1739\n",
      "\n"
     ]
    }
   ],
   "source": [
    "print(classification_report(y_pred_xgb_gs, y_test))"
   ]
  },
  {
   "cell_type": "code",
   "execution_count": 60,
   "id": "86fcbac8-be2f-4509-9013-2bc9eeae36d7",
   "metadata": {},
   "outputs": [
    {
     "data": {
      "image/png": "[encoded data removed]",
      "text/plain": [
       "<Figure size 500x300 with 2 Axes>"
      ]
     },
     "metadata": {},
     "output_type": "display_data"
    }
   ],
   "source": [
    "plt.subplots(figsize=(5, 3))\n",
    "sns.heatmap((confusion_matrix(y_pred_xgb_gs, y_test)/len(X_test))*100, annot=True)\n",
    "plt.show()"
   ]
  },
  {
   "cell_type": "markdown",
   "id": "d9cffe71-00b2-43e3-a4e9-05e2c542b009",
   "metadata": {},
   "source": [
    "### **3. Bagging**"
   ]
  },
  {
   "cell_type": "code",
   "execution_count": 61,
   "id": "bf04c49a-3b86-49f0-ae79-6f69c1e8a365",
   "metadata": {},
   "outputs": [],
   "source": [
    "decision_tree = DecisionTreeClassifier()"
   ]
  },
  {
   "cell_type": "code",
   "execution_count": 62,
   "id": "33fe198d-a0a1-4bdf-be92-afaa12b0adae",
   "metadata": {},
   "outputs": [],
   "source": [
    "bagging = BaggingClassifier(base_estimator=decision_tree, n_estimators=100, random_state=0)"
   ]
  },
  {
   "cell_type": "code",
   "execution_count": 63,
   "id": "7f662892-ab83-49d6-9239-305def5fff35",
   "metadata": {},
   "outputs": [
    {
     "data": {
      "text/html": [
       "<style>#sk-container-id-5 {color: black;background-color: white;}#sk-container-id-5 pre{padding: 0;}#sk-container-id-5 div.sk-toggleable {background-color: white;}#sk-container-id-5 label.sk-toggleable__label {cursor: pointer;display: block;width: 100%;margin-bottom: 0;padding: 0.3em;box-sizing: border-box;text-align: center;}#sk-container-id-5 label.sk-toggleable__label-arrow:before {content: \"▸\";float: left;margin-right: 0.25em;color: #696969;}#sk-container-id-5 label.sk-toggleable__label-arrow:hover:before {color: black;}#sk-container-id-5 div.sk-estimator:hover label.sk-toggleable__label-arrow:before {color: black;}#sk-container-id-5 div.sk-toggleable__content {max-height: 0;max-width: 0;overflow: hidden;text-align: left;background-color: #f0f8ff;}#sk-container-id-5 div.sk-toggleable__content pre {margin: 0.2em;color: black;border-radius: 0.25em;background-color: #f0f8ff;}#sk-container-id-5 input.sk-toggleable__control:checked~div.sk-toggleable__content {max-height: 200px;max-width: 100%;overflow: auto;}#sk-container-id-5 input.sk-toggleable__control:checked~label.sk-toggleable__label-arrow:before {content: \"▾\";}#sk-container-id-5 div.sk-estimator input.sk-toggleable__control:checked~label.sk-toggleable__label {background-color: #d4ebff;}#sk-container-id-5 div.sk-label input.sk-toggleable__control:checked~label.sk-toggleable__label {background-color: #d4ebff;}#sk-container-id-5 input.sk-hidden--visually {border: 0;clip: rect(1px 1px 1px 1px);clip: rect(1px, 1px, 1px, 1px);height: 1px;margin: -1px;overflow: hidden;padding: 0;position: absolute;width: 1px;}#sk-container-id-5 div.sk-estimator {font-family: monospace;background-color: #f0f8ff;border: 1px dotted black;border-radius: 0.25em;box-sizing: border-box;margin-bottom: 0.5em;}#sk-container-id-5 div.sk-estimator:hover {background-color: #d4ebff;}#sk-container-id-5 div.sk-parallel-item::after {content: \"\";width: 100%;border-bottom: 1px solid gray;flex-grow: 1;}#sk-container-id-5 div.sk-label:hover label.sk-toggleable__label {background-color: #d4ebff;}#sk-container-id-5 div.sk-serial::before {content: \"\";position: absolute;border-left: 1px solid gray;box-sizing: border-box;top: 0;bottom: 0;left: 50%;z-index: 0;}#sk-container-id-5 div.sk-serial {display: flex;flex-direction: column;align-items: center;background-color: white;padding-right: 0.2em;padding-left: 0.2em;position: relative;}#sk-container-id-5 div.sk-item {position: relative;z-index: 1;}#sk-container-id-5 div.sk-parallel {display: flex;align-items: stretch;justify-content: center;background-color: white;position: relative;}#sk-container-id-5 div.sk-item::before, #sk-container-id-5 div.sk-parallel-item::before {content: \"\";position: absolute;border-left: 1px solid gray;box-sizing: border-box;top: 0;bottom: 0;left: 50%;z-index: -1;}#sk-container-id-5 div.sk-parallel-item {display: flex;flex-direction: column;z-index: 1;position: relative;background-color: white;}#sk-container-id-5 div.sk-parallel-item:first-child::after {align-self: flex-end;width: 50%;}#sk-container-id-5 div.sk-parallel-item:last-child::after {align-self: flex-start;width: 50%;}#sk-container-id-5 div.sk-parallel-item:only-child::after {width: 0;}#sk-container-id-5 div.sk-dashed-wrapped {border: 1px dashed gray;margin: 0 0.4em 0.5em 0.4em;box-sizing: border-box;padding-bottom: 0.4em;background-color: white;}#sk-container-id-5 div.sk-label label {font-family: monospace;font-weight: bold;display: inline-block;line-height: 1.2em;}#sk-container-id-5 div.sk-label-container {text-align: center;}#sk-container-id-5 div.sk-container {/* jupyter's `normalize.less` sets `[hidden] { display: none; }` but bootstrap.min.css set `[hidden] { display: none !important; }` so we also need the `!important` here to be able to override the default hidden behavior on the sphinx rendered scikit-learn.org. See: https://github.com/scikit-learn/scikit-learn/issues/21755 */display: inline-block !important;position: relative;}#sk-container-id-5 div.sk-text-repr-fallback {display: none;}</style><div id=\"sk-container-id-5\" class=\"sk-top-container\"><div class=\"sk-text-repr-fallback\"><pre>BaggingClassifier(base_estimator=DecisionTreeClassifier(), n_estimators=100,\n",
       "                  random_state=0)</pre><b>In a Jupyter environment, please rerun this cell to show the HTML representation or trust the notebook. <br />On GitHub, the HTML representation is unable to render, please try loading this page with nbviewer.org.</b></div><div class=\"sk-container\" hidden><div class=\"sk-item sk-dashed-wrapped\"><div class=\"sk-label-container\"><div class=\"sk-label sk-toggleable\"><input class=\"sk-toggleable__control sk-hidden--visually\" id=\"sk-estimator-id-9\" type=\"checkbox\" ><label for=\"sk-estimator-id-9\" class=\"sk-toggleable__label sk-toggleable__label-arrow\">BaggingClassifier</label><div class=\"sk-toggleable__content\"><pre>BaggingClassifier(base_estimator=DecisionTreeClassifier(), n_estimators=100,\n",
       "                  random_state=0)</pre></div></div></div><div class=\"sk-parallel\"><div class=\"sk-parallel-item\"><div class=\"sk-item\"><div class=\"sk-label-container\"><div class=\"sk-label sk-toggleable\"><input class=\"sk-toggleable__control sk-hidden--visually\" id=\"sk-estimator-id-10\" type=\"checkbox\" ><label for=\"sk-estimator-id-10\" class=\"sk-toggleable__label sk-toggleable__label-arrow\">base_estimator: DecisionTreeClassifier</label><div class=\"sk-toggleable__content\"><pre>DecisionTreeClassifier()</pre></div></div></div><div class=\"sk-serial\"><div class=\"sk-item\"><div class=\"sk-estimator sk-toggleable\"><input class=\"sk-toggleable__control sk-hidden--visually\" id=\"sk-estimator-id-11\" type=\"checkbox\" ><label for=\"sk-estimator-id-11\" class=\"sk-toggleable__label sk-toggleable__label-arrow\">DecisionTreeClassifier</label><div class=\"sk-toggleable__content\"><pre>DecisionTreeClassifier()</pre></div></div></div></div></div></div></div></div></div></div>"
      ],
      "text/plain": [
       "BaggingClassifier(base_estimator=DecisionTreeClassifier(), n_estimators=100,\n",
       "                  random_state=0)"
      ]
     },
     "execution_count": 63,
     "metadata": {},
     "output_type": "execute_result"
    }
   ],
   "source": [
    "bagging.fit(X_train, y_train)"
   ]
  },
  {
   "cell_type": "code",
   "execution_count": 67,
   "id": "f4e9a2ce-650d-4096-8952-26a48c53d315",
   "metadata": {},
   "outputs": [],
   "source": [
    "y_pred_bagg = bagging.predict(X_test)"
   ]
  },
  {
   "cell_type": "code",
   "execution_count": 68,
   "id": "ea1ddd50-c990-41cd-8c28-a32c36560193",
   "metadata": {},
   "outputs": [
    {
     "name": "stdout",
     "output_type": "stream",
     "text": [
      "              precision    recall  f1-score   support\n",
      "\n",
      "           0       0.81      0.79      0.80       895\n",
      "           1       0.79      0.80      0.79       844\n",
      "\n",
      "    accuracy                           0.80      1739\n",
      "   macro avg       0.80      0.80      0.80      1739\n",
      "weighted avg       0.80      0.80      0.80      1739\n",
      "\n"
     ]
    }
   ],
   "source": [
    "print(classification_report(y_pred_bagg, y_test))"
   ]
  },
  {
   "cell_type": "code",
   "execution_count": 69,
   "id": "3fa3f7ef-9012-4cad-94ac-ad5d3a8db133",
   "metadata": {},
   "outputs": [
    {
     "data": {
      "image/png": "[encoded data removed]",
      "text/plain": [
       "<Figure size 500x300 with 2 Axes>"
      ]
     },
     "metadata": {},
     "output_type": "display_data"
    }
   ],
   "source": [
    "plt.subplots(figsize=(5, 3))\n",
    "sns.heatmap((confusion_matrix(y_pred_bagg, y_test)/len(X_test))*100, annot=True)\n",
    "plt.show()"
   ]
  },
  {
   "cell_type": "code",
   "execution_count": 70,
   "id": "4af9aa15-f448-47a3-ac04-88bb36be8672",
   "metadata": {},
   "outputs": [],
   "source": [
    "accuracy = accuracy_score(y_pred_bagg, y_test)"
   ]
  },
  {
   "cell_type": "code",
   "execution_count": 71,
   "id": "1548d570-b8b9-4c9f-9023-9fa5a91865ee",
   "metadata": {},
   "outputs": [
    {
     "data": {
      "text/plain": [
       "0.79700977573318"
      ]
     },
     "execution_count": 71,
     "metadata": {},
     "output_type": "execute_result"
    }
   ],
   "source": [
    "accuracy"
   ]
  },
  {
   "cell_type": "markdown",
   "id": "6fb286d1-4802-4f83-8fa0-2e16f96b02a3",
   "metadata": {},
   "source": [
    "## **Modelo en dos fases**"
   ]
  },
  {
   "cell_type": "code",
   "execution_count": 95,
   "id": "3115bfa6-492e-4ce0-a830-2de33132005f",
   "metadata": {},
   "outputs": [],
   "source": [
    "df = pd.merge(X.reset_index(), train_df[['Transported']].reset_index(), how='left')"
   ]
  },
  {
   "cell_type": "code",
   "execution_count": 96,
   "id": "499fe655-3334-448b-a12c-48a947646d1e",
   "metadata": {},
   "outputs": [],
   "source": [
    "df.drop('index', axis=1, inplace=True)"
   ]
  },
  {
   "cell_type": "code",
   "execution_count": 97,
   "id": "52c56d11-4d1a-443f-b2e2-a07eb1b83e9e",
   "metadata": {},
   "outputs": [],
   "source": [
    "df_0 = df.query('CryoSleep == 0').copy()\n",
    "df_1 = df.query('CryoSleep == 1').copy()"
   ]
  },
  {
   "cell_type": "code",
   "execution_count": 98,
   "id": "b109bed9-a4b6-4adf-90cf-04c0a0d0a3a8",
   "metadata": {},
   "outputs": [],
   "source": [
    "X_0 = df_0.drop('Transported', axis=1)\n",
    "X_1 = df_1.drop('Transported', axis=1)"
   ]
  },
  {
   "cell_type": "code",
   "execution_count": 99,
   "id": "cdbdf057-5195-4b99-af7e-05e5e7aec642",
   "metadata": {},
   "outputs": [],
   "source": [
    "y_0 = df_0['Transported']\n",
    "y_1 = df_1['Transported']"
   ]
  },
  {
   "cell_type": "code",
   "execution_count": 100,
   "id": "1d37f3d6-db6b-4264-80e2-51f7db651d53",
   "metadata": {},
   "outputs": [],
   "source": [
    "X_0_train, X_0_test, y_0_train, y_0_test = train_test_split(X_0, y_0, random_state=13, train_size=0.8)\n",
    "X_1_train, X_1_test, y_1_train, y_1_test = train_test_split(X_1, y_1, random_state=13, train_size=0.8)"
   ]
  },
  {
   "cell_type": "markdown",
   "id": "b0fad087-b3a3-4ce6-9446-f926aa3d1a46",
   "metadata": {},
   "source": [
    "### **1. Random Forest**"
   ]
  },
  {
   "cell_type": "code",
   "execution_count": 101,
   "id": "ac77fe39-8c18-4e61-9ac0-187d950ee7b0",
   "metadata": {},
   "outputs": [],
   "source": [
    "random_forest_0 = RandomForestClassifier(random_state=13)\n",
    "random_forest_1 = RandomForestClassifier(random_state=13)"
   ]
  },
  {
   "cell_type": "code",
   "execution_count": 103,
   "id": "0a666991-cd07-4a92-98b4-f5a5f8ccdd08",
   "metadata": {},
   "outputs": [
    {
     "data": {
      "text/html": [
       "<style>#sk-container-id-6 {color: black;background-color: white;}#sk-container-id-6 pre{padding: 0;}#sk-container-id-6 div.sk-toggleable {background-color: white;}#sk-container-id-6 label.sk-toggleable__label {cursor: pointer;display: block;width: 100%;margin-bottom: 0;padding: 0.3em;box-sizing: border-box;text-align: center;}#sk-container-id-6 label.sk-toggleable__label-arrow:before {content: \"▸\";float: left;margin-right: 0.25em;color: #696969;}#sk-container-id-6 label.sk-toggleable__label-arrow:hover:before {color: black;}#sk-container-id-6 div.sk-estimator:hover label.sk-toggleable__label-arrow:before {color: black;}#sk-container-id-6 div.sk-toggleable__content {max-height: 0;max-width: 0;overflow: hidden;text-align: left;background-color: #f0f8ff;}#sk-container-id-6 div.sk-toggleable__content pre {margin: 0.2em;color: black;border-radius: 0.25em;background-color: #f0f8ff;}#sk-container-id-6 input.sk-toggleable__control:checked~div.sk-toggleable__content {max-height: 200px;max-width: 100%;overflow: auto;}#sk-container-id-6 input.sk-toggleable__control:checked~label.sk-toggleable__label-arrow:before {content: \"▾\";}#sk-container-id-6 div.sk-estimator input.sk-toggleable__control:checked~label.sk-toggleable__label {background-color: #d4ebff;}#sk-container-id-6 div.sk-label input.sk-toggleable__control:checked~label.sk-toggleable__label {background-color: #d4ebff;}#sk-container-id-6 input.sk-hidden--visually {border: 0;clip: rect(1px 1px 1px 1px);clip: rect(1px, 1px, 1px, 1px);height: 1px;margin: -1px;overflow: hidden;padding: 0;position: absolute;width: 1px;}#sk-container-id-6 div.sk-estimator {font-family: monospace;background-color: #f0f8ff;border: 1px dotted black;border-radius: 0.25em;box-sizing: border-box;margin-bottom: 0.5em;}#sk-container-id-6 div.sk-estimator:hover {background-color: #d4ebff;}#sk-container-id-6 div.sk-parallel-item::after {content: \"\";width: 100%;border-bottom: 1px solid gray;flex-grow: 1;}#sk-container-id-6 div.sk-label:hover label.sk-toggleable__label {background-color: #d4ebff;}#sk-container-id-6 div.sk-serial::before {content: \"\";position: absolute;border-left: 1px solid gray;box-sizing: border-box;top: 0;bottom: 0;left: 50%;z-index: 0;}#sk-container-id-6 div.sk-serial {display: flex;flex-direction: column;align-items: center;background-color: white;padding-right: 0.2em;padding-left: 0.2em;position: relative;}#sk-container-id-6 div.sk-item {position: relative;z-index: 1;}#sk-container-id-6 div.sk-parallel {display: flex;align-items: stretch;justify-content: center;background-color: white;position: relative;}#sk-container-id-6 div.sk-item::before, #sk-container-id-6 div.sk-parallel-item::before {content: \"\";position: absolute;border-left: 1px solid gray;box-sizing: border-box;top: 0;bottom: 0;left: 50%;z-index: -1;}#sk-container-id-6 div.sk-parallel-item {display: flex;flex-direction: column;z-index: 1;position: relative;background-color: white;}#sk-container-id-6 div.sk-parallel-item:first-child::after {align-self: flex-end;width: 50%;}#sk-container-id-6 div.sk-parallel-item:last-child::after {align-self: flex-start;width: 50%;}#sk-container-id-6 div.sk-parallel-item:only-child::after {width: 0;}#sk-container-id-6 div.sk-dashed-wrapped {border: 1px dashed gray;margin: 0 0.4em 0.5em 0.4em;box-sizing: border-box;padding-bottom: 0.4em;background-color: white;}#sk-container-id-6 div.sk-label label {font-family: monospace;font-weight: bold;display: inline-block;line-height: 1.2em;}#sk-container-id-6 div.sk-label-container {text-align: center;}#sk-container-id-6 div.sk-container {/* jupyter's `normalize.less` sets `[hidden] { display: none; }` but bootstrap.min.css set `[hidden] { display: none !important; }` so we also need the `!important` here to be able to override the default hidden behavior on the sphinx rendered scikit-learn.org. See: https://github.com/scikit-learn/scikit-learn/issues/21755 */display: inline-block !important;position: relative;}#sk-container-id-6 div.sk-text-repr-fallback {display: none;}</style><div id=\"sk-container-id-6\" class=\"sk-top-container\"><div class=\"sk-text-repr-fallback\"><pre>RandomForestClassifier(random_state=13)</pre><b>In a Jupyter environment, please rerun this cell to show the HTML representation or trust the notebook. <br />On GitHub, the HTML representation is unable to render, please try loading this page with nbviewer.org.</b></div><div class=\"sk-container\" hidden><div class=\"sk-item\"><div class=\"sk-estimator sk-toggleable\"><input class=\"sk-toggleable__control sk-hidden--visually\" id=\"sk-estimator-id-12\" type=\"checkbox\" checked><label for=\"sk-estimator-id-12\" class=\"sk-toggleable__label sk-toggleable__label-arrow\">RandomForestClassifier</label><div class=\"sk-toggleable__content\"><pre>RandomForestClassifier(random_state=13)</pre></div></div></div></div></div>"
      ],
      "text/plain": [
       "RandomForestClassifier(random_state=13)"
      ]
     },
     "execution_count": 103,
     "metadata": {},
     "output_type": "execute_result"
    }
   ],
   "source": [
    "random_forest_0.fit(X_0_train.drop('CryoSleep', axis=1), y_0_train)\n",
    "random_forest_1.fit(X_1_train.drop('CryoSleep', axis=1), y_1_train)"
   ]
  },
  {
   "cell_type": "code",
   "execution_count": 104,
   "id": "8913fe9d-73b3-4b48-b343-65408e4380c1",
   "metadata": {},
   "outputs": [],
   "source": [
    "y_pred_0 = random_forest_0.predict(X_0_test.drop('CryoSleep', axis=1))\n",
    "y_pred_1 = random_forest_1.predict(X_1_test.drop('CryoSleep', axis=1))"
   ]
  },
  {
   "cell_type": "code",
   "execution_count": 105,
   "id": "f8467dde-af44-48c2-ae8f-e6ed591e227f",
   "metadata": {},
   "outputs": [
    {
     "name": "stdout",
     "output_type": "stream",
     "text": [
      "              precision    recall  f1-score   support\n",
      "\n",
      "           0       0.88      0.79      0.83       834\n",
      "           1       0.54      0.70      0.61       298\n",
      "\n",
      "    accuracy                           0.77      1132\n",
      "   macro avg       0.71      0.75      0.72      1132\n",
      "weighted avg       0.79      0.77      0.78      1132\n",
      "\n"
     ]
    }
   ],
   "source": [
    "print(classification_report(y_pred_0, y_0_test))"
   ]
  },
  {
   "cell_type": "code",
   "execution_count": 106,
   "id": "57577da7-9fb3-4b62-a322-2628d3dabec2",
   "metadata": {},
   "outputs": [
    {
     "name": "stdout",
     "output_type": "stream",
     "text": [
      "              precision    recall  f1-score   support\n",
      "\n",
      "           0       0.31      0.38      0.34        90\n",
      "           1       0.89      0.85      0.87       518\n",
      "\n",
      "    accuracy                           0.78       608\n",
      "   macro avg       0.60      0.62      0.61       608\n",
      "weighted avg       0.80      0.78      0.79       608\n",
      "\n"
     ]
    }
   ],
   "source": [
    "print(classification_report(y_pred_1, y_1_test))"
   ]
  },
  {
   "cell_type": "code",
   "execution_count": 107,
   "id": "b37fd437-0a56-4cca-b4c9-f346c64dad2b",
   "metadata": {},
   "outputs": [],
   "source": [
    "X_test.reset_index(drop = True, inplace=True)"
   ]
  },
  {
   "cell_type": "code",
   "execution_count": 108,
   "id": "bea0681c-2565-4a6f-895a-c5dc46c2322a",
   "metadata": {},
   "outputs": [],
   "source": [
    "resultados = []\n",
    "\n",
    "for i in range(X_test.shape[0]):\n",
    "    if X_test.iloc[i, 0] == 0:\n",
    "        prediction = random_forest_0.predict(X_test.drop('CryoSleep', axis=1).loc[i:i])[0]\n",
    "        resultados.append(prediction)\n",
    "    elif X_test.iloc[i, 0] == 1:\n",
    "        prediction = random_forest_1.predict(X_test.drop('CryoSleep', axis=1).loc[i:i])[0]\n",
    "        resultados.append(prediction)"
   ]
  },
  {
   "cell_type": "code",
   "execution_count": 109,
   "id": "b203a480-daeb-49af-b1c9-cd6ebd4938f4",
   "metadata": {},
   "outputs": [],
   "source": [
    "y_test_final = np.array(resultados)"
   ]
  },
  {
   "cell_type": "code",
   "execution_count": 110,
   "id": "92e7db78-e6d2-4025-ab8d-ea2bf8300111",
   "metadata": {},
   "outputs": [
    {
     "name": "stdout",
     "output_type": "stream",
     "text": [
      "              precision    recall  f1-score   support\n",
      "\n",
      "           0       0.92      0.94      0.93       862\n",
      "           1       0.94      0.92      0.93       877\n",
      "\n",
      "    accuracy                           0.93      1739\n",
      "   macro avg       0.93      0.93      0.93      1739\n",
      "weighted avg       0.93      0.93      0.93      1739\n",
      "\n"
     ]
    }
   ],
   "source": [
    "print(classification_report(y_test_final, y_test))"
   ]
  },
  {
   "cell_type": "code",
   "execution_count": 111,
   "id": "942d393a-7367-4ef7-a759-fd98c9b9bba3",
   "metadata": {},
   "outputs": [
    {
     "data": {
      "image/png": "[encoded data removed]",
      "text/plain": [
       "<Figure size 640x480 with 2 Axes>"
      ]
     },
     "metadata": {},
     "output_type": "display_data"
    }
   ],
   "source": [
    "sns.heatmap((confusion_matrix(y_test_final, y_test)/len(X_test))*100, annot=True)\n",
    "plt.show()"
   ]
  },
  {
   "cell_type": "code",
   "execution_count": 112,
   "id": "95385731-df86-4fe7-ab5c-cbfc031cdc0c",
   "metadata": {},
   "outputs": [],
   "source": [
    "accuracy = accuracy_score(y_test_final, y_test)"
   ]
  },
  {
   "cell_type": "code",
   "execution_count": 113,
   "id": "cb5272cd-f625-47ee-a4d4-e9e2580e1b5f",
   "metadata": {},
   "outputs": [
    {
     "data": {
      "text/plain": [
       "0.926394479585969"
      ]
     },
     "execution_count": 113,
     "metadata": {},
     "output_type": "execute_result"
    }
   ],
   "source": [
    "accuracy"
   ]
  },
  {
   "cell_type": "markdown",
   "id": "2526003b-fbc2-4d72-9841-a613c9ddf81e",
   "metadata": {},
   "source": [
    "#### **Grid Search**"
   ]
  },
  {
   "cell_type": "code",
   "execution_count": 114,
   "id": "0811e4eb-36a9-43cf-a3dc-9a7b138e0aca",
   "metadata": {},
   "outputs": [],
   "source": [
    "param_grid_rf = {\n",
    "    'n_estimators': [100, 200, 300, 400, 500],\n",
    "    'max_depth': [7, 9, 11],\n",
    "    'min_samples_split': [2, 3, 4, 5]\n",
    "}"
   ]
  },
  {
   "cell_type": "code",
   "execution_count": 115,
   "id": "5426b26d-17e0-47e3-9fc1-01e31b1e6619",
   "metadata": {},
   "outputs": [],
   "source": [
    "rf_model_0 = RandomForestClassifier()\n",
    "rf_model_1 = RandomForestClassifier()\n",
    "\n",
    "grid_search_rf_0 = GridSearchCV(rf_model_0, param_grid_rf, cv=3)\n",
    "grid_search_rf_1 = GridSearchCV(rf_model_1, param_grid_rf, cv=3)"
   ]
  },
  {
   "cell_type": "code",
   "execution_count": null,
   "id": "a732fe80-2926-48b3-8d4d-6b4c098ed271",
   "metadata": {},
   "outputs": [],
   "source": [
    "grid_search_rf_0.fit(X_0_train.drop('CryoSleep', axis=1), y_0_train)\n",
    "grid_search_rf_1.fit(X_1_train.drop('CryoSleep', axis=1), y_1_train)"
   ]
  },
  {
   "cell_type": "code",
   "execution_count": null,
   "id": "679f687e-c197-4325-87ec-2969b5308135",
   "metadata": {},
   "outputs": [],
   "source": [
    "y_pred_gs_0 = grid_search_rf_0.predict(X_0_test.drop('CryoSleep', axis=1))\n",
    "y_pred_gs_1 = grid_search_rf_0.predict(X_1_test.drop('CryoSleep', axis=1))"
   ]
  },
  {
   "cell_type": "code",
   "execution_count": null,
   "id": "bd4d6488-c12b-4b14-a228-9199b5d3b188",
   "metadata": {},
   "outputs": [],
   "source": [
    "print(classification_report(y_pred_gs_0, y_0_test))"
   ]
  },
  {
   "cell_type": "code",
   "execution_count": null,
   "id": "ee32e43a-76ab-4807-807d-8665fd098a5b",
   "metadata": {},
   "outputs": [],
   "source": [
    "print(classification_report(y_pred_gs_1, y_1_test))"
   ]
  },
  {
   "cell_type": "code",
   "execution_count": null,
   "id": "69063c58-f87d-4607-97e4-bf3da491a560",
   "metadata": {},
   "outputs": [],
   "source": [
    "accuracy_0 = accuracy_score(y_pred_gs_0, y_0_test)\n",
    "accuracy_1 = accuracy_score(y_pred_gs_1, y_1_test)"
   ]
  },
  {
   "cell_type": "code",
   "execution_count": null,
   "id": "93119b35-720e-4eda-8545-f0f5e440dd2a",
   "metadata": {},
   "outputs": [],
   "source": [
    "accuracy_0, accuracy_1"
   ]
  },
  {
   "cell_type": "code",
   "execution_count": null,
   "id": "a65f38b3-fd53-483a-a01c-97ab798d7fd4",
   "metadata": {},
   "outputs": [],
   "source": [
    "resultados = []\n",
    "\n",
    "for i in range(X_test.shape[0]):\n",
    "    if X_test.iloc[i, 0] == 0:\n",
    "        prediction = grid_search_rf_0.predict(X_test.drop('CryoSleep', axis=1).loc[i:i])[0]\n",
    "        resultados.append(prediction)\n",
    "    elif X_test.iloc[i, 0] == 1:\n",
    "        prediction = grid_search_rf_1.predict(X_test.drop('CryoSleep', axis=1).loc[i:i])[0]\n",
    "        resultados.append(prediction)"
   ]
  },
  {
   "cell_type": "code",
   "execution_count": null,
   "id": "d6676432-5238-480c-94aa-dbc01d89b07f",
   "metadata": {},
   "outputs": [],
   "source": [
    "y_test_final = np.array(resultados)"
   ]
  },
  {
   "cell_type": "code",
   "execution_count": null,
   "id": "68a5c776-dca0-4105-a550-e11cc718b1b7",
   "metadata": {},
   "outputs": [],
   "source": [
    "print(classification_report(y_test_final, y_test))"
   ]
  },
  {
   "cell_type": "code",
   "execution_count": null,
   "id": "570b0fd3-501e-4947-86e5-03ac79cd24cd",
   "metadata": {},
   "outputs": [],
   "source": [
    "sns.heatmap((confusion_matrix(y_test_final, y_test)/len(X_test))*100, annot=True)\n",
    "plt.show()"
   ]
  },
  {
   "cell_type": "code",
   "execution_count": null,
   "id": "d9a4adcd-226c-48a5-aa48-6a144991c286",
   "metadata": {},
   "outputs": [],
   "source": [
    "accuracy = accuracy_score(y_test_final, y_test)"
   ]
  },
  {
   "cell_type": "code",
   "execution_count": null,
   "id": "a9dee53b-f934-4c72-8976-ed98ef17deb5",
   "metadata": {},
   "outputs": [],
   "source": [
    "accuracy"
   ]
  },
  {
   "cell_type": "markdown",
   "id": "9acb6a11-178c-4933-946c-a2f032907d61",
   "metadata": {},
   "source": [
    "## **Resultados**"
   ]
  },
  {
   "cell_type": "code",
   "execution_count": null,
   "id": "c0f62e12-7f38-4cac-a526-c1e2a9b55b1d",
   "metadata": {},
   "outputs": [],
   "source": [
    "test_kaggle = pd.read_csv('./Datos/test.csv')"
   ]
  },
  {
   "cell_type": "code",
   "execution_count": null,
   "id": "4c0ad3a1-04fb-4cfe-afd4-b60195528734",
   "metadata": {},
   "outputs": [],
   "source": [
    "test_kaggle.sample()"
   ]
  },
  {
   "cell_type": "markdown",
   "id": "411b3a8e-7f49-4845-a4e0-065047e66190",
   "metadata": {},
   "source": [
    "### **Limpieza y Preparación de Datos**"
   ]
  },
  {
   "cell_type": "code",
   "execution_count": null,
   "id": "abd1ed0c-5fec-4057-935f-e68d37b4c8da",
   "metadata": {},
   "outputs": [],
   "source": [
    "# Planeta natal\n",
    "test_kaggle['HomePlanet'].fillna('Unknown', inplace=True)\n",
    "\n",
    "# Sueño criogenico\n",
    "test_kaggle['CryoSleep'].fillna('Unknown', inplace=True)"
   ]
  },
  {
   "cell_type": "code",
   "execution_count": null,
   "id": "88a7b2b3-5223-47f8-b42b-93ef4c1ddc33",
   "metadata": {},
   "outputs": [],
   "source": [
    "def calc_detail_cabin(x, position):\n",
    "\t# Divides la cadena en subcadenas utilizando '/' como separador y devuelve el primer elemento\n",
    "\ttry:\n",
    "\t\treturn x.split('/')[position]        \n",
    "\t# Si ocurre algún error al intentar dividir la cadena, se devuelve la cadena original\n",
    "\texcept:\n",
    "\t\treturn x"
   ]
  },
  {
   "cell_type": "code",
   "execution_count": null,
   "id": "c16002e5-dcee-4ef5-ba31-17c91ddc2232",
   "metadata": {},
   "outputs": [],
   "source": [
    "# Información de la cabina\n",
    "test_kaggle['Cabin'].fillna('Unknown', inplace=True)\n",
    "test_kaggle['Cabin_Type'] = test_kaggle['Cabin'].apply(lambda x: calc_detail_cabin(x, 0))\n",
    "test_kaggle['Cabin_Type_2'] = test_kaggle['Cabin'].apply(lambda x: calc_detail_cabin(x, 2))"
   ]
  },
  {
   "cell_type": "code",
   "execution_count": null,
   "id": "8dc9e4a9-dd77-4b6a-a6cd-f091db4536ff",
   "metadata": {},
   "outputs": [],
   "source": [
    "# Destino\n",
    "test_kaggle['Destination'].fillna('Unknown', inplace=True)"
   ]
  },
  {
   "cell_type": "code",
   "execution_count": null,
   "id": "24b6c136-f7f1-4054-be4b-3986487b6e4c",
   "metadata": {},
   "outputs": [],
   "source": [
    "#Edad\n",
    "test_kaggle['Age'].fillna(round(test_kaggle['Age'].mean()), inplace=True)"
   ]
  },
  {
   "cell_type": "code",
   "execution_count": null,
   "id": "7ad180ce-8028-46a8-bfdf-09a43003cdd2",
   "metadata": {},
   "outputs": [],
   "source": [
    "# VIP\n",
    "test_kaggle['VIP'].fillna('Unknown', inplace=True)"
   ]
  },
  {
   "cell_type": "code",
   "execution_count": null,
   "id": "f736c853-38e7-4759-aacf-e6c1d4a61625",
   "metadata": {},
   "outputs": [],
   "source": [
    "# Variables numéricas $$\n",
    "test_kaggle['RoomService'].fillna(0, inplace=True)\n",
    "test_kaggle['FoodCourt'].fillna(0, inplace=True)\n",
    "test_kaggle['ShoppingMall'].fillna(0, inplace=True)\n",
    "test_kaggle['Spa'].fillna(0, inplace=True)\n",
    "test_kaggle['VRDeck'].fillna(0, inplace=True)"
   ]
  },
  {
   "cell_type": "code",
   "execution_count": null,
   "id": "0646a054-3c46-4849-86a2-0d898cba2bc5",
   "metadata": {},
   "outputs": [],
   "source": [
    "# Eliminamos el nombre\n",
    "test_kaggle.drop('Name', axis= 1, inplace=True)"
   ]
  },
  {
   "cell_type": "markdown",
   "id": "9143c86c-2c42-4fcd-8319-a137635827ee",
   "metadata": {},
   "source": [
    "### **Preparando los datos para el modelo**"
   ]
  },
  {
   "cell_type": "code",
   "execution_count": null,
   "id": "e0043994-4f97-4941-8df4-1a34501933f7",
   "metadata": {},
   "outputs": [],
   "source": [
    "test_kaggle['CryoSleep'].replace([False, True, 'Unknown'], [0, 1, 0], inplace=True)\n",
    "test_kaggle['VIP'].replace([False, True, 'Unknown'], [0, 1, 0], inplace=True)"
   ]
  },
  {
   "cell_type": "code",
   "execution_count": null,
   "id": "b071ba63-86bc-4d41-9dc2-7f90acdb363a",
   "metadata": {},
   "outputs": [],
   "source": [
    "home_planet_dum = pd.get_dummies(test_kaggle['HomePlanet'])\n",
    "destination_dum = pd.get_dummies(test_kaggle['Destination'])\n",
    "cabin_I_dum = pd.get_dummies(test_kaggle['Cabin_Type'])\n",
    "cabin_II_dum = pd.get_dummies(test_kaggle['Cabin_Type_2'])"
   ]
  },
  {
   "cell_type": "code",
   "execution_count": null,
   "id": "14ecefee-3c57-4381-91f5-ed8446191346",
   "metadata": {},
   "outputs": [],
   "source": [
    "X_kaggle = test_kaggle.drop(\n",
    "    ['PassengerId', 'HomePlanet', 'Cabin', 'Destination', 'Cabin_Type', 'Cabin_Type_2'], \n",
    "    axis=1\n",
    ")"
   ]
  },
  {
   "cell_type": "code",
   "execution_count": null,
   "id": "16e03baf-24d9-4d6b-8602-fee1be2d2222",
   "metadata": {},
   "outputs": [],
   "source": [
    "X_kaggle = pd.merge(X_kaggle.reset_index(), home_planet_dum.reset_index(), how='left', left_on='index', right_on='index')\n",
    "X_kaggle = pd.merge(X_kaggle, destination_dum.reset_index(), how='left', left_on='index', right_on='index')\n",
    "X_kaggle = pd.merge(X_kaggle, cabin_I_dum.reset_index(), how='left', left_on='index', right_on='index')\n",
    "X_kaggle = pd.merge(X_kaggle, cabin_II_dum.reset_index(), how='left', left_on='index', right_on='index')"
   ]
  },
  {
   "cell_type": "code",
   "execution_count": null,
   "id": "1296d0b6-1c81-49ca-8e4e-9964b518ab55",
   "metadata": {},
   "outputs": [],
   "source": [
    "X_kaggle.drop(['index', 'Unknown_x', 'Unknown_y', 'Unknown_x', 'Unknown_y'], axis=1, inplace=True)"
   ]
  },
  {
   "cell_type": "code",
   "execution_count": null,
   "id": "4480a65f-9182-47d1-8bf8-a8c1abc838d2",
   "metadata": {},
   "outputs": [],
   "source": [
    "resultados_kaggle = []\n",
    "\n",
    "for i in range(X_kaggle.shape[0]):\n",
    "    if X_kaggle.iloc[i, 0] == 0:\n",
    "        prediction = grid_search_rf_0.predict(X_kaggle.drop('CryoSleep', axis=1).loc[i:i])[0]\n",
    "        resultados_kaggle.append(prediction)\n",
    "    elif X_kaggle.iloc[i, 0] == 1:\n",
    "        prediction = grid_search_rf_1.predict(X_kaggle.drop('CryoSleep', axis=1).loc[i:i])[0]\n",
    "        resultados_kaggle.append(prediction)"
   ]
  },
  {
   "cell_type": "code",
   "execution_count": null,
   "id": "6dac802b-6050-4b49-b1aa-9b1ecbe14e13",
   "metadata": {},
   "outputs": [],
   "source": [
    "prediccion_final_kaggle = pd.DataFrame(resultados_kaggle)\n",
    "prediccion_final_kaggle.columns = ['Transported']"
   ]
  },
  {
   "cell_type": "code",
   "execution_count": null,
   "id": "32b24a96-288f-4923-9868-2094fe3f47a9",
   "metadata": {},
   "outputs": [],
   "source": [
    "final = pd.merge(test_kaggle[['PassengerId']].reset_index(), prediccion_final_kaggle.reset_index())\n",
    "final.drop('index', axis=1, inplace=True)"
   ]
  },
  {
   "cell_type": "code",
   "execution_count": null,
   "id": "ea96843c-e687-4aad-ba35-1c4bfca8317d",
   "metadata": {},
   "outputs": [],
   "source": [
    "final['Transported'] = np.where(final['Transported'] == 1, True, False)"
   ]
  },
  {
   "cell_type": "code",
   "execution_count": null,
   "id": "465c3d0c-5ff0-4044-a244-b08eb2e2d942",
   "metadata": {},
   "outputs": [],
   "source": [
    "final.to_csv('./Datos/Resultados_002.csv', index=False)"
   ]
  },
  {
   "cell_type": "code",
   "execution_count": null,
   "id": "28110103-dfda-4a98-b18e-5f88145f8383",
   "metadata": {},
   "outputs": [],
   "source": []
  }
 ],
 "metadata": {
  "kernelspec": {
   "display_name": "Python 3 (ipykernel)",
   "language": "python",
   "name": "python3"
  },
  "language_info": {
   "codemirror_mode": {
    "name": "ipython",
    "version": 3
   },
   "file_extension": ".py",
   "mimetype": "text/x-python",
   "name": "python",
   "nbconvert_exporter": "python",
   "pygments_lexer": "ipython3",
   "version": "3.8.16"
  }
 },
 "nbformat": 4,
 "nbformat_minor": 5
}
